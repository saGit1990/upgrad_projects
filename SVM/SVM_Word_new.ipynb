{
 "cells": [
  {
   "cell_type": "code",
   "execution_count": 1,
   "metadata": {},
   "outputs": [],
   "source": [
    "# Import the Libraries\n",
    "\n",
    "import numpy as np\n",
    "import pandas as pd\n",
    "from sklearn.svm import SVC\n",
    "from sklearn import metrics\n",
    "from sklearn.metrics import confusion_matrix\n",
    "from sklearn.model_selection import cross_val_score\n",
    "from sklearn.model_selection import GridSearchCV\n",
    "import matplotlib.pyplot as plt\n",
    "import seaborn as sns"
   ]
  },
  {
   "cell_type": "code",
   "execution_count": 2,
   "metadata": {},
   "outputs": [
    {
     "data": {
      "text/html": [
       "<div>\n",
       "<style scoped>\n",
       "    .dataframe tbody tr th:only-of-type {\n",
       "        vertical-align: middle;\n",
       "    }\n",
       "\n",
       "    .dataframe tbody tr th {\n",
       "        vertical-align: top;\n",
       "    }\n",
       "\n",
       "    .dataframe thead th {\n",
       "        text-align: right;\n",
       "    }\n",
       "</style>\n",
       "<table border=\"1\" class=\"dataframe\">\n",
       "  <thead>\n",
       "    <tr style=\"text-align: right;\">\n",
       "      <th></th>\n",
       "      <th>label</th>\n",
       "      <th>pixel0</th>\n",
       "      <th>pixel1</th>\n",
       "      <th>pixel2</th>\n",
       "      <th>pixel3</th>\n",
       "      <th>pixel4</th>\n",
       "      <th>pixel5</th>\n",
       "      <th>pixel6</th>\n",
       "      <th>pixel7</th>\n",
       "      <th>pixel8</th>\n",
       "      <th>...</th>\n",
       "      <th>pixel774</th>\n",
       "      <th>pixel775</th>\n",
       "      <th>pixel776</th>\n",
       "      <th>pixel777</th>\n",
       "      <th>pixel778</th>\n",
       "      <th>pixel779</th>\n",
       "      <th>pixel780</th>\n",
       "      <th>pixel781</th>\n",
       "      <th>pixel782</th>\n",
       "      <th>pixel783</th>\n",
       "    </tr>\n",
       "  </thead>\n",
       "  <tbody>\n",
       "    <tr>\n",
       "      <th>0</th>\n",
       "      <td>1</td>\n",
       "      <td>0</td>\n",
       "      <td>0</td>\n",
       "      <td>0</td>\n",
       "      <td>0</td>\n",
       "      <td>0</td>\n",
       "      <td>0</td>\n",
       "      <td>0</td>\n",
       "      <td>0</td>\n",
       "      <td>0</td>\n",
       "      <td>...</td>\n",
       "      <td>0</td>\n",
       "      <td>0</td>\n",
       "      <td>0</td>\n",
       "      <td>0</td>\n",
       "      <td>0</td>\n",
       "      <td>0</td>\n",
       "      <td>0</td>\n",
       "      <td>0</td>\n",
       "      <td>0</td>\n",
       "      <td>0</td>\n",
       "    </tr>\n",
       "    <tr>\n",
       "      <th>1</th>\n",
       "      <td>0</td>\n",
       "      <td>0</td>\n",
       "      <td>0</td>\n",
       "      <td>0</td>\n",
       "      <td>0</td>\n",
       "      <td>0</td>\n",
       "      <td>0</td>\n",
       "      <td>0</td>\n",
       "      <td>0</td>\n",
       "      <td>0</td>\n",
       "      <td>...</td>\n",
       "      <td>0</td>\n",
       "      <td>0</td>\n",
       "      <td>0</td>\n",
       "      <td>0</td>\n",
       "      <td>0</td>\n",
       "      <td>0</td>\n",
       "      <td>0</td>\n",
       "      <td>0</td>\n",
       "      <td>0</td>\n",
       "      <td>0</td>\n",
       "    </tr>\n",
       "    <tr>\n",
       "      <th>2</th>\n",
       "      <td>1</td>\n",
       "      <td>0</td>\n",
       "      <td>0</td>\n",
       "      <td>0</td>\n",
       "      <td>0</td>\n",
       "      <td>0</td>\n",
       "      <td>0</td>\n",
       "      <td>0</td>\n",
       "      <td>0</td>\n",
       "      <td>0</td>\n",
       "      <td>...</td>\n",
       "      <td>0</td>\n",
       "      <td>0</td>\n",
       "      <td>0</td>\n",
       "      <td>0</td>\n",
       "      <td>0</td>\n",
       "      <td>0</td>\n",
       "      <td>0</td>\n",
       "      <td>0</td>\n",
       "      <td>0</td>\n",
       "      <td>0</td>\n",
       "    </tr>\n",
       "    <tr>\n",
       "      <th>3</th>\n",
       "      <td>4</td>\n",
       "      <td>0</td>\n",
       "      <td>0</td>\n",
       "      <td>0</td>\n",
       "      <td>0</td>\n",
       "      <td>0</td>\n",
       "      <td>0</td>\n",
       "      <td>0</td>\n",
       "      <td>0</td>\n",
       "      <td>0</td>\n",
       "      <td>...</td>\n",
       "      <td>0</td>\n",
       "      <td>0</td>\n",
       "      <td>0</td>\n",
       "      <td>0</td>\n",
       "      <td>0</td>\n",
       "      <td>0</td>\n",
       "      <td>0</td>\n",
       "      <td>0</td>\n",
       "      <td>0</td>\n",
       "      <td>0</td>\n",
       "    </tr>\n",
       "    <tr>\n",
       "      <th>4</th>\n",
       "      <td>0</td>\n",
       "      <td>0</td>\n",
       "      <td>0</td>\n",
       "      <td>0</td>\n",
       "      <td>0</td>\n",
       "      <td>0</td>\n",
       "      <td>0</td>\n",
       "      <td>0</td>\n",
       "      <td>0</td>\n",
       "      <td>0</td>\n",
       "      <td>...</td>\n",
       "      <td>0</td>\n",
       "      <td>0</td>\n",
       "      <td>0</td>\n",
       "      <td>0</td>\n",
       "      <td>0</td>\n",
       "      <td>0</td>\n",
       "      <td>0</td>\n",
       "      <td>0</td>\n",
       "      <td>0</td>\n",
       "      <td>0</td>\n",
       "    </tr>\n",
       "  </tbody>\n",
       "</table>\n",
       "<p>5 rows × 785 columns</p>\n",
       "</div>"
      ],
      "text/plain": [
       "   label  pixel0  pixel1  pixel2  pixel3  pixel4  pixel5  pixel6  pixel7  \\\n",
       "0      1       0       0       0       0       0       0       0       0   \n",
       "1      0       0       0       0       0       0       0       0       0   \n",
       "2      1       0       0       0       0       0       0       0       0   \n",
       "3      4       0       0       0       0       0       0       0       0   \n",
       "4      0       0       0       0       0       0       0       0       0   \n",
       "\n",
       "   pixel8    ...     pixel774  pixel775  pixel776  pixel777  pixel778  \\\n",
       "0       0    ...            0         0         0         0         0   \n",
       "1       0    ...            0         0         0         0         0   \n",
       "2       0    ...            0         0         0         0         0   \n",
       "3       0    ...            0         0         0         0         0   \n",
       "4       0    ...            0         0         0         0         0   \n",
       "\n",
       "   pixel779  pixel780  pixel781  pixel782  pixel783  \n",
       "0         0         0         0         0         0  \n",
       "1         0         0         0         0         0  \n",
       "2         0         0         0         0         0  \n",
       "3         0         0         0         0         0  \n",
       "4         0         0         0         0         0  \n",
       "\n",
       "[5 rows x 785 columns]"
      ]
     },
     "execution_count": 2,
     "metadata": {},
     "output_type": "execute_result"
    }
   ],
   "source": [
    "# Data Import\n",
    "numbers = pd.read_csv('C:/Users/Dell/Desktop/DaTa Science/IIITB/Python/SVM/assignmetn/train.csv')\n",
    "numbers.head()"
   ]
  },
  {
   "cell_type": "code",
   "execution_count": 3,
   "metadata": {},
   "outputs": [
    {
     "name": "stdout",
     "output_type": "stream",
     "text": [
      "('The columns are : ', Index([u'label', u'pixel0', u'pixel1', u'pixel2', u'pixel3', u'pixel4',\n",
      "       u'pixel5', u'pixel6', u'pixel7', u'pixel8',\n",
      "       ...\n",
      "       u'pixel774', u'pixel775', u'pixel776', u'pixel777', u'pixel778',\n",
      "       u'pixel779', u'pixel780', u'pixel781', u'pixel782', u'pixel783'],\n",
      "      dtype='object', length=785))\n",
      "('The dimension is : ', (42000, 785))\n"
     ]
    }
   ],
   "source": [
    "# Some information aboout the data\n",
    "\n",
    "print('The columns are : ', numbers.columns)\n",
    "print('The dimension is : ', numbers.shape)"
   ]
  },
  {
   "cell_type": "code",
   "execution_count": 4,
   "metadata": {},
   "outputs": [
    {
     "name": "stdout",
     "output_type": "stream",
     "text": [
      "[0, 1, 2, 3, 4, 5, 6, 7, 8, 9]\n"
     ]
    }
   ],
   "source": [
    "# checking the labels that we need to predict on test data\n",
    "order = list(np.sort(numbers.label.unique()))\n",
    "print(order)"
   ]
  },
  {
   "cell_type": "code",
   "execution_count": 37,
   "metadata": {},
   "outputs": [
    {
     "data": {
      "text/plain": [
       "label       0\n",
       "pixel516    0\n",
       "pixel517    0\n",
       "pixel518    0\n",
       "pixel519    0\n",
       "pixel520    0\n",
       "pixel521    0\n",
       "pixel522    0\n",
       "pixel523    0\n",
       "pixel524    0\n",
       "pixel515    0\n",
       "pixel525    0\n",
       "pixel527    0\n",
       "pixel528    0\n",
       "pixel529    0\n",
       "pixel530    0\n",
       "pixel531    0\n",
       "pixel532    0\n",
       "pixel533    0\n",
       "pixel534    0\n",
       "pixel535    0\n",
       "pixel526    0\n",
       "pixel514    0\n",
       "pixel513    0\n",
       "pixel512    0\n",
       "pixel491    0\n",
       "pixel492    0\n",
       "pixel493    0\n",
       "pixel494    0\n",
       "pixel495    0\n",
       "           ..\n",
       "pixel288    0\n",
       "pixel289    0\n",
       "pixel290    0\n",
       "pixel269    0\n",
       "pixel390    0\n",
       "pixel268    0\n",
       "pixel266    0\n",
       "pixel245    0\n",
       "pixel246    0\n",
       "pixel247    0\n",
       "pixel248    0\n",
       "pixel249    0\n",
       "pixel250    0\n",
       "pixel251    0\n",
       "pixel252    0\n",
       "pixel253    0\n",
       "pixel254    0\n",
       "pixel255    0\n",
       "pixel256    0\n",
       "pixel257    0\n",
       "pixel258    0\n",
       "pixel259    0\n",
       "pixel260    0\n",
       "pixel261    0\n",
       "pixel262    0\n",
       "pixel263    0\n",
       "pixel264    0\n",
       "pixel265    0\n",
       "pixel267    0\n",
       "pixel783    0\n",
       "Length: 785, dtype: int64"
      ]
     },
     "execution_count": 37,
     "metadata": {},
     "output_type": "execute_result"
    }
   ],
   "source": [
    "# checking for null values\n",
    "\n",
    "numbers.isnull().sum().sort_values(ascending = True)"
   ]
  },
  {
   "cell_type": "code",
   "execution_count": 6,
   "metadata": {},
   "outputs": [
    {
     "data": {
      "text/html": [
       "<div>\n",
       "<style scoped>\n",
       "    .dataframe tbody tr th:only-of-type {\n",
       "        vertical-align: middle;\n",
       "    }\n",
       "\n",
       "    .dataframe tbody tr th {\n",
       "        vertical-align: top;\n",
       "    }\n",
       "\n",
       "    .dataframe thead th {\n",
       "        text-align: right;\n",
       "    }\n",
       "</style>\n",
       "<table border=\"1\" class=\"dataframe\">\n",
       "  <thead>\n",
       "    <tr style=\"text-align: right;\">\n",
       "      <th></th>\n",
       "      <th>label</th>\n",
       "      <th>pixel0</th>\n",
       "      <th>pixel1</th>\n",
       "      <th>pixel2</th>\n",
       "      <th>pixel3</th>\n",
       "      <th>pixel4</th>\n",
       "      <th>pixel5</th>\n",
       "      <th>pixel6</th>\n",
       "      <th>pixel7</th>\n",
       "      <th>pixel8</th>\n",
       "      <th>...</th>\n",
       "      <th>pixel774</th>\n",
       "      <th>pixel775</th>\n",
       "      <th>pixel776</th>\n",
       "      <th>pixel777</th>\n",
       "      <th>pixel778</th>\n",
       "      <th>pixel779</th>\n",
       "      <th>pixel780</th>\n",
       "      <th>pixel781</th>\n",
       "      <th>pixel782</th>\n",
       "      <th>pixel783</th>\n",
       "    </tr>\n",
       "  </thead>\n",
       "  <tbody>\n",
       "    <tr>\n",
       "      <th>count</th>\n",
       "      <td>42000.000000</td>\n",
       "      <td>42000.0</td>\n",
       "      <td>42000.0</td>\n",
       "      <td>42000.0</td>\n",
       "      <td>42000.0</td>\n",
       "      <td>42000.0</td>\n",
       "      <td>42000.0</td>\n",
       "      <td>42000.0</td>\n",
       "      <td>42000.0</td>\n",
       "      <td>42000.0</td>\n",
       "      <td>...</td>\n",
       "      <td>42000.000000</td>\n",
       "      <td>42000.000000</td>\n",
       "      <td>42000.000000</td>\n",
       "      <td>42000.00000</td>\n",
       "      <td>42000.000000</td>\n",
       "      <td>42000.000000</td>\n",
       "      <td>42000.0</td>\n",
       "      <td>42000.0</td>\n",
       "      <td>42000.0</td>\n",
       "      <td>42000.0</td>\n",
       "    </tr>\n",
       "    <tr>\n",
       "      <th>mean</th>\n",
       "      <td>4.456643</td>\n",
       "      <td>0.0</td>\n",
       "      <td>0.0</td>\n",
       "      <td>0.0</td>\n",
       "      <td>0.0</td>\n",
       "      <td>0.0</td>\n",
       "      <td>0.0</td>\n",
       "      <td>0.0</td>\n",
       "      <td>0.0</td>\n",
       "      <td>0.0</td>\n",
       "      <td>...</td>\n",
       "      <td>0.219286</td>\n",
       "      <td>0.117095</td>\n",
       "      <td>0.059024</td>\n",
       "      <td>0.02019</td>\n",
       "      <td>0.017238</td>\n",
       "      <td>0.002857</td>\n",
       "      <td>0.0</td>\n",
       "      <td>0.0</td>\n",
       "      <td>0.0</td>\n",
       "      <td>0.0</td>\n",
       "    </tr>\n",
       "    <tr>\n",
       "      <th>std</th>\n",
       "      <td>2.887730</td>\n",
       "      <td>0.0</td>\n",
       "      <td>0.0</td>\n",
       "      <td>0.0</td>\n",
       "      <td>0.0</td>\n",
       "      <td>0.0</td>\n",
       "      <td>0.0</td>\n",
       "      <td>0.0</td>\n",
       "      <td>0.0</td>\n",
       "      <td>0.0</td>\n",
       "      <td>...</td>\n",
       "      <td>6.312890</td>\n",
       "      <td>4.633819</td>\n",
       "      <td>3.274488</td>\n",
       "      <td>1.75987</td>\n",
       "      <td>1.894498</td>\n",
       "      <td>0.414264</td>\n",
       "      <td>0.0</td>\n",
       "      <td>0.0</td>\n",
       "      <td>0.0</td>\n",
       "      <td>0.0</td>\n",
       "    </tr>\n",
       "    <tr>\n",
       "      <th>min</th>\n",
       "      <td>0.000000</td>\n",
       "      <td>0.0</td>\n",
       "      <td>0.0</td>\n",
       "      <td>0.0</td>\n",
       "      <td>0.0</td>\n",
       "      <td>0.0</td>\n",
       "      <td>0.0</td>\n",
       "      <td>0.0</td>\n",
       "      <td>0.0</td>\n",
       "      <td>0.0</td>\n",
       "      <td>...</td>\n",
       "      <td>0.000000</td>\n",
       "      <td>0.000000</td>\n",
       "      <td>0.000000</td>\n",
       "      <td>0.00000</td>\n",
       "      <td>0.000000</td>\n",
       "      <td>0.000000</td>\n",
       "      <td>0.0</td>\n",
       "      <td>0.0</td>\n",
       "      <td>0.0</td>\n",
       "      <td>0.0</td>\n",
       "    </tr>\n",
       "    <tr>\n",
       "      <th>25%</th>\n",
       "      <td>2.000000</td>\n",
       "      <td>0.0</td>\n",
       "      <td>0.0</td>\n",
       "      <td>0.0</td>\n",
       "      <td>0.0</td>\n",
       "      <td>0.0</td>\n",
       "      <td>0.0</td>\n",
       "      <td>0.0</td>\n",
       "      <td>0.0</td>\n",
       "      <td>0.0</td>\n",
       "      <td>...</td>\n",
       "      <td>0.000000</td>\n",
       "      <td>0.000000</td>\n",
       "      <td>0.000000</td>\n",
       "      <td>0.00000</td>\n",
       "      <td>0.000000</td>\n",
       "      <td>0.000000</td>\n",
       "      <td>0.0</td>\n",
       "      <td>0.0</td>\n",
       "      <td>0.0</td>\n",
       "      <td>0.0</td>\n",
       "    </tr>\n",
       "    <tr>\n",
       "      <th>50%</th>\n",
       "      <td>4.000000</td>\n",
       "      <td>0.0</td>\n",
       "      <td>0.0</td>\n",
       "      <td>0.0</td>\n",
       "      <td>0.0</td>\n",
       "      <td>0.0</td>\n",
       "      <td>0.0</td>\n",
       "      <td>0.0</td>\n",
       "      <td>0.0</td>\n",
       "      <td>0.0</td>\n",
       "      <td>...</td>\n",
       "      <td>0.000000</td>\n",
       "      <td>0.000000</td>\n",
       "      <td>0.000000</td>\n",
       "      <td>0.00000</td>\n",
       "      <td>0.000000</td>\n",
       "      <td>0.000000</td>\n",
       "      <td>0.0</td>\n",
       "      <td>0.0</td>\n",
       "      <td>0.0</td>\n",
       "      <td>0.0</td>\n",
       "    </tr>\n",
       "    <tr>\n",
       "      <th>75%</th>\n",
       "      <td>7.000000</td>\n",
       "      <td>0.0</td>\n",
       "      <td>0.0</td>\n",
       "      <td>0.0</td>\n",
       "      <td>0.0</td>\n",
       "      <td>0.0</td>\n",
       "      <td>0.0</td>\n",
       "      <td>0.0</td>\n",
       "      <td>0.0</td>\n",
       "      <td>0.0</td>\n",
       "      <td>...</td>\n",
       "      <td>0.000000</td>\n",
       "      <td>0.000000</td>\n",
       "      <td>0.000000</td>\n",
       "      <td>0.00000</td>\n",
       "      <td>0.000000</td>\n",
       "      <td>0.000000</td>\n",
       "      <td>0.0</td>\n",
       "      <td>0.0</td>\n",
       "      <td>0.0</td>\n",
       "      <td>0.0</td>\n",
       "    </tr>\n",
       "    <tr>\n",
       "      <th>max</th>\n",
       "      <td>9.000000</td>\n",
       "      <td>0.0</td>\n",
       "      <td>0.0</td>\n",
       "      <td>0.0</td>\n",
       "      <td>0.0</td>\n",
       "      <td>0.0</td>\n",
       "      <td>0.0</td>\n",
       "      <td>0.0</td>\n",
       "      <td>0.0</td>\n",
       "      <td>0.0</td>\n",
       "      <td>...</td>\n",
       "      <td>254.000000</td>\n",
       "      <td>254.000000</td>\n",
       "      <td>253.000000</td>\n",
       "      <td>253.00000</td>\n",
       "      <td>254.000000</td>\n",
       "      <td>62.000000</td>\n",
       "      <td>0.0</td>\n",
       "      <td>0.0</td>\n",
       "      <td>0.0</td>\n",
       "      <td>0.0</td>\n",
       "    </tr>\n",
       "  </tbody>\n",
       "</table>\n",
       "<p>8 rows × 785 columns</p>\n",
       "</div>"
      ],
      "text/plain": [
       "              label   pixel0   pixel1   pixel2   pixel3   pixel4   pixel5  \\\n",
       "count  42000.000000  42000.0  42000.0  42000.0  42000.0  42000.0  42000.0   \n",
       "mean       4.456643      0.0      0.0      0.0      0.0      0.0      0.0   \n",
       "std        2.887730      0.0      0.0      0.0      0.0      0.0      0.0   \n",
       "min        0.000000      0.0      0.0      0.0      0.0      0.0      0.0   \n",
       "25%        2.000000      0.0      0.0      0.0      0.0      0.0      0.0   \n",
       "50%        4.000000      0.0      0.0      0.0      0.0      0.0      0.0   \n",
       "75%        7.000000      0.0      0.0      0.0      0.0      0.0      0.0   \n",
       "max        9.000000      0.0      0.0      0.0      0.0      0.0      0.0   \n",
       "\n",
       "        pixel6   pixel7   pixel8    ...         pixel774      pixel775  \\\n",
       "count  42000.0  42000.0  42000.0    ...     42000.000000  42000.000000   \n",
       "mean       0.0      0.0      0.0    ...         0.219286      0.117095   \n",
       "std        0.0      0.0      0.0    ...         6.312890      4.633819   \n",
       "min        0.0      0.0      0.0    ...         0.000000      0.000000   \n",
       "25%        0.0      0.0      0.0    ...         0.000000      0.000000   \n",
       "50%        0.0      0.0      0.0    ...         0.000000      0.000000   \n",
       "75%        0.0      0.0      0.0    ...         0.000000      0.000000   \n",
       "max        0.0      0.0      0.0    ...       254.000000    254.000000   \n",
       "\n",
       "           pixel776     pixel777      pixel778      pixel779  pixel780  \\\n",
       "count  42000.000000  42000.00000  42000.000000  42000.000000   42000.0   \n",
       "mean       0.059024      0.02019      0.017238      0.002857       0.0   \n",
       "std        3.274488      1.75987      1.894498      0.414264       0.0   \n",
       "min        0.000000      0.00000      0.000000      0.000000       0.0   \n",
       "25%        0.000000      0.00000      0.000000      0.000000       0.0   \n",
       "50%        0.000000      0.00000      0.000000      0.000000       0.0   \n",
       "75%        0.000000      0.00000      0.000000      0.000000       0.0   \n",
       "max      253.000000    253.00000    254.000000     62.000000       0.0   \n",
       "\n",
       "       pixel781  pixel782  pixel783  \n",
       "count   42000.0   42000.0   42000.0  \n",
       "mean        0.0       0.0       0.0  \n",
       "std         0.0       0.0       0.0  \n",
       "min         0.0       0.0       0.0  \n",
       "25%         0.0       0.0       0.0  \n",
       "50%         0.0       0.0       0.0  \n",
       "75%         0.0       0.0       0.0  \n",
       "max         0.0       0.0       0.0  \n",
       "\n",
       "[8 rows x 785 columns]"
      ]
     },
     "execution_count": 6,
     "metadata": {},
     "output_type": "execute_result"
    }
   ],
   "source": [
    "numbers.describe()"
   ]
  },
  {
   "cell_type": "code",
   "execution_count": null,
   "metadata": {},
   "outputs": [],
   "source": [
    "# check for null\n",
    "\n",
    "plt.figure(figsize=(20,20) )\n",
    "sns.heatmap(numbers.corr() , annot = True , linewidth =0.5 , cmap = 'Greens')"
   ]
  },
  {
   "cell_type": "code",
   "execution_count": 7,
   "metadata": {},
   "outputs": [
    {
     "data": {
      "text/plain": [
       "<matplotlib.axes._subplots.AxesSubplot at 0x188e4f60>"
      ]
     },
     "execution_count": 7,
     "metadata": {},
     "output_type": "execute_result"
    },
    {
     "data": {
      "image/png": "[encoded data removed]",
      "text/plain": [
       "<Figure size 432x288 with 1 Axes>"
      ]
     },
     "metadata": {},
     "output_type": "display_data"
    }
   ],
   "source": [
    "# checking the count of unique label in dataset\n",
    "sns.countplot(numbers.label )"
   ]
  },
  {
   "cell_type": "code",
   "execution_count": 8,
   "metadata": {},
   "outputs": [
    {
     "data": {
      "text/plain": [
       "Text(0.5,1,'The Numher')"
      ]
     },
     "execution_count": 8,
     "metadata": {},
     "output_type": "execute_result"
    },
    {
     "data": {
      "image/png": "[encoded data removed]",
      "text/plain": [
       "<Figure size 432x288 with 1 Axes>"
      ]
     },
     "metadata": {},
     "output_type": "display_data"
    }
   ],
   "source": [
    "# plotting the labels\n",
    "\n",
    "dis = numbers.iloc[2,1:]\n",
    "dis = dis.values.reshape(28,28)\n",
    "plt.imshow(dis)\n",
    "plt.title('The Numher')"
   ]
  },
  {
   "cell_type": "code",
   "execution_count": 9,
   "metadata": {},
   "outputs": [
    {
     "data": {
      "text/plain": [
       "Text(0.5,1,'The Numher')"
      ]
     },
     "execution_count": 9,
     "metadata": {},
     "output_type": "execute_result"
    },
    {
     "data": {
      "image/png": "[encoded data removed]",
      "text/plain": [
       "<Figure size 432x288 with 1 Axes>"
      ]
     },
     "metadata": {},
     "output_type": "display_data"
    }
   ],
   "source": [
    "dis_1 = numbers.iloc[55,1:]\n",
    "dis_1 = dis_1.values.reshape(28,28)\n",
    "plt.imshow(dis_1)\n",
    "plt.title('The Numher')"
   ]
  },
  {
   "cell_type": "markdown",
   "metadata": {},
   "source": [
    "**DATA PREPARATION FOR MODELLING**"
   ]
  },
  {
   "cell_type": "code",
   "execution_count": 10,
   "metadata": {},
   "outputs": [
    {
     "name": "stdout",
     "output_type": "stream",
     "text": [
      "((42000L,), (42000, 784))\n"
     ]
    }
   ],
   "source": [
    "y = numbers.label\n",
    "x = numbers.drop(columns = 'label')\n",
    "print(y.shape , x.shape)"
   ]
  },
  {
   "cell_type": "code",
   "execution_count": 11,
   "metadata": {},
   "outputs": [
    {
     "name": "stderr",
     "output_type": "stream",
     "text": [
      "C:\\Users\\Dell\\Anaconda2\\lib\\site-packages\\sklearn\\cross_validation.py:41: DeprecationWarning: This module was deprecated in version 0.18 in favor of the model_selection module into which all the refactored classes and functions are moved. Also note that the interface of the new CV iterators are different from that of this module. This module will be removed in 0.20.\n",
      "  \"This module will be removed in 0.20.\", DeprecationWarning)\n"
     ]
    }
   ],
   "source": [
    "#Test Train split\n",
    "from sklearn.cross_validation import train_test_split\n",
    "x_train, x_test, y_train, y_test = train_test_split(x, y, \n",
    "                                                    train_size=0.3,\n",
    "                                                    test_size = 0.7, random_state=100)\n",
    "\n",
    "# Feature Scaling\n",
    "\n",
    "\n",
    "from sklearn.preprocessing import MinMaxScaler\n",
    "scaler = MinMaxScaler()\n",
    "x_train = scaler.fit_transform(x_train)\n",
    "x_test = scaler.transform(x_test)"
   ]
  },
  {
   "cell_type": "code",
   "execution_count": 12,
   "metadata": {},
   "outputs": [],
   "source": [
    "# linear SVM model with hyperparameter optimization\n",
    "linear_model = SVC(kernel = 'linear')\n",
    "linear_model.fit(x_train , y_train)\n",
    "y_pred = linear_model.predict(x_test)"
   ]
  },
  {
   "cell_type": "code",
   "execution_count": 13,
   "metadata": {},
   "outputs": [
    {
     "name": "stdout",
     "output_type": "stream",
     "text": [
      "('accuracy : ', 0.9201360544217687)\n"
     ]
    }
   ],
   "source": [
    "print('accuracy : ' , metrics.accuracy_score(y_true = y_test , y_pred = y_pred))"
   ]
  },
  {
   "cell_type": "code",
   "execution_count": 14,
   "metadata": {},
   "outputs": [
    {
     "name": "stdout",
     "output_type": "stream",
     "text": [
      "[[2779    0    8    3    8   21   26    1    3    4]\n",
      " [   1 3223   16   13    2    4    1    9   26    7]\n",
      " [  24   15 2648   64   47   10   31   38   50    8]\n",
      " [  20   16   76 2767    2  105    7   13   58   16]\n",
      " [  10   11   15    8 2632    3   10    9    7  101]\n",
      " [  29   14   32  107   29 2364   47    8   49   17]\n",
      " [  35    6   52    3   24   39 2744    0    9    0]\n",
      " [   6   13   38   18   47    5    2 2806    5   86]\n",
      " [  27   48   37  109   22   78   26   14 2444   33]\n",
      " [  18   11    9   28  120   14    1   86   20 2645]]\n"
     ]
    }
   ],
   "source": [
    "print(metrics.confusion_matrix(y_true = y_test , y_pred = y_pred))"
   ]
  },
  {
   "cell_type": "code",
   "execution_count": 15,
   "metadata": {},
   "outputs": [
    {
     "name": "stdout",
     "output_type": "stream",
     "text": [
      "Fitting 5 folds for each of 9 candidates, totalling 45 fits\n"
     ]
    },
    {
     "name": "stderr",
     "output_type": "stream",
     "text": [
      "[Parallel(n_jobs=1)]: Done  45 out of  45 | elapsed: 46.2min finished\n"
     ]
    },
    {
     "data": {
      "text/plain": [
       "GridSearchCV(cv=KFold(n_splits=5, random_state=101, shuffle=True),\n",
       "       error_score='raise',\n",
       "       estimator=SVC(C=1.0, cache_size=200, class_weight=None, coef0=0.0,\n",
       "  decision_function_shape='ovr', degree=3, gamma='auto', kernel='linear',\n",
       "  max_iter=-1, probability=False, random_state=None, shrinking=True,\n",
       "  tol=0.001, verbose=False),\n",
       "       fit_params=None, iid=True, n_jobs=1,\n",
       "       param_grid=[{'C': [1, 10, 100], 'gamma': [0.01, 0.001, 0.0001]}],\n",
       "       pre_dispatch='2*n_jobs', refit=True, return_train_score=True,\n",
       "       scoring='accuracy', verbose=1)"
      ]
     },
     "execution_count": 15,
     "metadata": {},
     "output_type": "execute_result"
    }
   ],
   "source": [
    "# creating a KFold object with 5 splits \n",
    "from sklearn.model_selection import KFold\n",
    "folds = KFold(n_splits = 5, shuffle = True, random_state = 101)\n",
    "\n",
    "# specify range of hyperparameters\n",
    "# Set the parameters by cross-validation\n",
    "hyper_params = [ {'gamma': [1e-2, 1e-3, 1e-4],\n",
    "                     'C': [1, 10, 100]}]\n",
    "\n",
    "\n",
    "# specify model\n",
    "model_1= SVC(kernel=\"linear\")\n",
    "\n",
    "# set up GridSearchCV()\n",
    "model_cv_linear = GridSearchCV(estimator = model_1, \n",
    "                        param_grid = hyper_params, \n",
    "                        scoring= 'accuracy', \n",
    "                        cv = folds, \n",
    "                        verbose = 1,\n",
    "                        return_train_score=True)      \n",
    "\n",
    "# fit the model\n",
    "model_cv_linear.fit(x_train, y_train)"
   ]
  },
  {
   "cell_type": "code",
   "execution_count": 16,
   "metadata": {},
   "outputs": [
    {
     "data": {
      "image/png": "[encoded data removed]",
      "text/plain": [
       "<Figure size 1152x432 with 3 Axes>"
      ]
     },
     "metadata": {},
     "output_type": "display_data"
    }
   ],
   "source": [
    "cv_results_linear = pd.DataFrame(model_cv_linear.cv_results_)\n",
    "\n",
    "# converting C to numeric type for plotting on x-axis\n",
    "cv_results_linear['param_C'] = cv_results_linear['param_C'].astype('int')\n",
    "\n",
    "# # plotting\n",
    "plt.figure(figsize=(16,6))\n",
    "\n",
    "# subplot 1/3\n",
    "plt.subplot(131)\n",
    "gamma_01 = cv_results_linear[cv_results_linear['param_gamma']==0.01]\n",
    "\n",
    "plt.plot(gamma_01[\"param_C\"], gamma_01[\"mean_test_score\"])\n",
    "plt.plot(gamma_01[\"param_C\"], gamma_01[\"mean_train_score\"])\n",
    "plt.xlabel('C')\n",
    "plt.ylabel('Accuracy')\n",
    "plt.title(\"Gamma=0.01\")\n",
    "plt.ylim([0.60, 1])\n",
    "plt.legend(['test accuracy', 'train accuracy'], loc='upper left')\n",
    "plt.xscale('log')\n",
    "\n",
    "# subplot 2/3\n",
    "plt.subplot(132)\n",
    "gamma_001 = cv_results_linear[cv_results_linear['param_gamma']==0.001]\n",
    "\n",
    "plt.plot(gamma_001[\"param_C\"], gamma_001[\"mean_test_score\"])\n",
    "plt.plot(gamma_001[\"param_C\"], gamma_001[\"mean_train_score\"])\n",
    "plt.xlabel('C')\n",
    "plt.ylabel('Accuracy')\n",
    "plt.title(\"Gamma=0.001\")\n",
    "plt.ylim([0.60, 1])\n",
    "plt.legend(['test accuracy', 'train accuracy'], loc='upper left')\n",
    "plt.xscale('log')\n",
    "\n",
    "\n",
    "# subplot 3/3\n",
    "plt.subplot(133)\n",
    "gamma_0001 = cv_results_linear[cv_results_linear['param_gamma']==0.0001]\n",
    "\n",
    "plt.plot(gamma_0001[\"param_C\"], gamma_0001[\"mean_test_score\"])\n",
    "plt.plot(gamma_0001[\"param_C\"], gamma_0001[\"mean_train_score\"])\n",
    "plt.xlabel('C')\n",
    "plt.ylabel('Accuracy')\n",
    "plt.title(\"Gamma=0.0001\")\n",
    "plt.ylim([0.60, 1])\n",
    "plt.legend(['test accuracy', 'train accuracy'], loc='upper left')\n",
    "plt.xscale('log')"
   ]
  },
  {
   "cell_type": "code",
   "execution_count": 17,
   "metadata": {},
   "outputs": [
    {
     "name": "stdout",
     "output_type": "stream",
     "text": [
      "('accuracy', 0.9127551020408163)\n",
      "[[2776    0    8    4    9   23   26    1    3    3]\n",
      " [   1 3223   16   14    2    3    1    9   26    7]\n",
      " [  24   17 2637   72   47   10   31   39   50    8]\n",
      " [  20   17   80 2744    2  118    7   10   65   17]\n",
      " [   8   11   15    8 2639    5   10   10    7   93]\n",
      " [  31   15   34  121   27 2327   47    9   67   18]\n",
      " [  35    6   58    1   25   41 2738    0    8    0]\n",
      " [   6   13   43   18   47    5    2 2773    6  113]\n",
      " [  29   55   44  130   19   92   27   19 2399   24]\n",
      " [  19    9    9   29  144   12    1  131   19 2579]]\n"
     ]
    }
   ],
   "source": [
    "linear_model_1 = SVC(C = 10 , gamma = 0.01, kernel = 'linear')\n",
    "linear_model_1.fit(x_train , y_train)\n",
    "y_pred_linear = linear_model_1.predict(x_test)\n",
    "\n",
    "# metrics\n",
    "print(\"accuracy\", metrics.accuracy_score(y_test, y_pred_linear))\n",
    "print(metrics.confusion_matrix(y_test, y_pred_linear))"
   ]
  },
  {
   "cell_type": "markdown",
   "metadata": {},
   "source": [
    "**The linear model gives approx. 92% accuracy even after hyperparameter optimization. Let's look at a sufficiently non-linear model with randomly chosen hyperparameters**"
   ]
  },
  {
   "cell_type": "code",
   "execution_count": 18,
   "metadata": {},
   "outputs": [],
   "source": [
    "rbf_model = SVC(kernel = 'rbf')\n",
    "rbf_model.fit(x_train , y_train)\n",
    "y_pred_1 = rbf_model.predict(x_test)"
   ]
  },
  {
   "cell_type": "code",
   "execution_count": 19,
   "metadata": {},
   "outputs": [
    {
     "name": "stdout",
     "output_type": "stream",
     "text": [
      "('accuracy : ', 0.9221428571428572)\n",
      "[[2779    0    8    3    8   21   26    1    3    4]\n",
      " [   1 3223   16   13    2    4    1    9   26    7]\n",
      " [  24   15 2648   64   47   10   31   38   50    8]\n",
      " [  20   16   76 2767    2  105    7   13   58   16]\n",
      " [  10   11   15    8 2632    3   10    9    7  101]\n",
      " [  29   14   32  107   29 2364   47    8   49   17]\n",
      " [  35    6   52    3   24   39 2744    0    9    0]\n",
      " [   6   13   38   18   47    5    2 2806    5   86]\n",
      " [  27   48   37  109   22   78   26   14 2444   33]\n",
      " [  18   11    9   28  120   14    1   86   20 2645]]\n"
     ]
    }
   ],
   "source": [
    "print('accuracy : ' , metrics.accuracy_score(y_true = y_test , y_pred = y_pred_1))\n",
    "print(metrics.confusion_matrix(y_true = y_test , y_pred = y_pred))"
   ]
  },
  {
   "cell_type": "markdown",
   "metadata": {},
   "source": [
    "**The non linear model too gives approx. 92.2 % accuracy with random hyperparameters. \n",
    "Let's look at a sufficiently non-linear model with optimized hyperparameters**"
   ]
  },
  {
   "cell_type": "code",
   "execution_count": 20,
   "metadata": {},
   "outputs": [
    {
     "name": "stdout",
     "output_type": "stream",
     "text": [
      "Fitting 5 folds for each of 12 candidates, totalling 60 fits\n"
     ]
    },
    {
     "name": "stderr",
     "output_type": "stream",
     "text": [
      "[Parallel(n_jobs=1)]: Done  60 out of  60 | elapsed: 85.7min finished\n"
     ]
    },
    {
     "data": {
      "text/plain": [
       "GridSearchCV(cv=KFold(n_splits=5, random_state=101, shuffle=True),\n",
       "       error_score='raise',\n",
       "       estimator=SVC(C=1.0, cache_size=200, class_weight=None, coef0=0.0,\n",
       "  decision_function_shape='ovr', degree=3, gamma='auto', kernel='rbf',\n",
       "  max_iter=-1, probability=False, random_state=None, shrinking=True,\n",
       "  tol=0.001, verbose=False),\n",
       "       fit_params=None, iid=True, n_jobs=1,\n",
       "       param_grid=[{'C': [1, 10, 100, 1000], 'gamma': [0.01, 0.001, 0.0001]}],\n",
       "       pre_dispatch='2*n_jobs', refit=True, return_train_score=True,\n",
       "       scoring='accuracy', verbose=1)"
      ]
     },
     "execution_count": 20,
     "metadata": {},
     "output_type": "execute_result"
    }
   ],
   "source": [
    "# creating a KFold object with 5 splits \n",
    "from sklearn.model_selection import KFold\n",
    "folds = KFold(n_splits = 5, shuffle = True, random_state = 101)\n",
    "\n",
    "# specify range of hyperparameters\n",
    "# Set the parameters by cross-validation\n",
    "hyper_params = [ {'gamma': [1e-2, 1e-3, 1e-4],\n",
    "                     'C': [1, 10, 100, 1000]}]\n",
    "\n",
    "\n",
    "# specify model\n",
    "model = SVC(kernel=\"rbf\")\n",
    "\n",
    "# set up GridSearchCV()\n",
    "model_cv = GridSearchCV(estimator = model, \n",
    "                        param_grid = hyper_params, \n",
    "                        scoring= 'accuracy', \n",
    "                        cv = folds, \n",
    "                        verbose = 1,\n",
    "                        return_train_score=True)      \n",
    "\n",
    "# fit the model\n",
    "model_cv.fit(x_train, y_train)"
   ]
  },
  {
   "cell_type": "code",
   "execution_count": 21,
   "metadata": {},
   "outputs": [
    {
     "data": {
      "text/html": [
       "<div>\n",
       "<style scoped>\n",
       "    .dataframe tbody tr th:only-of-type {\n",
       "        vertical-align: middle;\n",
       "    }\n",
       "\n",
       "    .dataframe tbody tr th {\n",
       "        vertical-align: top;\n",
       "    }\n",
       "\n",
       "    .dataframe thead th {\n",
       "        text-align: right;\n",
       "    }\n",
       "</style>\n",
       "<table border=\"1\" class=\"dataframe\">\n",
       "  <thead>\n",
       "    <tr style=\"text-align: right;\">\n",
       "      <th></th>\n",
       "      <th>mean_fit_time</th>\n",
       "      <th>mean_score_time</th>\n",
       "      <th>mean_test_score</th>\n",
       "      <th>mean_train_score</th>\n",
       "      <th>param_C</th>\n",
       "      <th>param_gamma</th>\n",
       "      <th>params</th>\n",
       "      <th>rank_test_score</th>\n",
       "      <th>split0_test_score</th>\n",
       "      <th>split0_train_score</th>\n",
       "      <th>...</th>\n",
       "      <th>split2_test_score</th>\n",
       "      <th>split2_train_score</th>\n",
       "      <th>split3_test_score</th>\n",
       "      <th>split3_train_score</th>\n",
       "      <th>split4_test_score</th>\n",
       "      <th>split4_train_score</th>\n",
       "      <th>std_fit_time</th>\n",
       "      <th>std_score_time</th>\n",
       "      <th>std_test_score</th>\n",
       "      <th>std_train_score</th>\n",
       "    </tr>\n",
       "  </thead>\n",
       "  <tbody>\n",
       "    <tr>\n",
       "      <th>0</th>\n",
       "      <td>28.1058</td>\n",
       "      <td>9.9752</td>\n",
       "      <td>0.957381</td>\n",
       "      <td>0.979702</td>\n",
       "      <td>1</td>\n",
       "      <td>0.01</td>\n",
       "      <td>{u'C': 1, u'gamma': 0.01}</td>\n",
       "      <td>4</td>\n",
       "      <td>0.963492</td>\n",
       "      <td>0.979167</td>\n",
       "      <td>...</td>\n",
       "      <td>0.958730</td>\n",
       "      <td>0.980159</td>\n",
       "      <td>0.951984</td>\n",
       "      <td>0.979663</td>\n",
       "      <td>0.950794</td>\n",
       "      <td>0.980456</td>\n",
       "      <td>1.237345</td>\n",
       "      <td>0.631963</td>\n",
       "      <td>0.005141</td>\n",
       "      <td>0.000542</td>\n",
       "    </tr>\n",
       "    <tr>\n",
       "      <th>1</th>\n",
       "      <td>45.8496</td>\n",
       "      <td>14.0404</td>\n",
       "      <td>0.912381</td>\n",
       "      <td>0.919167</td>\n",
       "      <td>1</td>\n",
       "      <td>0.001</td>\n",
       "      <td>{u'C': 1, u'gamma': 0.001}</td>\n",
       "      <td>10</td>\n",
       "      <td>0.914683</td>\n",
       "      <td>0.918155</td>\n",
       "      <td>...</td>\n",
       "      <td>0.920238</td>\n",
       "      <td>0.916567</td>\n",
       "      <td>0.912302</td>\n",
       "      <td>0.919444</td>\n",
       "      <td>0.899206</td>\n",
       "      <td>0.922024</td>\n",
       "      <td>0.503471</td>\n",
       "      <td>0.070321</td>\n",
       "      <td>0.007074</td>\n",
       "      <td>0.001803</td>\n",
       "    </tr>\n",
       "    <tr>\n",
       "      <th>2</th>\n",
       "      <td>117.9584</td>\n",
       "      <td>22.1998</td>\n",
       "      <td>0.846905</td>\n",
       "      <td>0.849980</td>\n",
       "      <td>1</td>\n",
       "      <td>0.0001</td>\n",
       "      <td>{u'C': 1, u'gamma': 0.0001}</td>\n",
       "      <td>12</td>\n",
       "      <td>0.837302</td>\n",
       "      <td>0.851786</td>\n",
       "      <td>...</td>\n",
       "      <td>0.857143</td>\n",
       "      <td>0.845337</td>\n",
       "      <td>0.848016</td>\n",
       "      <td>0.850000</td>\n",
       "      <td>0.834921</td>\n",
       "      <td>0.852579</td>\n",
       "      <td>3.176488</td>\n",
       "      <td>0.115678</td>\n",
       "      <td>0.009452</td>\n",
       "      <td>0.002515</td>\n",
       "    </tr>\n",
       "    <tr>\n",
       "      <th>3</th>\n",
       "      <td>23.6260</td>\n",
       "      <td>8.8284</td>\n",
       "      <td>0.968651</td>\n",
       "      <td>0.999623</td>\n",
       "      <td>10</td>\n",
       "      <td>0.01</td>\n",
       "      <td>{u'C': 10, u'gamma': 0.01}</td>\n",
       "      <td>3</td>\n",
       "      <td>0.971825</td>\n",
       "      <td>0.999603</td>\n",
       "      <td>...</td>\n",
       "      <td>0.966667</td>\n",
       "      <td>0.999603</td>\n",
       "      <td>0.969048</td>\n",
       "      <td>0.999603</td>\n",
       "      <td>0.963889</td>\n",
       "      <td>0.999603</td>\n",
       "      <td>0.287635</td>\n",
       "      <td>0.179363</td>\n",
       "      <td>0.003064</td>\n",
       "      <td>0.000040</td>\n",
       "    </tr>\n",
       "    <tr>\n",
       "      <th>4</th>\n",
       "      <td>21.7762</td>\n",
       "      <td>8.7980</td>\n",
       "      <td>0.937619</td>\n",
       "      <td>0.959226</td>\n",
       "      <td>10</td>\n",
       "      <td>0.001</td>\n",
       "      <td>{u'C': 10, u'gamma': 0.001}</td>\n",
       "      <td>7</td>\n",
       "      <td>0.942063</td>\n",
       "      <td>0.958036</td>\n",
       "      <td>...</td>\n",
       "      <td>0.944048</td>\n",
       "      <td>0.958036</td>\n",
       "      <td>0.930159</td>\n",
       "      <td>0.960417</td>\n",
       "      <td>0.925397</td>\n",
       "      <td>0.960516</td>\n",
       "      <td>0.262677</td>\n",
       "      <td>0.190006</td>\n",
       "      <td>0.008291</td>\n",
       "      <td>0.001089</td>\n",
       "    </tr>\n",
       "    <tr>\n",
       "      <th>5</th>\n",
       "      <td>45.3288</td>\n",
       "      <td>13.9810</td>\n",
       "      <td>0.910476</td>\n",
       "      <td>0.916310</td>\n",
       "      <td>10</td>\n",
       "      <td>0.0001</td>\n",
       "      <td>{u'C': 10, u'gamma': 0.0001}</td>\n",
       "      <td>11</td>\n",
       "      <td>0.912302</td>\n",
       "      <td>0.915278</td>\n",
       "      <td>...</td>\n",
       "      <td>0.919048</td>\n",
       "      <td>0.913988</td>\n",
       "      <td>0.909127</td>\n",
       "      <td>0.916964</td>\n",
       "      <td>0.897222</td>\n",
       "      <td>0.919643</td>\n",
       "      <td>1.271023</td>\n",
       "      <td>0.279327</td>\n",
       "      <td>0.007375</td>\n",
       "      <td>0.001918</td>\n",
       "    </tr>\n",
       "    <tr>\n",
       "      <th>6</th>\n",
       "      <td>23.3792</td>\n",
       "      <td>8.9090</td>\n",
       "      <td>0.968730</td>\n",
       "      <td>1.000000</td>\n",
       "      <td>100</td>\n",
       "      <td>0.01</td>\n",
       "      <td>{u'C': 100, u'gamma': 0.01}</td>\n",
       "      <td>1</td>\n",
       "      <td>0.971825</td>\n",
       "      <td>1.000000</td>\n",
       "      <td>...</td>\n",
       "      <td>0.966667</td>\n",
       "      <td>1.000000</td>\n",
       "      <td>0.969048</td>\n",
       "      <td>1.000000</td>\n",
       "      <td>0.963889</td>\n",
       "      <td>1.000000</td>\n",
       "      <td>0.283734</td>\n",
       "      <td>0.118445</td>\n",
       "      <td>0.003149</td>\n",
       "      <td>0.000000</td>\n",
       "    </tr>\n",
       "    <tr>\n",
       "      <th>7</th>\n",
       "      <td>17.5838</td>\n",
       "      <td>7.1436</td>\n",
       "      <td>0.944048</td>\n",
       "      <td>0.993889</td>\n",
       "      <td>100</td>\n",
       "      <td>0.001</td>\n",
       "      <td>{u'C': 100, u'gamma': 0.001}</td>\n",
       "      <td>5</td>\n",
       "      <td>0.948016</td>\n",
       "      <td>0.993254</td>\n",
       "      <td>...</td>\n",
       "      <td>0.946429</td>\n",
       "      <td>0.994246</td>\n",
       "      <td>0.940873</td>\n",
       "      <td>0.994048</td>\n",
       "      <td>0.934127</td>\n",
       "      <td>0.994444</td>\n",
       "      <td>0.259781</td>\n",
       "      <td>0.146643</td>\n",
       "      <td>0.005923</td>\n",
       "      <td>0.000459</td>\n",
       "    </tr>\n",
       "    <tr>\n",
       "      <th>8</th>\n",
       "      <td>21.4704</td>\n",
       "      <td>8.6870</td>\n",
       "      <td>0.930000</td>\n",
       "      <td>0.951825</td>\n",
       "      <td>100</td>\n",
       "      <td>0.0001</td>\n",
       "      <td>{u'C': 100, u'gamma': 0.0001}</td>\n",
       "      <td>8</td>\n",
       "      <td>0.931349</td>\n",
       "      <td>0.950694</td>\n",
       "      <td>...</td>\n",
       "      <td>0.938095</td>\n",
       "      <td>0.950893</td>\n",
       "      <td>0.925000</td>\n",
       "      <td>0.952778</td>\n",
       "      <td>0.916270</td>\n",
       "      <td>0.954067</td>\n",
       "      <td>0.222855</td>\n",
       "      <td>0.081963</td>\n",
       "      <td>0.008568</td>\n",
       "      <td>0.001368</td>\n",
       "    </tr>\n",
       "    <tr>\n",
       "      <th>9</th>\n",
       "      <td>23.5156</td>\n",
       "      <td>8.8654</td>\n",
       "      <td>0.968730</td>\n",
       "      <td>1.000000</td>\n",
       "      <td>1000</td>\n",
       "      <td>0.01</td>\n",
       "      <td>{u'C': 1000, u'gamma': 0.01}</td>\n",
       "      <td>1</td>\n",
       "      <td>0.971825</td>\n",
       "      <td>1.000000</td>\n",
       "      <td>...</td>\n",
       "      <td>0.966667</td>\n",
       "      <td>1.000000</td>\n",
       "      <td>0.969048</td>\n",
       "      <td>1.000000</td>\n",
       "      <td>0.963889</td>\n",
       "      <td>1.000000</td>\n",
       "      <td>0.380660</td>\n",
       "      <td>0.061802</td>\n",
       "      <td>0.003149</td>\n",
       "      <td>0.000000</td>\n",
       "    </tr>\n",
       "    <tr>\n",
       "      <th>10</th>\n",
       "      <td>17.5872</td>\n",
       "      <td>7.1294</td>\n",
       "      <td>0.941984</td>\n",
       "      <td>1.000000</td>\n",
       "      <td>1000</td>\n",
       "      <td>0.001</td>\n",
       "      <td>{u'C': 1000, u'gamma': 0.001}</td>\n",
       "      <td>6</td>\n",
       "      <td>0.948016</td>\n",
       "      <td>1.000000</td>\n",
       "      <td>...</td>\n",
       "      <td>0.944841</td>\n",
       "      <td>1.000000</td>\n",
       "      <td>0.940476</td>\n",
       "      <td>1.000000</td>\n",
       "      <td>0.929365</td>\n",
       "      <td>1.000000</td>\n",
       "      <td>0.295019</td>\n",
       "      <td>0.155258</td>\n",
       "      <td>0.006834</td>\n",
       "      <td>0.000000</td>\n",
       "    </tr>\n",
       "    <tr>\n",
       "      <th>11</th>\n",
       "      <td>17.1436</td>\n",
       "      <td>6.8498</td>\n",
       "      <td>0.928333</td>\n",
       "      <td>0.985159</td>\n",
       "      <td>1000</td>\n",
       "      <td>0.0001</td>\n",
       "      <td>{u'C': 1000, u'gamma': 0.0001}</td>\n",
       "      <td>9</td>\n",
       "      <td>0.931746</td>\n",
       "      <td>0.984921</td>\n",
       "      <td>...</td>\n",
       "      <td>0.929365</td>\n",
       "      <td>0.984921</td>\n",
       "      <td>0.924206</td>\n",
       "      <td>0.984722</td>\n",
       "      <td>0.917857</td>\n",
       "      <td>0.986508</td>\n",
       "      <td>0.174079</td>\n",
       "      <td>0.218073</td>\n",
       "      <td>0.006967</td>\n",
       "      <td>0.000680</td>\n",
       "    </tr>\n",
       "  </tbody>\n",
       "</table>\n",
       "<p>12 rows × 22 columns</p>\n",
       "</div>"
      ],
      "text/plain": [
       "    mean_fit_time  mean_score_time  mean_test_score  mean_train_score param_C  \\\n",
       "0         28.1058           9.9752         0.957381          0.979702       1   \n",
       "1         45.8496          14.0404         0.912381          0.919167       1   \n",
       "2        117.9584          22.1998         0.846905          0.849980       1   \n",
       "3         23.6260           8.8284         0.968651          0.999623      10   \n",
       "4         21.7762           8.7980         0.937619          0.959226      10   \n",
       "5         45.3288          13.9810         0.910476          0.916310      10   \n",
       "6         23.3792           8.9090         0.968730          1.000000     100   \n",
       "7         17.5838           7.1436         0.944048          0.993889     100   \n",
       "8         21.4704           8.6870         0.930000          0.951825     100   \n",
       "9         23.5156           8.8654         0.968730          1.000000    1000   \n",
       "10        17.5872           7.1294         0.941984          1.000000    1000   \n",
       "11        17.1436           6.8498         0.928333          0.985159    1000   \n",
       "\n",
       "   param_gamma                          params  rank_test_score  \\\n",
       "0         0.01       {u'C': 1, u'gamma': 0.01}                4   \n",
       "1        0.001      {u'C': 1, u'gamma': 0.001}               10   \n",
       "2       0.0001     {u'C': 1, u'gamma': 0.0001}               12   \n",
       "3         0.01      {u'C': 10, u'gamma': 0.01}                3   \n",
       "4        0.001     {u'C': 10, u'gamma': 0.001}                7   \n",
       "5       0.0001    {u'C': 10, u'gamma': 0.0001}               11   \n",
       "6         0.01     {u'C': 100, u'gamma': 0.01}                1   \n",
       "7        0.001    {u'C': 100, u'gamma': 0.001}                5   \n",
       "8       0.0001   {u'C': 100, u'gamma': 0.0001}                8   \n",
       "9         0.01    {u'C': 1000, u'gamma': 0.01}                1   \n",
       "10       0.001   {u'C': 1000, u'gamma': 0.001}                6   \n",
       "11      0.0001  {u'C': 1000, u'gamma': 0.0001}                9   \n",
       "\n",
       "    split0_test_score  split0_train_score       ...         split2_test_score  \\\n",
       "0            0.963492            0.979167       ...                  0.958730   \n",
       "1            0.914683            0.918155       ...                  0.920238   \n",
       "2            0.837302            0.851786       ...                  0.857143   \n",
       "3            0.971825            0.999603       ...                  0.966667   \n",
       "4            0.942063            0.958036       ...                  0.944048   \n",
       "5            0.912302            0.915278       ...                  0.919048   \n",
       "6            0.971825            1.000000       ...                  0.966667   \n",
       "7            0.948016            0.993254       ...                  0.946429   \n",
       "8            0.931349            0.950694       ...                  0.938095   \n",
       "9            0.971825            1.000000       ...                  0.966667   \n",
       "10           0.948016            1.000000       ...                  0.944841   \n",
       "11           0.931746            0.984921       ...                  0.929365   \n",
       "\n",
       "    split2_train_score  split3_test_score  split3_train_score  \\\n",
       "0             0.980159           0.951984            0.979663   \n",
       "1             0.916567           0.912302            0.919444   \n",
       "2             0.845337           0.848016            0.850000   \n",
       "3             0.999603           0.969048            0.999603   \n",
       "4             0.958036           0.930159            0.960417   \n",
       "5             0.913988           0.909127            0.916964   \n",
       "6             1.000000           0.969048            1.000000   \n",
       "7             0.994246           0.940873            0.994048   \n",
       "8             0.950893           0.925000            0.952778   \n",
       "9             1.000000           0.969048            1.000000   \n",
       "10            1.000000           0.940476            1.000000   \n",
       "11            0.984921           0.924206            0.984722   \n",
       "\n",
       "    split4_test_score  split4_train_score  std_fit_time  std_score_time  \\\n",
       "0            0.950794            0.980456      1.237345        0.631963   \n",
       "1            0.899206            0.922024      0.503471        0.070321   \n",
       "2            0.834921            0.852579      3.176488        0.115678   \n",
       "3            0.963889            0.999603      0.287635        0.179363   \n",
       "4            0.925397            0.960516      0.262677        0.190006   \n",
       "5            0.897222            0.919643      1.271023        0.279327   \n",
       "6            0.963889            1.000000      0.283734        0.118445   \n",
       "7            0.934127            0.994444      0.259781        0.146643   \n",
       "8            0.916270            0.954067      0.222855        0.081963   \n",
       "9            0.963889            1.000000      0.380660        0.061802   \n",
       "10           0.929365            1.000000      0.295019        0.155258   \n",
       "11           0.917857            0.986508      0.174079        0.218073   \n",
       "\n",
       "    std_test_score  std_train_score  \n",
       "0         0.005141         0.000542  \n",
       "1         0.007074         0.001803  \n",
       "2         0.009452         0.002515  \n",
       "3         0.003064         0.000040  \n",
       "4         0.008291         0.001089  \n",
       "5         0.007375         0.001918  \n",
       "6         0.003149         0.000000  \n",
       "7         0.005923         0.000459  \n",
       "8         0.008568         0.001368  \n",
       "9         0.003149         0.000000  \n",
       "10        0.006834         0.000000  \n",
       "11        0.006967         0.000680  \n",
       "\n",
       "[12 rows x 22 columns]"
      ]
     },
     "execution_count": 21,
     "metadata": {},
     "output_type": "execute_result"
    }
   ],
   "source": [
    "# cv results\n",
    "cv_results = pd.DataFrame(model_cv.cv_results_)\n",
    "cv_results"
   ]
  },
  {
   "cell_type": "code",
   "execution_count": 22,
   "metadata": {},
   "outputs": [
    {
     "data": {
      "image/png": "[encoded data removed]",
      "text/plain": [
       "<Figure size 1152x432 with 3 Axes>"
      ]
     },
     "metadata": {},
     "output_type": "display_data"
    }
   ],
   "source": [
    "# converting C to numeric type for plotting on x-axis\n",
    "cv_results['param_C'] = cv_results['param_C'].astype('int')\n",
    "\n",
    "# # plotting\n",
    "plt.figure(figsize=(16,6))\n",
    "\n",
    "# subplot 1/3\n",
    "plt.subplot(131)\n",
    "gamma_01 = cv_results[cv_results['param_gamma']==0.01]\n",
    "\n",
    "plt.plot(gamma_01[\"param_C\"], gamma_01[\"mean_test_score\"])\n",
    "plt.plot(gamma_01[\"param_C\"], gamma_01[\"mean_train_score\"])\n",
    "plt.xlabel('C')\n",
    "plt.ylabel('Accuracy')\n",
    "plt.title(\"Gamma=0.01\")\n",
    "plt.ylim([0.60, 1])\n",
    "plt.legend(['test accuracy', 'train accuracy'], loc='upper left')\n",
    "plt.xscale('log')\n",
    "\n",
    "# subplot 2/3\n",
    "plt.subplot(132)\n",
    "gamma_001 = cv_results[cv_results['param_gamma']==0.001]\n",
    "\n",
    "plt.plot(gamma_001[\"param_C\"], gamma_001[\"mean_test_score\"])\n",
    "plt.plot(gamma_001[\"param_C\"], gamma_001[\"mean_train_score\"])\n",
    "plt.xlabel('C')\n",
    "plt.ylabel('Accuracy')\n",
    "plt.title(\"Gamma=0.001\")\n",
    "plt.ylim([0.60, 1])\n",
    "plt.legend(['test accuracy', 'train accuracy'], loc='upper left')\n",
    "plt.xscale('log')\n",
    "\n",
    "\n",
    "# subplot 3/3\n",
    "plt.subplot(133)\n",
    "gamma_0001 = cv_results[cv_results['param_gamma']==0.0001]\n",
    "\n",
    "plt.plot(gamma_0001[\"param_C\"], gamma_0001[\"mean_test_score\"])\n",
    "plt.plot(gamma_0001[\"param_C\"], gamma_0001[\"mean_train_score\"])\n",
    "plt.xlabel('C')\n",
    "plt.ylabel('Accuracy')\n",
    "plt.title(\"Gamma=0.0001\")\n",
    "plt.ylim([0.60, 1])\n",
    "plt.legend(['test accuracy', 'train accuracy'], loc='upper left')\n",
    "plt.xscale('log')"
   ]
  },
  {
   "cell_type": "markdown",
   "metadata": {},
   "source": [
    "-- gamma 0.01 : the training accuracy increases to 100 % on C = 10.\n",
    "\n",
    "-- On higher gammas i.e 0.001 and 0.0001, the training acuracy EVENTUALLY will increas to 100% but at a cost of higher C.\n",
    "\n",
    "-- The distinction between gamma values can be made on test data accuracy, it is 97 % approximately for 0.01 gamma whereas at higher gammas the test data accuracy is less that 0.01 gamma's case."
   ]
  },
  {
   "cell_type": "code",
   "execution_count": 23,
   "metadata": {},
   "outputs": [
    {
     "name": "stdout",
     "output_type": "stream",
     "text": [
      "The best test score is 0.96873015873 corresponding to hyperparameters {'C': 100, 'gamma': 0.01}\n"
     ]
    }
   ],
   "source": [
    "# printing the optimal accuracy score and hyperparameters\n",
    "best_score = model_cv.best_score_\n",
    "best_hyperparams = model_cv.best_params_\n",
    "\n",
    "print(\"The best test score is {0} corresponding to hyperparameters {1}\".format(best_score, best_hyperparams))"
   ]
  },
  {
   "cell_type": "code",
   "execution_count": 24,
   "metadata": {},
   "outputs": [
    {
     "name": "stdout",
     "output_type": "stream",
     "text": [
      "('accuracy', 0.9668367346938775)\n",
      "[[2823    0    2    0    6    8    8    2    4    0]\n",
      " [   0 3237   20    4    4   11    3   10    8    5]\n",
      " [  11    2 2830   20   12   11    4   20   19    6]\n",
      " [   4    4   27 2945    0   40    3    6   34   17]\n",
      " [   3    7    6    1 2716    3   10    4    3   53]\n",
      " [  11    4    3   35   11 2588   27    2    8    7]\n",
      " [  20    2    8    0    5   22 2848    0    7    0]\n",
      " [   4   12   15    2   17   11    2 2934    1   28]\n",
      " [   8   11   13   33   16   26   10    9 2694   18]\n",
      " [  13    5    4   18   48   11    0   32   11 2810]]\n"
     ]
    }
   ],
   "source": [
    "rbf_model_1 = SVC(C = 100 , gamma = 0.01, kernel = 'rbf')\n",
    "rbf_model_1.fit(x_train , y_train)\n",
    "y_pred_2 = rbf_model_1.predict(x_test)\n",
    "\n",
    "# metrics\n",
    "print(\"accuracy\", metrics.accuracy_score(y_test, y_pred_2))\n",
    "print(metrics.confusion_matrix(y_test, y_pred_2))"
   ]
  },
  {
   "cell_type": "markdown",
   "metadata": {},
   "source": [
    "***The Model Accuracy with C = 10 and gamma = 0.01 is 97%. Using this model further***"
   ]
  },
  {
   "cell_type": "code",
   "execution_count": 25,
   "metadata": {},
   "outputs": [
    {
     "name": "stdout",
     "output_type": "stream",
     "text": [
      "('accuracy', 1.0)\n",
      "[[1279    0    0    0    0    0    0    0    0    0]\n",
      " [   0 1382    0    0    0    0    0    0    0    0]\n",
      " [   0    0 1242    0    0    0    0    0    0    0]\n",
      " [   0    0    0 1271    0    0    0    0    0    0]\n",
      " [   0    0    0    0 1266    0    0    0    0    0]\n",
      " [   0    0    0    0    0 1099    0    0    0    0]\n",
      " [   0    0    0    0    0    0 1225    0    0    0]\n",
      " [   0    0    0    0    0    0    0 1375    0    0]\n",
      " [   0    0    0    0    0    0    0    0 1225    0]\n",
      " [   0    0    0    0    0    0    0    0    0 1236]]\n"
     ]
    }
   ],
   "source": [
    "# Just for confirmation\n",
    "\n",
    "y_pred_train = rbf_model_1.predict(x_train)\n",
    "\n",
    "# metrics\n",
    "print(\"accuracy\", metrics.accuracy_score(y_train, y_pred_train))\n",
    "print(metrics.confusion_matrix(y_train, y_pred_train))"
   ]
  },
  {
   "cell_type": "code",
   "execution_count": 26,
   "metadata": {},
   "outputs": [
    {
     "data": {
      "text/plain": [
       "(28000, 784)"
      ]
     },
     "execution_count": 26,
     "metadata": {},
     "output_type": "execute_result"
    }
   ],
   "source": [
    "# testing on test data: to upload on kaggle\n",
    "\n",
    "data_test = pd.read_csv('C:/Users/Dell/Desktop/DaTa Science/IIITB/Python/SVM/assignmetn/test.csv')\n",
    "data_test.shape"
   ]
  },
  {
   "cell_type": "code",
   "execution_count": 27,
   "metadata": {},
   "outputs": [
    {
     "data": {
      "text/plain": [
       "Index([u'pixel0', u'pixel1', u'pixel2', u'pixel3', u'pixel4', u'pixel5',\n",
       "       u'pixel6', u'pixel7', u'pixel8', u'pixel9',\n",
       "       ...\n",
       "       u'pixel774', u'pixel775', u'pixel776', u'pixel777', u'pixel778',\n",
       "       u'pixel779', u'pixel780', u'pixel781', u'pixel782', u'pixel783'],\n",
       "      dtype='object', length=784)"
      ]
     },
     "execution_count": 27,
     "metadata": {},
     "output_type": "execute_result"
    }
   ],
   "source": [
    "data_test.columns"
   ]
  },
  {
   "cell_type": "code",
   "execution_count": 28,
   "metadata": {},
   "outputs": [],
   "source": [
    "data_test = scaler.transform(data_test)"
   ]
  },
  {
   "cell_type": "code",
   "execution_count": 29,
   "metadata": {},
   "outputs": [
    {
     "data": {
      "text/html": [
       "<div>\n",
       "<style scoped>\n",
       "    .dataframe tbody tr th:only-of-type {\n",
       "        vertical-align: middle;\n",
       "    }\n",
       "\n",
       "    .dataframe tbody tr th {\n",
       "        vertical-align: top;\n",
       "    }\n",
       "\n",
       "    .dataframe thead th {\n",
       "        text-align: right;\n",
       "    }\n",
       "</style>\n",
       "<table border=\"1\" class=\"dataframe\">\n",
       "  <thead>\n",
       "    <tr style=\"text-align: right;\">\n",
       "      <th></th>\n",
       "      <th>Label</th>\n",
       "    </tr>\n",
       "    <tr>\n",
       "      <th>ImageId</th>\n",
       "      <th></th>\n",
       "    </tr>\n",
       "  </thead>\n",
       "  <tbody>\n",
       "    <tr>\n",
       "      <th>0</th>\n",
       "      <td>2</td>\n",
       "    </tr>\n",
       "    <tr>\n",
       "      <th>1</th>\n",
       "      <td>0</td>\n",
       "    </tr>\n",
       "    <tr>\n",
       "      <th>2</th>\n",
       "      <td>9</td>\n",
       "    </tr>\n",
       "    <tr>\n",
       "      <th>3</th>\n",
       "      <td>4</td>\n",
       "    </tr>\n",
       "    <tr>\n",
       "      <th>4</th>\n",
       "      <td>3</td>\n",
       "    </tr>\n",
       "  </tbody>\n",
       "</table>\n",
       "</div>"
      ],
      "text/plain": [
       "         Label\n",
       "ImageId       \n",
       "0            2\n",
       "1            0\n",
       "2            9\n",
       "3            4\n",
       "4            3"
      ]
     },
     "execution_count": 29,
     "metadata": {},
     "output_type": "execute_result"
    }
   ],
   "source": [
    "label_predict = pd.DataFrame(rbf_model_1.predict(data_test))\n",
    "label_predict.columns = ['Label']\n",
    "label_predict = label_predict.rename_axis('ImageId')\n",
    "label_predict.head()"
   ]
  },
  {
   "cell_type": "code",
   "execution_count": 30,
   "metadata": {},
   "outputs": [
    {
     "name": "stdout",
     "output_type": "stream",
     "text": [
      "[0, 1, 2, 3, 4, 5, 6, 7, 8, 9]\n"
     ]
    }
   ],
   "source": [
    "order1 = list(np.sort(label_predict.Label.unique()))\n",
    "print(order1)"
   ]
  },
  {
   "cell_type": "code",
   "execution_count": 31,
   "metadata": {},
   "outputs": [
    {
     "data": {
      "text/plain": [
       "(28000, 1)"
      ]
     },
     "execution_count": 31,
     "metadata": {},
     "output_type": "execute_result"
    }
   ],
   "source": [
    "label_predict.shape"
   ]
  },
  {
   "cell_type": "code",
   "execution_count": 32,
   "metadata": {},
   "outputs": [],
   "source": [
    "# writing it to separate csv file\n",
    "label_predict.to_csv('C:/Users/Dell/Desktop/DaTa Science/IIITB/Python/SVM/assignmetn/submission.csv')"
   ]
  },
  {
   "cell_type": "markdown",
   "metadata": {},
   "source": [
    "***With linear model the accuracy was 92% even after optmizing the hyperparameters. Whereas for non linear models, the accuracy initially , at random C and Gamma, was 92%. But the non linear model accuracy improved to approx 97%***"
   ]
  },
  {
   "cell_type": "code",
   "execution_count": null,
   "metadata": {},
   "outputs": [],
   "source": []
  },
  {
   "cell_type": "code",
   "execution_count": null,
   "metadata": {},
   "outputs": [],
   "source": []
  }
 ],
 "metadata": {
  "kernelspec": {
   "display_name": "Python 2",
   "language": "python",
   "name": "python2"
  },
  "language_info": {
   "codemirror_mode": {
    "name": "ipython",
    "version": 2
   },
   "file_extension": ".py",
   "mimetype": "text/x-python",
   "name": "python",
   "nbconvert_exporter": "python",
   "pygments_lexer": "ipython2",
   "version": "2.7.15"
  }
 },
 "nbformat": 4,
 "nbformat_minor": 2
}
