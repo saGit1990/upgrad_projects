{
 "cells": [
  {
   "cell_type": "code",
   "execution_count": 377,
   "metadata": {},
   "outputs": [],
   "source": [
    "#importing the libraries\n",
    "\n",
    "import numpy as np\n",
    "import pandas as pd\n",
    "import matplotlib.pyplot as plt\n",
    "%matplotlib inline\n",
    "from sklearn.preprocessing import scale\n",
    "from sklearn.cluster import KMeans\n",
    "import seaborn as sns"
   ]
  },
  {
   "cell_type": "code",
   "execution_count": 281,
   "metadata": {},
   "outputs": [],
   "source": [
    "#Reading the dataset\n",
    "\n",
    "country = pd.read_csv('Country-data.csv' , sep = ',' , encoding = 'ISO-8859-1', header = 0)"
   ]
  },
  {
   "cell_type": "code",
   "execution_count": 282,
   "metadata": {},
   "outputs": [
    {
     "data": {
      "text/html": [
       "<div>\n",
       "<style scoped>\n",
       "    .dataframe tbody tr th:only-of-type {\n",
       "        vertical-align: middle;\n",
       "    }\n",
       "\n",
       "    .dataframe tbody tr th {\n",
       "        vertical-align: top;\n",
       "    }\n",
       "\n",
       "    .dataframe thead th {\n",
       "        text-align: right;\n",
       "    }\n",
       "</style>\n",
       "<table border=\"1\" class=\"dataframe\">\n",
       "  <thead>\n",
       "    <tr style=\"text-align: right;\">\n",
       "      <th></th>\n",
       "      <th>country</th>\n",
       "      <th>child_mort</th>\n",
       "      <th>exports</th>\n",
       "      <th>health</th>\n",
       "      <th>imports</th>\n",
       "      <th>income</th>\n",
       "      <th>inflation</th>\n",
       "      <th>life_expec</th>\n",
       "      <th>total_fer</th>\n",
       "      <th>gdpp</th>\n",
       "    </tr>\n",
       "  </thead>\n",
       "  <tbody>\n",
       "    <tr>\n",
       "      <th>0</th>\n",
       "      <td>Afghanistan</td>\n",
       "      <td>90.2</td>\n",
       "      <td>10.0</td>\n",
       "      <td>7.58</td>\n",
       "      <td>44.9</td>\n",
       "      <td>1610</td>\n",
       "      <td>9.44</td>\n",
       "      <td>56.2</td>\n",
       "      <td>5.82</td>\n",
       "      <td>553</td>\n",
       "    </tr>\n",
       "    <tr>\n",
       "      <th>1</th>\n",
       "      <td>Albania</td>\n",
       "      <td>16.6</td>\n",
       "      <td>28.0</td>\n",
       "      <td>6.55</td>\n",
       "      <td>48.6</td>\n",
       "      <td>9930</td>\n",
       "      <td>4.49</td>\n",
       "      <td>76.3</td>\n",
       "      <td>1.65</td>\n",
       "      <td>4090</td>\n",
       "    </tr>\n",
       "    <tr>\n",
       "      <th>2</th>\n",
       "      <td>Algeria</td>\n",
       "      <td>27.3</td>\n",
       "      <td>38.4</td>\n",
       "      <td>4.17</td>\n",
       "      <td>31.4</td>\n",
       "      <td>12900</td>\n",
       "      <td>16.10</td>\n",
       "      <td>76.5</td>\n",
       "      <td>2.89</td>\n",
       "      <td>4460</td>\n",
       "    </tr>\n",
       "    <tr>\n",
       "      <th>3</th>\n",
       "      <td>Angola</td>\n",
       "      <td>119.0</td>\n",
       "      <td>62.3</td>\n",
       "      <td>2.85</td>\n",
       "      <td>42.9</td>\n",
       "      <td>5900</td>\n",
       "      <td>22.40</td>\n",
       "      <td>60.1</td>\n",
       "      <td>6.16</td>\n",
       "      <td>3530</td>\n",
       "    </tr>\n",
       "    <tr>\n",
       "      <th>4</th>\n",
       "      <td>Antigua and Barbuda</td>\n",
       "      <td>10.3</td>\n",
       "      <td>45.5</td>\n",
       "      <td>6.03</td>\n",
       "      <td>58.9</td>\n",
       "      <td>19100</td>\n",
       "      <td>1.44</td>\n",
       "      <td>76.8</td>\n",
       "      <td>2.13</td>\n",
       "      <td>12200</td>\n",
       "    </tr>\n",
       "  </tbody>\n",
       "</table>\n",
       "</div>"
      ],
      "text/plain": [
       "               country  child_mort  exports  health  imports  income  \\\n",
       "0          Afghanistan        90.2     10.0    7.58     44.9    1610   \n",
       "1              Albania        16.6     28.0    6.55     48.6    9930   \n",
       "2              Algeria        27.3     38.4    4.17     31.4   12900   \n",
       "3               Angola       119.0     62.3    2.85     42.9    5900   \n",
       "4  Antigua and Barbuda        10.3     45.5    6.03     58.9   19100   \n",
       "\n",
       "   inflation  life_expec  total_fer   gdpp  \n",
       "0       9.44        56.2       5.82    553  \n",
       "1       4.49        76.3       1.65   4090  \n",
       "2      16.10        76.5       2.89   4460  \n",
       "3      22.40        60.1       6.16   3530  \n",
       "4       1.44        76.8       2.13  12200  "
      ]
     },
     "execution_count": 282,
     "metadata": {},
     "output_type": "execute_result"
    }
   ],
   "source": [
    "country.head()"
   ]
  },
  {
   "cell_type": "code",
   "execution_count": 283,
   "metadata": {},
   "outputs": [
    {
     "data": {
      "text/html": [
       "<div>\n",
       "<style scoped>\n",
       "    .dataframe tbody tr th:only-of-type {\n",
       "        vertical-align: middle;\n",
       "    }\n",
       "\n",
       "    .dataframe tbody tr th {\n",
       "        vertical-align: top;\n",
       "    }\n",
       "\n",
       "    .dataframe thead th {\n",
       "        text-align: right;\n",
       "    }\n",
       "</style>\n",
       "<table border=\"1\" class=\"dataframe\">\n",
       "  <thead>\n",
       "    <tr style=\"text-align: right;\">\n",
       "      <th></th>\n",
       "      <th>child_mort</th>\n",
       "      <th>exports</th>\n",
       "      <th>health</th>\n",
       "      <th>imports</th>\n",
       "      <th>income</th>\n",
       "      <th>inflation</th>\n",
       "      <th>life_expec</th>\n",
       "      <th>total_fer</th>\n",
       "      <th>gdpp</th>\n",
       "    </tr>\n",
       "  </thead>\n",
       "  <tbody>\n",
       "    <tr>\n",
       "      <th>count</th>\n",
       "      <td>167.000000</td>\n",
       "      <td>167.000000</td>\n",
       "      <td>167.000000</td>\n",
       "      <td>167.000000</td>\n",
       "      <td>167.000000</td>\n",
       "      <td>167.000000</td>\n",
       "      <td>167.000000</td>\n",
       "      <td>167.000000</td>\n",
       "      <td>167.000000</td>\n",
       "    </tr>\n",
       "    <tr>\n",
       "      <th>mean</th>\n",
       "      <td>38.270060</td>\n",
       "      <td>41.108976</td>\n",
       "      <td>6.815689</td>\n",
       "      <td>46.890215</td>\n",
       "      <td>17144.688623</td>\n",
       "      <td>7.781832</td>\n",
       "      <td>70.555689</td>\n",
       "      <td>2.947964</td>\n",
       "      <td>12964.155689</td>\n",
       "    </tr>\n",
       "    <tr>\n",
       "      <th>std</th>\n",
       "      <td>40.328931</td>\n",
       "      <td>27.412010</td>\n",
       "      <td>2.746837</td>\n",
       "      <td>24.209589</td>\n",
       "      <td>19278.067698</td>\n",
       "      <td>10.570704</td>\n",
       "      <td>8.893172</td>\n",
       "      <td>1.513848</td>\n",
       "      <td>18328.704809</td>\n",
       "    </tr>\n",
       "    <tr>\n",
       "      <th>min</th>\n",
       "      <td>2.600000</td>\n",
       "      <td>0.109000</td>\n",
       "      <td>1.810000</td>\n",
       "      <td>0.065900</td>\n",
       "      <td>609.000000</td>\n",
       "      <td>-4.210000</td>\n",
       "      <td>32.100000</td>\n",
       "      <td>1.150000</td>\n",
       "      <td>231.000000</td>\n",
       "    </tr>\n",
       "    <tr>\n",
       "      <th>25%</th>\n",
       "      <td>8.250000</td>\n",
       "      <td>23.800000</td>\n",
       "      <td>4.920000</td>\n",
       "      <td>30.200000</td>\n",
       "      <td>3355.000000</td>\n",
       "      <td>1.810000</td>\n",
       "      <td>65.300000</td>\n",
       "      <td>1.795000</td>\n",
       "      <td>1330.000000</td>\n",
       "    </tr>\n",
       "    <tr>\n",
       "      <th>50%</th>\n",
       "      <td>19.300000</td>\n",
       "      <td>35.000000</td>\n",
       "      <td>6.320000</td>\n",
       "      <td>43.300000</td>\n",
       "      <td>9960.000000</td>\n",
       "      <td>5.390000</td>\n",
       "      <td>73.100000</td>\n",
       "      <td>2.410000</td>\n",
       "      <td>4660.000000</td>\n",
       "    </tr>\n",
       "    <tr>\n",
       "      <th>75%</th>\n",
       "      <td>62.100000</td>\n",
       "      <td>51.350000</td>\n",
       "      <td>8.600000</td>\n",
       "      <td>58.750000</td>\n",
       "      <td>22800.000000</td>\n",
       "      <td>10.750000</td>\n",
       "      <td>76.800000</td>\n",
       "      <td>3.880000</td>\n",
       "      <td>14050.000000</td>\n",
       "    </tr>\n",
       "    <tr>\n",
       "      <th>95%</th>\n",
       "      <td>116.000000</td>\n",
       "      <td>80.570000</td>\n",
       "      <td>11.570000</td>\n",
       "      <td>81.140000</td>\n",
       "      <td>48290.000000</td>\n",
       "      <td>20.870000</td>\n",
       "      <td>81.400000</td>\n",
       "      <td>5.861000</td>\n",
       "      <td>48610.000000</td>\n",
       "    </tr>\n",
       "    <tr>\n",
       "      <th>99%</th>\n",
       "      <td>153.400000</td>\n",
       "      <td>160.480000</td>\n",
       "      <td>13.474000</td>\n",
       "      <td>146.080000</td>\n",
       "      <td>84374.000000</td>\n",
       "      <td>41.478000</td>\n",
       "      <td>82.370000</td>\n",
       "      <td>6.563600</td>\n",
       "      <td>79088.000000</td>\n",
       "    </tr>\n",
       "    <tr>\n",
       "      <th>max</th>\n",
       "      <td>208.000000</td>\n",
       "      <td>200.000000</td>\n",
       "      <td>17.900000</td>\n",
       "      <td>174.000000</td>\n",
       "      <td>125000.000000</td>\n",
       "      <td>104.000000</td>\n",
       "      <td>82.800000</td>\n",
       "      <td>7.490000</td>\n",
       "      <td>105000.000000</td>\n",
       "    </tr>\n",
       "  </tbody>\n",
       "</table>\n",
       "</div>"
      ],
      "text/plain": [
       "       child_mort     exports      health     imports         income  \\\n",
       "count  167.000000  167.000000  167.000000  167.000000     167.000000   \n",
       "mean    38.270060   41.108976    6.815689   46.890215   17144.688623   \n",
       "std     40.328931   27.412010    2.746837   24.209589   19278.067698   \n",
       "min      2.600000    0.109000    1.810000    0.065900     609.000000   \n",
       "25%      8.250000   23.800000    4.920000   30.200000    3355.000000   \n",
       "50%     19.300000   35.000000    6.320000   43.300000    9960.000000   \n",
       "75%     62.100000   51.350000    8.600000   58.750000   22800.000000   \n",
       "95%    116.000000   80.570000   11.570000   81.140000   48290.000000   \n",
       "99%    153.400000  160.480000   13.474000  146.080000   84374.000000   \n",
       "max    208.000000  200.000000   17.900000  174.000000  125000.000000   \n",
       "\n",
       "        inflation  life_expec   total_fer           gdpp  \n",
       "count  167.000000  167.000000  167.000000     167.000000  \n",
       "mean     7.781832   70.555689    2.947964   12964.155689  \n",
       "std     10.570704    8.893172    1.513848   18328.704809  \n",
       "min     -4.210000   32.100000    1.150000     231.000000  \n",
       "25%      1.810000   65.300000    1.795000    1330.000000  \n",
       "50%      5.390000   73.100000    2.410000    4660.000000  \n",
       "75%     10.750000   76.800000    3.880000   14050.000000  \n",
       "95%     20.870000   81.400000    5.861000   48610.000000  \n",
       "99%     41.478000   82.370000    6.563600   79088.000000  \n",
       "max    104.000000   82.800000    7.490000  105000.000000  "
      ]
     },
     "execution_count": 283,
     "metadata": {},
     "output_type": "execute_result"
    }
   ],
   "source": [
    "country.describe(percentiles =[0.25,0.5,0.75,0.95,0.99])"
   ]
  },
  {
   "cell_type": "code",
   "execution_count": 284,
   "metadata": {},
   "outputs": [
    {
     "name": "stdout",
     "output_type": "stream",
     "text": [
      "<class 'pandas.core.frame.DataFrame'>\n",
      "RangeIndex: 167 entries, 0 to 166\n",
      "Data columns (total 10 columns):\n",
      "country       167 non-null object\n",
      "child_mort    167 non-null float64\n",
      "exports       167 non-null float64\n",
      "health        167 non-null float64\n",
      "imports       167 non-null float64\n",
      "income        167 non-null int64\n",
      "inflation     167 non-null float64\n",
      "life_expec    167 non-null float64\n",
      "total_fer     167 non-null float64\n",
      "gdpp          167 non-null int64\n",
      "dtypes: float64(7), int64(2), object(1)\n",
      "memory usage: 13.1+ KB\n"
     ]
    }
   ],
   "source": [
    "country.info()"
   ]
  },
  {
   "cell_type": "code",
   "execution_count": 285,
   "metadata": {},
   "outputs": [
    {
     "data": {
      "text/plain": [
       "country       0\n",
       "child_mort    0\n",
       "exports       0\n",
       "health        0\n",
       "imports       0\n",
       "income        0\n",
       "inflation     0\n",
       "life_expec    0\n",
       "total_fer     0\n",
       "gdpp          0\n",
       "dtype: int64"
      ]
     },
     "execution_count": 285,
     "metadata": {},
     "output_type": "execute_result"
    }
   ],
   "source": [
    "# checkign for null values\n",
    "\n",
    "country.isnull().sum()"
   ]
  },
  {
   "cell_type": "code",
   "execution_count": 286,
   "metadata": {},
   "outputs": [],
   "source": [
    "# Applying scaling on dataset\n",
    "\n",
    "from sklearn.preprocessing import StandardScaler\n",
    "\n",
    "country_scale =  country[['child_mort','exports','health' , 'imports' , 'income' , 'inflation' , 'life_expec' , 'total_fer' , 'gdpp']]\n",
    "standard_scale = StandardScaler()\n",
    "country_scale = standard_scale.fit_transform(country_scale)\n",
    "country_scale = pd.DataFrame(country_scale)"
   ]
  },
  {
   "cell_type": "code",
   "execution_count": 287,
   "metadata": {},
   "outputs": [
    {
     "data": {
      "text/plain": [
       "((167, 9),\n",
       "                   0             1             2             3             4  \\\n",
       " count  1.670000e+02  1.670000e+02  1.670000e+02  1.670000e+02  1.670000e+02   \n",
       " mean  -2.659217e-17  2.383323e-16  5.218713e-16  2.871954e-16 -7.512288e-17   \n",
       " std    1.003008e+00  1.003008e+00  1.003008e+00  1.003008e+00  1.003008e+00   \n",
       " min   -8.871383e-01 -1.500192e+00 -1.827827e+00 -1.939940e+00 -8.603259e-01   \n",
       " 25%   -7.466190e-01 -6.333367e-01 -6.922106e-01 -6.914785e-01 -7.174558e-01   \n",
       " 50%   -4.717981e-01 -2.235279e-01 -1.810007e-01 -1.487432e-01 -3.738080e-01   \n",
       " 75%    5.926666e-01  3.747198e-01  6.515412e-01  4.913530e-01  2.942370e-01   \n",
       " max    4.221297e+00  5.813835e+00  4.047436e+00  5.266181e+00  5.611542e+00   \n",
       " \n",
       "                   5             6             7             8  \n",
       " count  1.670000e+02  1.670000e+02  1.670000e+02  1.670000e+02  \n",
       " mean   8.376533e-17  3.616535e-16  3.124580e-16  2.127373e-17  \n",
       " std    1.003008e+00  1.003008e+00  1.003008e+00  1.003008e+00  \n",
       " min   -1.137852e+00 -4.337186e+00 -1.191250e+00 -6.968005e-01  \n",
       " 25%   -5.666409e-01 -5.927576e-01 -7.639023e-01 -6.366596e-01  \n",
       " 50%   -2.269504e-01  2.869576e-01 -3.564309e-01 -4.544309e-01  \n",
       " 75%    2.816364e-01  7.042584e-01  6.175252e-01  5.942100e-02  \n",
       " max    9.129718e+00  1.380962e+00  3.009349e+00  5.036507e+00  )"
      ]
     },
     "execution_count": 287,
     "metadata": {},
     "output_type": "execute_result"
    }
   ],
   "source": [
    "country_scale.shape  , country_scale.describe()"
   ]
  },
  {
   "cell_type": "code",
   "execution_count": 288,
   "metadata": {},
   "outputs": [
    {
     "data": {
      "text/html": [
       "<div>\n",
       "<style scoped>\n",
       "    .dataframe tbody tr th:only-of-type {\n",
       "        vertical-align: middle;\n",
       "    }\n",
       "\n",
       "    .dataframe tbody tr th {\n",
       "        vertical-align: top;\n",
       "    }\n",
       "\n",
       "    .dataframe thead th {\n",
       "        text-align: right;\n",
       "    }\n",
       "</style>\n",
       "<table border=\"1\" class=\"dataframe\">\n",
       "  <thead>\n",
       "    <tr style=\"text-align: right;\">\n",
       "      <th></th>\n",
       "      <th>0</th>\n",
       "      <th>1</th>\n",
       "      <th>2</th>\n",
       "      <th>3</th>\n",
       "      <th>4</th>\n",
       "      <th>5</th>\n",
       "      <th>6</th>\n",
       "      <th>7</th>\n",
       "      <th>8</th>\n",
       "    </tr>\n",
       "  </thead>\n",
       "  <tbody>\n",
       "    <tr>\n",
       "      <th>0</th>\n",
       "      <td>1.291532</td>\n",
       "      <td>-1.138280</td>\n",
       "      <td>0.279088</td>\n",
       "      <td>-0.082455</td>\n",
       "      <td>-0.808245</td>\n",
       "      <td>0.157336</td>\n",
       "      <td>-1.619092</td>\n",
       "      <td>1.902882</td>\n",
       "      <td>-0.679180</td>\n",
       "    </tr>\n",
       "    <tr>\n",
       "      <th>1</th>\n",
       "      <td>-0.538949</td>\n",
       "      <td>-0.479658</td>\n",
       "      <td>-0.097016</td>\n",
       "      <td>0.070837</td>\n",
       "      <td>-0.375369</td>\n",
       "      <td>-0.312347</td>\n",
       "      <td>0.647866</td>\n",
       "      <td>-0.859973</td>\n",
       "      <td>-0.485623</td>\n",
       "    </tr>\n",
       "    <tr>\n",
       "      <th>2</th>\n",
       "      <td>-0.272833</td>\n",
       "      <td>-0.099122</td>\n",
       "      <td>-0.966073</td>\n",
       "      <td>-0.641762</td>\n",
       "      <td>-0.220844</td>\n",
       "      <td>0.789274</td>\n",
       "      <td>0.670423</td>\n",
       "      <td>-0.038404</td>\n",
       "      <td>-0.465376</td>\n",
       "    </tr>\n",
       "    <tr>\n",
       "      <th>3</th>\n",
       "      <td>2.007808</td>\n",
       "      <td>0.775381</td>\n",
       "      <td>-1.448071</td>\n",
       "      <td>-0.165315</td>\n",
       "      <td>-0.585043</td>\n",
       "      <td>1.387054</td>\n",
       "      <td>-1.179234</td>\n",
       "      <td>2.128151</td>\n",
       "      <td>-0.516268</td>\n",
       "    </tr>\n",
       "    <tr>\n",
       "      <th>4</th>\n",
       "      <td>-0.695634</td>\n",
       "      <td>0.160668</td>\n",
       "      <td>-0.286894</td>\n",
       "      <td>0.497568</td>\n",
       "      <td>0.101732</td>\n",
       "      <td>-0.601749</td>\n",
       "      <td>0.704258</td>\n",
       "      <td>-0.541946</td>\n",
       "      <td>-0.041817</td>\n",
       "    </tr>\n",
       "  </tbody>\n",
       "</table>\n",
       "</div>"
      ],
      "text/plain": [
       "          0         1         2         3         4         5         6  \\\n",
       "0  1.291532 -1.138280  0.279088 -0.082455 -0.808245  0.157336 -1.619092   \n",
       "1 -0.538949 -0.479658 -0.097016  0.070837 -0.375369 -0.312347  0.647866   \n",
       "2 -0.272833 -0.099122 -0.966073 -0.641762 -0.220844  0.789274  0.670423   \n",
       "3  2.007808  0.775381 -1.448071 -0.165315 -0.585043  1.387054 -1.179234   \n",
       "4 -0.695634  0.160668 -0.286894  0.497568  0.101732 -0.601749  0.704258   \n",
       "\n",
       "          7         8  \n",
       "0  1.902882 -0.679180  \n",
       "1 -0.859973 -0.485623  \n",
       "2 -0.038404 -0.465376  \n",
       "3  2.128151 -0.516268  \n",
       "4 -0.541946 -0.041817  "
      ]
     },
     "execution_count": 288,
     "metadata": {},
     "output_type": "execute_result"
    }
   ],
   "source": [
    "country_scale.head()"
   ]
  },
  {
   "cell_type": "code",
   "execution_count": 289,
   "metadata": {},
   "outputs": [
    {
     "data": {
      "text/html": [
       "<div>\n",
       "<style scoped>\n",
       "    .dataframe tbody tr th:only-of-type {\n",
       "        vertical-align: middle;\n",
       "    }\n",
       "\n",
       "    .dataframe tbody tr th {\n",
       "        vertical-align: top;\n",
       "    }\n",
       "\n",
       "    .dataframe thead th {\n",
       "        text-align: right;\n",
       "    }\n",
       "</style>\n",
       "<table border=\"1\" class=\"dataframe\">\n",
       "  <thead>\n",
       "    <tr style=\"text-align: right;\">\n",
       "      <th></th>\n",
       "      <th>country</th>\n",
       "      <th>child_mort</th>\n",
       "      <th>exports</th>\n",
       "      <th>health</th>\n",
       "      <th>imports</th>\n",
       "      <th>income</th>\n",
       "      <th>inflation</th>\n",
       "      <th>life_expec</th>\n",
       "      <th>total_fer</th>\n",
       "      <th>gdpp</th>\n",
       "    </tr>\n",
       "  </thead>\n",
       "  <tbody>\n",
       "    <tr>\n",
       "      <th>0</th>\n",
       "      <td>Afghanistan</td>\n",
       "      <td>1.291532</td>\n",
       "      <td>-1.138280</td>\n",
       "      <td>0.279088</td>\n",
       "      <td>-0.082455</td>\n",
       "      <td>-0.808245</td>\n",
       "      <td>0.157336</td>\n",
       "      <td>-1.619092</td>\n",
       "      <td>1.902882</td>\n",
       "      <td>-0.679180</td>\n",
       "    </tr>\n",
       "    <tr>\n",
       "      <th>1</th>\n",
       "      <td>Albania</td>\n",
       "      <td>-0.538949</td>\n",
       "      <td>-0.479658</td>\n",
       "      <td>-0.097016</td>\n",
       "      <td>0.070837</td>\n",
       "      <td>-0.375369</td>\n",
       "      <td>-0.312347</td>\n",
       "      <td>0.647866</td>\n",
       "      <td>-0.859973</td>\n",
       "      <td>-0.485623</td>\n",
       "    </tr>\n",
       "    <tr>\n",
       "      <th>2</th>\n",
       "      <td>Algeria</td>\n",
       "      <td>-0.272833</td>\n",
       "      <td>-0.099122</td>\n",
       "      <td>-0.966073</td>\n",
       "      <td>-0.641762</td>\n",
       "      <td>-0.220844</td>\n",
       "      <td>0.789274</td>\n",
       "      <td>0.670423</td>\n",
       "      <td>-0.038404</td>\n",
       "      <td>-0.465376</td>\n",
       "    </tr>\n",
       "    <tr>\n",
       "      <th>3</th>\n",
       "      <td>Angola</td>\n",
       "      <td>2.007808</td>\n",
       "      <td>0.775381</td>\n",
       "      <td>-1.448071</td>\n",
       "      <td>-0.165315</td>\n",
       "      <td>-0.585043</td>\n",
       "      <td>1.387054</td>\n",
       "      <td>-1.179234</td>\n",
       "      <td>2.128151</td>\n",
       "      <td>-0.516268</td>\n",
       "    </tr>\n",
       "    <tr>\n",
       "      <th>4</th>\n",
       "      <td>Antigua and Barbuda</td>\n",
       "      <td>-0.695634</td>\n",
       "      <td>0.160668</td>\n",
       "      <td>-0.286894</td>\n",
       "      <td>0.497568</td>\n",
       "      <td>0.101732</td>\n",
       "      <td>-0.601749</td>\n",
       "      <td>0.704258</td>\n",
       "      <td>-0.541946</td>\n",
       "      <td>-0.041817</td>\n",
       "    </tr>\n",
       "  </tbody>\n",
       "</table>\n",
       "</div>"
      ],
      "text/plain": [
       "               country  child_mort   exports    health   imports    income  \\\n",
       "0          Afghanistan    1.291532 -1.138280  0.279088 -0.082455 -0.808245   \n",
       "1              Albania   -0.538949 -0.479658 -0.097016  0.070837 -0.375369   \n",
       "2              Algeria   -0.272833 -0.099122 -0.966073 -0.641762 -0.220844   \n",
       "3               Angola    2.007808  0.775381 -1.448071 -0.165315 -0.585043   \n",
       "4  Antigua and Barbuda   -0.695634  0.160668 -0.286894  0.497568  0.101732   \n",
       "\n",
       "   inflation  life_expec  total_fer      gdpp  \n",
       "0   0.157336   -1.619092   1.902882 -0.679180  \n",
       "1  -0.312347    0.647866  -0.859973 -0.485623  \n",
       "2   0.789274    0.670423  -0.038404 -0.465376  \n",
       "3   1.387054   -1.179234   2.128151 -0.516268  \n",
       "4  -0.601749    0.704258  -0.541946 -0.041817  "
      ]
     },
     "execution_count": 289,
     "metadata": {},
     "output_type": "execute_result"
    }
   ],
   "source": [
    "country = country.drop(['child_mort','exports','health' , 'imports' , 'income' , 'inflation' , 'life_expec' , 'total_fer' , 'gdpp'], 1)\n",
    "country_scale.columns = ['child_mort','exports','health' , 'imports' , 'income' , 'inflation' , 'life_expec' , 'total_fer' , 'gdpp']\n",
    "country = pd.concat([country , country_scale] , axis = 1)\n",
    "country.head()\n",
    "\n",
    "#initial dataset after standardizing"
   ]
  },
  {
   "cell_type": "code",
   "execution_count": 290,
   "metadata": {},
   "outputs": [
    {
     "data": {
      "text/plain": [
       "<matplotlib.axes._subplots.AxesSubplot at 0x129ab208>"
      ]
     },
     "execution_count": 290,
     "metadata": {},
     "output_type": "execute_result"
    },
    {
     "data": {
      "image/png": "[encoded data removed]",
      "text/plain": [
       "<Figure size 720x576 with 2 Axes>"
      ]
     },
     "metadata": {},
     "output_type": "display_data"
    }
   ],
   "source": [
    "# Correlation\n",
    "\n",
    "plt.figure(figsize = (10,8))\n",
    "sns.heatmap(country.corr() , annot = True)"
   ]
  },
  {
   "cell_type": "code",
   "execution_count": 291,
   "metadata": {},
   "outputs": [
    {
     "data": {
      "text/plain": [
       "PCA(copy=True, iterated_power='auto', n_components=None, random_state=50,\n",
       "  svd_solver='randomized', tol=0.0, whiten=False)"
      ]
     },
     "execution_count": 291,
     "metadata": {},
     "output_type": "execute_result"
    }
   ],
   "source": [
    "# PCA to tackle multi-collinearity issue ,as shown by diagram above\n",
    "\n",
    "from sklearn.decomposition import PCA\n",
    "pca_df = country[['child_mort','exports','health' , 'imports' , 'income' , 'inflation' , 'life_expec' , 'total_fer' , 'gdpp']]\n",
    "pca = PCA(svd_solver = 'randomized' , random_state = 50)\n",
    "pca.fit(pca_df)"
   ]
  },
  {
   "cell_type": "code",
   "execution_count": 292,
   "metadata": {},
   "outputs": [
    {
     "data": {
      "text/plain": [
       "array([[-0.41951945,  0.28389698,  0.15083782,  0.16148244,  0.39844111,\n",
       "        -0.19317293,  0.42583938, -0.40372896,  0.39264482],\n",
       "       [ 0.19288394,  0.61316349, -0.24308678,  0.67182064,  0.02253553,\n",
       "        -0.00840447, -0.22270674,  0.15523311, -0.0460224 ],\n",
       "       [-0.02954353,  0.14476069, -0.59663237, -0.29992674,  0.3015475 ,\n",
       "         0.64251951,  0.11391854,  0.01954925,  0.12297749],\n",
       "       [ 0.37065326,  0.00309102,  0.4618975 , -0.07190746,  0.39215904,\n",
       "         0.15044176, -0.20379723,  0.37830365,  0.53199457],\n",
       "       [-0.16896968,  0.05761584,  0.51800037,  0.25537642, -0.2471496 ,\n",
       "         0.7148691 ,  0.1082198 , -0.13526221, -0.18016662],\n",
       "       [ 0.20062815, -0.05933283,  0.00727646, -0.03003154,  0.16034699,\n",
       "         0.06628537, -0.60112652, -0.75068875,  0.01677876],\n",
       "       [-0.07948854, -0.70730269, -0.24983051,  0.59218953,  0.09556237,\n",
       "         0.10463252,  0.01848639,  0.02882643,  0.24299776],\n",
       "       [-0.68274306, -0.01419742,  0.07249683, -0.02894642,  0.35262369,\n",
       "        -0.01153775, -0.50466425,  0.29335267, -0.24969636],\n",
       "       [ 0.3275418 , -0.12308207,  0.11308797,  0.09903717,  0.61298247,\n",
       "        -0.02523614,  0.29403981, -0.02633585, -0.62564572]])"
      ]
     },
     "execution_count": 292,
     "metadata": {},
     "output_type": "execute_result"
    }
   ],
   "source": [
    "pca.components_"
   ]
  },
  {
   "cell_type": "code",
   "execution_count": 293,
   "metadata": {},
   "outputs": [
    {
     "data": {
      "text/html": [
       "<div>\n",
       "<style scoped>\n",
       "    .dataframe tbody tr th:only-of-type {\n",
       "        vertical-align: middle;\n",
       "    }\n",
       "\n",
       "    .dataframe tbody tr th {\n",
       "        vertical-align: top;\n",
       "    }\n",
       "\n",
       "    .dataframe thead th {\n",
       "        text-align: right;\n",
       "    }\n",
       "</style>\n",
       "<table border=\"1\" class=\"dataframe\">\n",
       "  <thead>\n",
       "    <tr style=\"text-align: right;\">\n",
       "      <th></th>\n",
       "      <th>Features</th>\n",
       "      <th>PC1</th>\n",
       "      <th>PC2</th>\n",
       "    </tr>\n",
       "  </thead>\n",
       "  <tbody>\n",
       "    <tr>\n",
       "      <th>0</th>\n",
       "      <td>child_mort</td>\n",
       "      <td>-0.419519</td>\n",
       "      <td>0.192884</td>\n",
       "    </tr>\n",
       "    <tr>\n",
       "      <th>1</th>\n",
       "      <td>exports</td>\n",
       "      <td>0.283897</td>\n",
       "      <td>0.613163</td>\n",
       "    </tr>\n",
       "    <tr>\n",
       "      <th>2</th>\n",
       "      <td>health</td>\n",
       "      <td>0.150838</td>\n",
       "      <td>-0.243087</td>\n",
       "    </tr>\n",
       "    <tr>\n",
       "      <th>3</th>\n",
       "      <td>imports</td>\n",
       "      <td>0.161482</td>\n",
       "      <td>0.671821</td>\n",
       "    </tr>\n",
       "    <tr>\n",
       "      <th>4</th>\n",
       "      <td>income</td>\n",
       "      <td>0.398441</td>\n",
       "      <td>0.022536</td>\n",
       "    </tr>\n",
       "    <tr>\n",
       "      <th>5</th>\n",
       "      <td>inflation</td>\n",
       "      <td>-0.193173</td>\n",
       "      <td>-0.008404</td>\n",
       "    </tr>\n",
       "    <tr>\n",
       "      <th>6</th>\n",
       "      <td>life_expec</td>\n",
       "      <td>0.425839</td>\n",
       "      <td>-0.222707</td>\n",
       "    </tr>\n",
       "    <tr>\n",
       "      <th>7</th>\n",
       "      <td>total_fer</td>\n",
       "      <td>-0.403729</td>\n",
       "      <td>0.155233</td>\n",
       "    </tr>\n",
       "    <tr>\n",
       "      <th>8</th>\n",
       "      <td>gdpp</td>\n",
       "      <td>0.392645</td>\n",
       "      <td>-0.046022</td>\n",
       "    </tr>\n",
       "  </tbody>\n",
       "</table>\n",
       "</div>"
      ],
      "text/plain": [
       "     Features       PC1       PC2\n",
       "0  child_mort -0.419519  0.192884\n",
       "1     exports  0.283897  0.613163\n",
       "2      health  0.150838 -0.243087\n",
       "3     imports  0.161482  0.671821\n",
       "4      income  0.398441  0.022536\n",
       "5   inflation -0.193173 -0.008404\n",
       "6  life_expec  0.425839 -0.222707\n",
       "7   total_fer -0.403729  0.155233\n",
       "8        gdpp  0.392645 -0.046022"
      ]
     },
     "execution_count": 293,
     "metadata": {},
     "output_type": "execute_result"
    }
   ],
   "source": [
    "# Appending PCA componenst to dataset\n",
    "\n",
    "colnames = list(pca_df.columns)\n",
    "components = pd.DataFrame({'PC1': pca.components_[0], 'PC2': pca.components_[1], 'Features': colnames})\n",
    "components"
   ]
  },
  {
   "cell_type": "code",
   "execution_count": 294,
   "metadata": {},
   "outputs": [
    {
     "data": {
      "image/png": "[encoded data removed]",
      "text/plain": [
       "<Figure size 432x432 with 1 Axes>"
      ]
     },
     "metadata": {},
     "output_type": "display_data"
    }
   ],
   "source": [
    "fig = plt.figure(figsize = (6,6))\n",
    "plt.scatter(components.PC1 , components.PC2)\n",
    "plt.xlabel(' PC1 ')\n",
    "plt.ylabel(' PC2 ')\n",
    "for i , txt in enumerate(components.Features):\n",
    "    plt.annotate(txt, (components.PC1[i] , components.PC2[i]))\n",
    "plt.show()"
   ]
  },
  {
   "cell_type": "code",
   "execution_count": 295,
   "metadata": {},
   "outputs": [
    {
     "data": {
      "image/png": "[encoded data removed]",
      "text/plain": [
       "<Figure size 432x432 with 1 Axes>"
      ]
     },
     "metadata": {},
     "output_type": "display_data"
    }
   ],
   "source": [
    "fig = plt.figure(figsize = (6,6))\n",
    "plt.plot(np.cumsum(pca.explained_variance_ratio_))\n",
    "plt.xlabel('number of components')\n",
    "plt.ylabel('cumulative explained variance')\n",
    "plt.show()\n",
    "\n",
    "#basd on figure, proceeding with 5 components for further analysis"
   ]
  },
  {
   "cell_type": "code",
   "execution_count": 296,
   "metadata": {},
   "outputs": [],
   "source": [
    "#Incremental PCA\n",
    "\n",
    "from sklearn.decomposition import IncrementalPCA\n",
    "pca_final = IncrementalPCA(n_components = 5)"
   ]
  },
  {
   "cell_type": "code",
   "execution_count": 297,
   "metadata": {},
   "outputs": [
    {
     "data": {
      "text/plain": [
       "(167L, 5L)"
      ]
     },
     "execution_count": 297,
     "metadata": {},
     "output_type": "execute_result"
    }
   ],
   "source": [
    "#Final PCA dataset\n",
    "\n",
    "df_train_pca = pca_final.fit_transform(pca_df)\n",
    "df_train_pca.shape"
   ]
  },
  {
   "cell_type": "code",
   "execution_count": 298,
   "metadata": {},
   "outputs": [
    {
     "data": {
      "text/html": [
       "<div>\n",
       "<style scoped>\n",
       "    .dataframe tbody tr th:only-of-type {\n",
       "        vertical-align: middle;\n",
       "    }\n",
       "\n",
       "    .dataframe tbody tr th {\n",
       "        vertical-align: top;\n",
       "    }\n",
       "\n",
       "    .dataframe thead th {\n",
       "        text-align: right;\n",
       "    }\n",
       "</style>\n",
       "<table border=\"1\" class=\"dataframe\">\n",
       "  <thead>\n",
       "    <tr style=\"text-align: right;\">\n",
       "      <th></th>\n",
       "      <th>PC1</th>\n",
       "      <th>PC2</th>\n",
       "      <th>PC3</th>\n",
       "      <th>PC4</th>\n",
       "      <th>PC5</th>\n",
       "    </tr>\n",
       "  </thead>\n",
       "  <tbody>\n",
       "    <tr>\n",
       "      <th>0</th>\n",
       "      <td>-2.913010</td>\n",
       "      <td>0.091639</td>\n",
       "      <td>-0.721224</td>\n",
       "      <td>1.001846</td>\n",
       "      <td>-0.146953</td>\n",
       "    </tr>\n",
       "    <tr>\n",
       "      <th>1</th>\n",
       "      <td>0.429876</td>\n",
       "      <td>-0.589506</td>\n",
       "      <td>-0.328396</td>\n",
       "      <td>-1.165006</td>\n",
       "      <td>0.153447</td>\n",
       "    </tr>\n",
       "    <tr>\n",
       "      <th>2</th>\n",
       "      <td>-0.285269</td>\n",
       "      <td>-0.451602</td>\n",
       "      <td>1.232184</td>\n",
       "      <td>-0.857784</td>\n",
       "      <td>0.191528</td>\n",
       "    </tr>\n",
       "    <tr>\n",
       "      <th>3</th>\n",
       "      <td>-2.932723</td>\n",
       "      <td>1.699271</td>\n",
       "      <td>1.524439</td>\n",
       "      <td>0.855563</td>\n",
       "      <td>-0.215234</td>\n",
       "    </tr>\n",
       "    <tr>\n",
       "      <th>4</th>\n",
       "      <td>1.033368</td>\n",
       "      <td>0.133696</td>\n",
       "      <td>-0.216746</td>\n",
       "      <td>-0.846631</td>\n",
       "      <td>-0.193265</td>\n",
       "    </tr>\n",
       "  </tbody>\n",
       "</table>\n",
       "</div>"
      ],
      "text/plain": [
       "        PC1       PC2       PC3       PC4       PC5\n",
       "0 -2.913010  0.091639 -0.721224  1.001846 -0.146953\n",
       "1  0.429876 -0.589506 -0.328396 -1.165006  0.153447\n",
       "2 -0.285269 -0.451602  1.232184 -0.857784  0.191528\n",
       "3 -2.932723  1.699271  1.524439  0.855563 -0.215234\n",
       "4  1.033368  0.133696 -0.216746 -0.846631 -0.193265"
      ]
     },
     "execution_count": 298,
     "metadata": {},
     "output_type": "execute_result"
    }
   ],
   "source": [
    "# converting to DF\n",
    "\n",
    "df_train_pca_1 = pd.DataFrame(df_train_pca , columns = ['PC1','PC2','PC3','PC4','PC5'])\n",
    "df_train_pca_1.head()"
   ]
  },
  {
   "cell_type": "code",
   "execution_count": 299,
   "metadata": {},
   "outputs": [
    {
     "data": {
      "image/png": "[encoded data removed]",
      "text/plain": [
       "<Figure size 432x288 with 2 Axes>"
      ]
     },
     "metadata": {},
     "output_type": "display_data"
    }
   ],
   "source": [
    "# Creating the correlation matrix for the principal components\n",
    "corrmat = np.corrcoef(df_train_pca_1.transpose())\n",
    "\n",
    "\n",
    "sns.heatmap(corrmat , annot = True)\n",
    "plt.show()"
   ]
  },
  {
   "cell_type": "code",
   "execution_count": 300,
   "metadata": {},
   "outputs": [
    {
     "name": "stdout",
     "output_type": "stream",
     "text": [
      "('max corr: ', 0.007253866250525912, ', min corr: ', -0.0027076543498516918)\n"
     ]
    }
   ],
   "source": [
    "# Is -> 0s in diagonal\n",
    "corrmat_nodiag = corrmat - np.diagflat(corrmat.diagonal())\n",
    "print(\"max corr: \" , corrmat_nodiag.max(), \", min corr: \" , corrmat_nodiag.min())"
   ]
  },
  {
   "cell_type": "markdown",
   "metadata": {},
   "source": [
    "# OUTLIER ANALYSIS"
   ]
  },
  {
   "cell_type": "code",
   "execution_count": 301,
   "metadata": {},
   "outputs": [
    {
     "data": {
      "image/png": "[encoded data removed]",
      "text/plain": [
       "<Figure size 432x288 with 1 Axes>"
      ]
     },
     "metadata": {},
     "output_type": "display_data"
    }
   ],
   "source": [
    "plt.boxplot(df_train_pca_1.PC1)\n",
    "Q1 = df_train_pca_1.PC1.quantile(0.25)\n",
    "Q3 =df_train_pca_1.PC1.quantile(0.75)\n",
    "IQR = Q3 - Q1 \n",
    "df_train_pca_1 = df_train_pca_1[(df_train_pca_1.PC1 >= Q1 - 1.5*IQR) & (df_train_pca_1.PC1 <=Q3 + 1.5*IQR)]"
   ]
  },
  {
   "cell_type": "code",
   "execution_count": 302,
   "metadata": {},
   "outputs": [
    {
     "data": {
      "image/png": "[encoded data removed]",
      "text/plain": [
       "<Figure size 432x288 with 1 Axes>"
      ]
     },
     "metadata": {},
     "output_type": "display_data"
    }
   ],
   "source": [
    "plt.boxplot(df_train_pca_1.PC2)\n",
    "Q1 = df_train_pca_1.PC2.quantile(0.25)\n",
    "Q3 =df_train_pca_1.PC2.quantile(0.75)\n",
    "IQR = Q3 - Q1 \n",
    "df_train_pca_1 = df_train_pca_1[(df_train_pca_1.PC2 >= Q1 - 1.5*IQR) & (df_train_pca_1.PC2 <=Q3 + 1.5*IQR)]"
   ]
  },
  {
   "cell_type": "code",
   "execution_count": 303,
   "metadata": {},
   "outputs": [
    {
     "data": {
      "image/png": "[encoded data removed]",
      "text/plain": [
       "<Figure size 432x288 with 1 Axes>"
      ]
     },
     "metadata": {},
     "output_type": "display_data"
    }
   ],
   "source": [
    "plt.boxplot(df_train_pca_1.PC3)\n",
    "Q1 = df_train_pca_1.PC3.quantile(0.25)\n",
    "Q3 =df_train_pca_1.PC3.quantile(0.75)\n",
    "IQR = Q3 - Q1 \n",
    "df_train_pca_1 = df_train_pca_1[(df_train_pca_1.PC3 >= Q1 - 1.5*IQR) & (df_train_pca_1.PC3 <=Q3 + 1.5*IQR)]"
   ]
  },
  {
   "cell_type": "code",
   "execution_count": 304,
   "metadata": {},
   "outputs": [
    {
     "data": {
      "image/png": "[encoded data removed]",
      "text/plain": [
       "<Figure size 432x288 with 1 Axes>"
      ]
     },
     "metadata": {},
     "output_type": "display_data"
    }
   ],
   "source": [
    "plt.boxplot(df_train_pca_1.PC4)\n",
    "Q1 = df_train_pca_1.PC4.quantile(0.25)\n",
    "Q3 =df_train_pca_1.PC4.quantile(0.75)\n",
    "IQR = Q3 - Q1 \n",
    "df_train_pca_1 = df_train_pca_1[(df_train_pca_1.PC4 >= Q1 - 1.5*IQR) & (df_train_pca_1.PC4 <=Q3 + 1.5*IQR)]"
   ]
  },
  {
   "cell_type": "code",
   "execution_count": 305,
   "metadata": {},
   "outputs": [
    {
     "data": {
      "image/png": "[encoded data removed]",
      "text/plain": [
       "<Figure size 432x288 with 1 Axes>"
      ]
     },
     "metadata": {},
     "output_type": "display_data"
    }
   ],
   "source": [
    "plt.boxplot(df_train_pca_1.PC5)\n",
    "Q1 = df_train_pca_1.PC5.quantile(0.25)\n",
    "Q3 =df_train_pca_1.PC5.quantile(0.75)\n",
    "IQR = Q3 - Q1 \n",
    "df_train_pca_1 = df_train_pca_1[(df_train_pca_1.PC5 >= Q1 - 1.5*IQR) & (df_train_pca_1.PC5 <=Q3 + 1.5*IQR)]"
   ]
  },
  {
   "cell_type": "code",
   "execution_count": 306,
   "metadata": {},
   "outputs": [
    {
     "data": {
      "text/plain": [
       "(143, 5)"
      ]
     },
     "execution_count": 306,
     "metadata": {},
     "output_type": "execute_result"
    }
   ],
   "source": [
    "df_train_pca_1.shape"
   ]
  },
  {
   "cell_type": "markdown",
   "metadata": {},
   "source": [
    "# Applying the K Means Algorithm"
   ]
  },
  {
   "cell_type": "code",
   "execution_count": 307,
   "metadata": {},
   "outputs": [],
   "source": [
    "\n",
    "from sklearn.neighbors import NearestNeighbors\n",
    "from random import sample\n",
    "from numpy.random import uniform\n",
    "from math import isnan\n",
    " \n",
    "def hopkins(X):\n",
    "    d = X.shape[1]\n",
    "    #d = len(vars) # columns\n",
    "    n = len(X) # rows\n",
    "    m = int(0.1 * n) \n",
    "    nbrs = NearestNeighbors(n_neighbors=1).fit(X.values)\n",
    " \n",
    "    rand_X = sample(range(0, n, 1), m)\n",
    " \n",
    "    ujd = []\n",
    "    wjd = []\n",
    "    for j in range(0, m):\n",
    "        u_dist, _ = nbrs.kneighbors(uniform(np.amin(X,axis=0),np.amax(X,axis=0),d).reshape(1, -1), 2, return_distance=True)\n",
    "        ujd.append(u_dist[0][1])\n",
    "        w_dist, _ = nbrs.kneighbors(X.iloc[rand_X[j]].values.reshape(1, -1), 2, return_distance=True)\n",
    "        wjd.append(w_dist[0][1])\n",
    " \n",
    "    H = sum(ujd) / (sum(ujd) + sum(wjd))\n",
    "    if isnan(H):\n",
    "        print(ujd, wjd)\n",
    "        H = 0\n",
    " \n",
    "    return H"
   ]
  },
  {
   "cell_type": "code",
   "execution_count": 308,
   "metadata": {},
   "outputs": [
    {
     "data": {
      "text/plain": [
       "0.6674911249577001"
      ]
     },
     "execution_count": 308,
     "metadata": {},
     "output_type": "execute_result"
    }
   ],
   "source": [
    "hopkins(df_train_pca_1)"
   ]
  },
  {
   "cell_type": "markdown",
   "metadata": {},
   "source": [
    "# Silhouette Analysis to find the optimal number of K choice."
   ]
  },
  {
   "cell_type": "code",
   "execution_count": 309,
   "metadata": {},
   "outputs": [
    {
     "data": {
      "text/plain": [
       "[<matplotlib.lines.Line2D at 0x12b36a90>]"
      ]
     },
     "execution_count": 309,
     "metadata": {},
     "output_type": "execute_result"
    },
    {
     "data": {
      "image/png": "[encoded data removed]",
      "text/plain": [
       "<Figure size 432x288 with 1 Axes>"
      ]
     },
     "metadata": {},
     "output_type": "display_data"
    }
   ],
   "source": [
    "from sklearn.metrics import silhouette_score\n",
    "sse_ = []\n",
    "for k in range ( 2 , 15):\n",
    "    kmeans = KMeans(n_clusters = k).fit(df_train_pca_1)\n",
    "    sse_.append([k , silhouette_score(df_train_pca_1 , kmeans.labels_)])\n",
    "\n",
    "#plotting the score\n",
    "plt.plot(pd.DataFrame(sse_)[0] ,pd.DataFrame(sse_)[1])"
   ]
  },
  {
   "cell_type": "markdown",
   "metadata": {},
   "source": [
    "# sum of distance squared"
   ]
  },
  {
   "cell_type": "code",
   "execution_count": 310,
   "metadata": {},
   "outputs": [
    {
     "data": {
      "text/plain": [
       "[<matplotlib.lines.Line2D at 0x13c9db00>]"
      ]
     },
     "execution_count": 310,
     "metadata": {},
     "output_type": "execute_result"
    },
    {
     "data": {
      "image/png": "[encoded data removed]",
      "text/plain": [
       "<Figure size 432x288 with 1 Axes>"
      ]
     },
     "metadata": {},
     "output_type": "display_data"
    }
   ],
   "source": [
    "ssd = []\n",
    "for num_clusters in list(range(1,21)):\n",
    "    model_clus = KMeans(n_clusters = num_clusters, max_iter=50)\n",
    "    model_clus.fit(df_train_pca_1)\n",
    "    ssd.append(model_clus.inertia_)\n",
    "\n",
    "plt.plot(ssd)"
   ]
  },
  {
   "cell_type": "code",
   "execution_count": 311,
   "metadata": {},
   "outputs": [
    {
     "data": {
      "text/plain": [
       "KMeans(algorithm='auto', copy_x=True, init='k-means++', max_iter=50,\n",
       "    n_clusters=5, n_init=10, n_jobs=1, precompute_distances='auto',\n",
       "    random_state=None, tol=0.0001, verbose=0)"
      ]
     },
     "execution_count": 311,
     "metadata": {},
     "output_type": "execute_result"
    }
   ],
   "source": [
    "# Kmeans with K=5\n",
    "\n",
    "model_clus5 = KMeans(n_clusters = 5 , max_iter = 50)\n",
    "model_clus5.fit(df_train_pca_1)"
   ]
  },
  {
   "cell_type": "markdown",
   "metadata": {},
   "source": [
    "# Analysis of Clusters Formed"
   ]
  },
  {
   "cell_type": "code",
   "execution_count": 312,
   "metadata": {},
   "outputs": [
    {
     "data": {
      "text/html": [
       "<div>\n",
       "<style scoped>\n",
       "    .dataframe tbody tr th:only-of-type {\n",
       "        vertical-align: middle;\n",
       "    }\n",
       "\n",
       "    .dataframe tbody tr th {\n",
       "        vertical-align: top;\n",
       "    }\n",
       "\n",
       "    .dataframe thead th {\n",
       "        text-align: right;\n",
       "    }\n",
       "</style>\n",
       "<table border=\"1\" class=\"dataframe\">\n",
       "  <thead>\n",
       "    <tr style=\"text-align: right;\">\n",
       "      <th></th>\n",
       "      <th>ClusterID</th>\n",
       "      <th>PC1</th>\n",
       "      <th>PC2</th>\n",
       "      <th>PC3</th>\n",
       "      <th>PC4</th>\n",
       "      <th>PC5</th>\n",
       "    </tr>\n",
       "  </thead>\n",
       "  <tbody>\n",
       "    <tr>\n",
       "      <th>0</th>\n",
       "      <td>4.0</td>\n",
       "      <td>-2.913010</td>\n",
       "      <td>0.091639</td>\n",
       "      <td>-0.721224</td>\n",
       "      <td>1.001846</td>\n",
       "      <td>-0.146953</td>\n",
       "    </tr>\n",
       "    <tr>\n",
       "      <th>1</th>\n",
       "      <td>2.0</td>\n",
       "      <td>0.429876</td>\n",
       "      <td>-0.589506</td>\n",
       "      <td>-0.328396</td>\n",
       "      <td>-1.165006</td>\n",
       "      <td>0.153447</td>\n",
       "    </tr>\n",
       "    <tr>\n",
       "      <th>2</th>\n",
       "      <td>2.0</td>\n",
       "      <td>-0.285269</td>\n",
       "      <td>-0.451602</td>\n",
       "      <td>1.232184</td>\n",
       "      <td>-0.857784</td>\n",
       "      <td>0.191528</td>\n",
       "    </tr>\n",
       "    <tr>\n",
       "      <th>3</th>\n",
       "      <td>1.0</td>\n",
       "      <td>-2.932723</td>\n",
       "      <td>1.699271</td>\n",
       "      <td>1.524439</td>\n",
       "      <td>0.855563</td>\n",
       "      <td>-0.215234</td>\n",
       "    </tr>\n",
       "    <tr>\n",
       "      <th>4</th>\n",
       "      <td>3.0</td>\n",
       "      <td>1.033368</td>\n",
       "      <td>0.133696</td>\n",
       "      <td>-0.216746</td>\n",
       "      <td>-0.846631</td>\n",
       "      <td>-0.193265</td>\n",
       "    </tr>\n",
       "  </tbody>\n",
       "</table>\n",
       "</div>"
      ],
      "text/plain": [
       "   ClusterID       PC1       PC2       PC3       PC4       PC5\n",
       "0        4.0 -2.913010  0.091639 -0.721224  1.001846 -0.146953\n",
       "1        2.0  0.429876 -0.589506 -0.328396 -1.165006  0.153447\n",
       "2        2.0 -0.285269 -0.451602  1.232184 -0.857784  0.191528\n",
       "3        1.0 -2.932723  1.699271  1.524439  0.855563 -0.215234\n",
       "4        3.0  1.033368  0.133696 -0.216746 -0.846631 -0.193265"
      ]
     },
     "execution_count": 312,
     "metadata": {},
     "output_type": "execute_result"
    }
   ],
   "source": [
    "#df_train_pca_1.index = pd.RangeIndex(df_train_pca_1.index)\n",
    "df_train_pca_1_km = pd.concat([pd.Series(model_clus5.labels_), df_train_pca_1], axis = 1)\n",
    "df_train_pca_1_km.columns = ['ClusterID' , 'PC1' , 'PC2' , 'PC3' , 'PC4' , 'PC5']\n",
    "df_train_pca_1_km.head()"
   ]
  },
  {
   "cell_type": "code",
   "execution_count": 313,
   "metadata": {},
   "outputs": [
    {
     "data": {
      "text/html": [
       "<div>\n",
       "<style scoped>\n",
       "    .dataframe tbody tr th:only-of-type {\n",
       "        vertical-align: middle;\n",
       "    }\n",
       "\n",
       "    .dataframe tbody tr th {\n",
       "        vertical-align: top;\n",
       "    }\n",
       "\n",
       "    .dataframe thead th {\n",
       "        text-align: right;\n",
       "    }\n",
       "</style>\n",
       "<table border=\"1\" class=\"dataframe\">\n",
       "  <thead>\n",
       "    <tr style=\"text-align: right;\">\n",
       "      <th></th>\n",
       "      <th>ClusterID</th>\n",
       "      <th>PC1</th>\n",
       "      <th>PC2</th>\n",
       "      <th>PC3</th>\n",
       "      <th>PC4</th>\n",
       "      <th>PC5</th>\n",
       "    </tr>\n",
       "  </thead>\n",
       "  <tbody>\n",
       "    <tr>\n",
       "      <th>0</th>\n",
       "      <td>0</td>\n",
       "      <td>-0.431024</td>\n",
       "      <td>0.009335</td>\n",
       "      <td>0.019161</td>\n",
       "      <td>0.280714</td>\n",
       "      <td>-0.186756</td>\n",
       "    </tr>\n",
       "    <tr>\n",
       "      <th>1</th>\n",
       "      <td>1</td>\n",
       "      <td>-0.305170</td>\n",
       "      <td>-0.132988</td>\n",
       "      <td>-0.049287</td>\n",
       "      <td>-0.195975</td>\n",
       "      <td>-0.075797</td>\n",
       "    </tr>\n",
       "    <tr>\n",
       "      <th>2</th>\n",
       "      <td>2</td>\n",
       "      <td>0.396711</td>\n",
       "      <td>-0.158796</td>\n",
       "      <td>-0.289213</td>\n",
       "      <td>-0.161470</td>\n",
       "      <td>0.090919</td>\n",
       "    </tr>\n",
       "    <tr>\n",
       "      <th>3</th>\n",
       "      <td>3</td>\n",
       "      <td>0.196811</td>\n",
       "      <td>-0.229367</td>\n",
       "      <td>0.034814</td>\n",
       "      <td>-0.235959</td>\n",
       "      <td>-0.082451</td>\n",
       "    </tr>\n",
       "    <tr>\n",
       "      <th>4</th>\n",
       "      <td>4</td>\n",
       "      <td>-0.603067</td>\n",
       "      <td>-0.146090</td>\n",
       "      <td>-0.232438</td>\n",
       "      <td>-0.144809</td>\n",
       "      <td>-0.102564</td>\n",
       "    </tr>\n",
       "  </tbody>\n",
       "</table>\n",
       "</div>"
      ],
      "text/plain": [
       "   ClusterID       PC1       PC2       PC3       PC4       PC5\n",
       "0          0 -0.431024  0.009335  0.019161  0.280714 -0.186756\n",
       "1          1 -0.305170 -0.132988 -0.049287 -0.195975 -0.075797\n",
       "2          2  0.396711 -0.158796 -0.289213 -0.161470  0.090919\n",
       "3          3  0.196811 -0.229367  0.034814 -0.235959 -0.082451\n",
       "4          4 -0.603067 -0.146090 -0.232438 -0.144809 -0.102564"
      ]
     },
     "execution_count": 313,
     "metadata": {},
     "output_type": "execute_result"
    }
   ],
   "source": [
    "km_clusters_PC1 = \tpd.DataFrame(df_train_pca_1_km.groupby([\"ClusterID\"]).PC1.mean())\n",
    "km_clusters_PC2 = \tpd.DataFrame(df_train_pca_1_km.groupby([\"ClusterID\"]).PC2.mean())\n",
    "km_clusters_PC3 = \tpd.DataFrame(df_train_pca_1_km.groupby([\"ClusterID\"]).PC3.mean())\n",
    "km_clusters_PC4 = \tpd.DataFrame(df_train_pca_1_km.groupby([\"ClusterID\"]).PC4.mean())\n",
    "km_clusters_PC5 = \tpd.DataFrame(df_train_pca_1_km.groupby([\"ClusterID\"]).PC5.mean())\n",
    "\n",
    "df = pd.concat([pd.Series([0,1,2,3,4]), km_clusters_PC1, km_clusters_PC2, km_clusters_PC3, km_clusters_PC4 , km_clusters_PC5], axis=1)\n",
    "df.columns = ['ClusterID' , 'PC1', 'PC2', 'PC3', 'PC4', 'PC5']\n",
    "df.head()"
   ]
  },
  {
   "cell_type": "code",
   "execution_count": 314,
   "metadata": {},
   "outputs": [
    {
     "data": {
      "text/html": [
       "<div>\n",
       "<style scoped>\n",
       "    .dataframe tbody tr th:only-of-type {\n",
       "        vertical-align: middle;\n",
       "    }\n",
       "\n",
       "    .dataframe tbody tr th {\n",
       "        vertical-align: top;\n",
       "    }\n",
       "\n",
       "    .dataframe thead th {\n",
       "        text-align: right;\n",
       "    }\n",
       "</style>\n",
       "<table border=\"1\" class=\"dataframe\">\n",
       "  <thead>\n",
       "    <tr style=\"text-align: right;\">\n",
       "      <th></th>\n",
       "      <th>country</th>\n",
       "      <th>ClusterID</th>\n",
       "      <th>PC1</th>\n",
       "      <th>PC2</th>\n",
       "      <th>PC3</th>\n",
       "      <th>PC4</th>\n",
       "      <th>PC5</th>\n",
       "    </tr>\n",
       "  </thead>\n",
       "  <tbody>\n",
       "    <tr>\n",
       "      <th>162</th>\n",
       "      <td>Vanuatu</td>\n",
       "      <td>NaN</td>\n",
       "      <td>-0.820764</td>\n",
       "      <td>0.636206</td>\n",
       "      <td>-0.379725</td>\n",
       "      <td>-0.706881</td>\n",
       "      <td>-0.400861</td>\n",
       "    </tr>\n",
       "    <tr>\n",
       "      <th>163</th>\n",
       "      <td>Venezuela</td>\n",
       "      <td>NaN</td>\n",
       "      <td>-0.549858</td>\n",
       "      <td>-1.213058</td>\n",
       "      <td>3.074840</td>\n",
       "      <td>-0.108672</td>\n",
       "      <td>2.114754</td>\n",
       "    </tr>\n",
       "    <tr>\n",
       "      <th>164</th>\n",
       "      <td>Vietnam</td>\n",
       "      <td>NaN</td>\n",
       "      <td>0.498544</td>\n",
       "      <td>1.393097</td>\n",
       "      <td>-0.253512</td>\n",
       "      <td>-1.085069</td>\n",
       "      <td>1.155943</td>\n",
       "    </tr>\n",
       "    <tr>\n",
       "      <th>165</th>\n",
       "      <td>Yemen</td>\n",
       "      <td>NaN</td>\n",
       "      <td>-1.887284</td>\n",
       "      <td>-0.104700</td>\n",
       "      <td>1.107615</td>\n",
       "      <td>0.062605</td>\n",
       "      <td>0.665552</td>\n",
       "    </tr>\n",
       "    <tr>\n",
       "      <th>166</th>\n",
       "      <td>Zambia</td>\n",
       "      <td>NaN</td>\n",
       "      <td>-2.863890</td>\n",
       "      <td>0.487409</td>\n",
       "      <td>0.221756</td>\n",
       "      <td>0.818985</td>\n",
       "      <td>-0.266265</td>\n",
       "    </tr>\n",
       "  </tbody>\n",
       "</table>\n",
       "</div>"
      ],
      "text/plain": [
       "       country  ClusterID       PC1       PC2       PC3       PC4       PC5\n",
       "162    Vanuatu        NaN -0.820764  0.636206 -0.379725 -0.706881 -0.400861\n",
       "163  Venezuela        NaN -0.549858 -1.213058  3.074840 -0.108672  2.114754\n",
       "164    Vietnam        NaN  0.498544  1.393097 -0.253512 -1.085069  1.155943\n",
       "165      Yemen        NaN -1.887284 -0.104700  1.107615  0.062605  0.665552\n",
       "166     Zambia        NaN -2.863890  0.487409  0.221756  0.818985 -0.266265"
      ]
     },
     "execution_count": 314,
     "metadata": {},
     "output_type": "execute_result"
    }
   ],
   "source": [
    "# Crating master dataframe\n",
    "\n",
    "master = pd.concat([country['country'] , pd.DataFrame(df_train_pca)] , axis = 1)\n",
    "master.columns = ['country' , 'PC1' , 'PC2' , \"PC3\" , 'PC4' , 'PC5']\n",
    "master = pd.concat([master , df_train_pca_1_km['ClusterID']] , axis = 1)\n",
    "\n",
    "colTitles = ['country' , 'ClusterID' , 'PC1' , 'PC2' , 'PC3' , 'PC4' , \"PC5\"]\n",
    "master = master.reindex(columns = colTitles)\n",
    "\n",
    "master.tail()"
   ]
  },
  {
   "cell_type": "code",
   "execution_count": 315,
   "metadata": {},
   "outputs": [
    {
     "data": {
      "text/plain": [
       "(143, 7)"
      ]
     },
     "execution_count": 315,
     "metadata": {},
     "output_type": "execute_result"
    }
   ],
   "source": [
    "# Separating the countries into anothe DFs that are assigned to a cluster\n",
    "\n",
    "no_outlier_country = master[~np.isnan(master.ClusterID)]\n",
    "no_outlier_country.shape"
   ]
  },
  {
   "cell_type": "code",
   "execution_count": 316,
   "metadata": {},
   "outputs": [
    {
     "data": {
      "text/plain": [
       "((24, 7),\n",
       "          country  ClusterID       PC1       PC2       PC3       PC4       PC5\n",
       " 143     Suriname        NaN  0.171659 -0.094139  0.016502 -0.377215  0.110075\n",
       " 144       Sweden        NaN  2.818278 -0.915918 -0.100910  1.245719 -0.309599\n",
       " 145  Switzerland        NaN  4.088628 -0.429357 -0.276187  2.306733 -0.184512\n",
       " 146   Tajikistan        NaN -1.244383 -0.029398 -0.153745 -0.485155  0.417549\n",
       " 147     Tanzania        NaN -2.554165 -0.218131 -0.077832  0.467179 -0.444544)"
      ]
     },
     "execution_count": 316,
     "metadata": {},
     "output_type": "execute_result"
    }
   ],
   "source": [
    "outlier_country = master[np.isnan(master.ClusterID)]\n",
    "outlier_country.shape , outlier_country.head()"
   ]
  },
  {
   "cell_type": "code",
   "execution_count": 317,
   "metadata": {},
   "outputs": [
    {
     "data": {
      "text/plain": [
       "0.6388032304575809"
      ]
     },
     "execution_count": 317,
     "metadata": {},
     "output_type": "execute_result"
    }
   ],
   "source": [
    "# Creating cluesters for outlier countries dataset\n",
    "\n",
    "outlier_country_temp = outlier_country[['PC1','PC2','PC3','PC4','PC5']]\n",
    "hopkins(outlier_country_temp)"
   ]
  },
  {
   "cell_type": "code",
   "execution_count": 318,
   "metadata": {},
   "outputs": [
    {
     "data": {
      "image/png": "[encoded data removed]",
      "text/plain": [
       "<Figure size 432x288 with 1 Axes>"
      ]
     },
     "metadata": {},
     "output_type": "display_data"
    }
   ],
   "source": [
    "# Silhouette Analysis\n",
    "from sklearn.metrics import silhouette_score\n",
    "sse_ = []\n",
    "for k in range(2, 15):\n",
    "    kmeans = KMeans(n_clusters=k).fit(outlier_country_temp)\n",
    "    sse_.append([k, silhouette_score(outlier_country_temp, kmeans.labels_)])\n",
    "\n",
    "# Plotting the silhouette score matrix\n",
    "plt.plot(pd.DataFrame(sse_)[0],pd.DataFrame(sse_)[1])\n",
    "plt.show()"
   ]
  },
  {
   "cell_type": "code",
   "execution_count": 319,
   "metadata": {},
   "outputs": [
    {
     "data": {
      "text/plain": [
       "[<matplotlib.lines.Line2D at 0x10c8c198>]"
      ]
     },
     "execution_count": 319,
     "metadata": {},
     "output_type": "execute_result"
    },
    {
     "data": {
      "image/png": "[encoded data removed]",
      "text/plain": [
       "<Figure size 432x288 with 1 Axes>"
      ]
     },
     "metadata": {},
     "output_type": "display_data"
    }
   ],
   "source": [
    "# sum of squared distances\n",
    "ssd = []\n",
    "for num_clusters in list(range(1,21)):\n",
    "    model_clus = KMeans(n_clusters = num_clusters, max_iter=50)\n",
    "    model_clus.fit(outlier_country_temp)\n",
    "    ssd.append(model_clus.inertia_)\n",
    "\n",
    "plt.plot(ssd)"
   ]
  },
  {
   "cell_type": "code",
   "execution_count": 320,
   "metadata": {},
   "outputs": [
    {
     "data": {
      "text/plain": [
       "KMeans(algorithm='auto', copy_x=True, init='k-means++', max_iter=50,\n",
       "    n_clusters=3, n_init=10, n_jobs=1, precompute_distances='auto',\n",
       "    random_state=None, tol=0.0001, verbose=0)"
      ]
     },
     "execution_count": 320,
     "metadata": {},
     "output_type": "execute_result"
    }
   ],
   "source": [
    "model_clus3 = KMeans(n_clusters = 3 , max_iter = 50)\n",
    "model_clus3.fit(outlier_country_temp)"
   ]
  },
  {
   "cell_type": "code",
   "execution_count": 321,
   "metadata": {},
   "outputs": [
    {
     "data": {
      "text/html": [
       "<div>\n",
       "<style scoped>\n",
       "    .dataframe tbody tr th:only-of-type {\n",
       "        vertical-align: middle;\n",
       "    }\n",
       "\n",
       "    .dataframe tbody tr th {\n",
       "        vertical-align: top;\n",
       "    }\n",
       "\n",
       "    .dataframe thead th {\n",
       "        text-align: right;\n",
       "    }\n",
       "</style>\n",
       "<table border=\"1\" class=\"dataframe\">\n",
       "  <thead>\n",
       "    <tr style=\"text-align: right;\">\n",
       "      <th></th>\n",
       "      <th>ClusterID</th>\n",
       "      <th>PC1</th>\n",
       "      <th>PC2</th>\n",
       "      <th>PC3</th>\n",
       "      <th>PC4</th>\n",
       "      <th>PC5</th>\n",
       "    </tr>\n",
       "  </thead>\n",
       "  <tbody>\n",
       "    <tr>\n",
       "      <th>0</th>\n",
       "      <td>0</td>\n",
       "      <td>0.171659</td>\n",
       "      <td>-0.094139</td>\n",
       "      <td>0.016502</td>\n",
       "      <td>-0.377215</td>\n",
       "      <td>0.110075</td>\n",
       "    </tr>\n",
       "    <tr>\n",
       "      <th>1</th>\n",
       "      <td>1</td>\n",
       "      <td>2.818278</td>\n",
       "      <td>-0.915918</td>\n",
       "      <td>-0.100910</td>\n",
       "      <td>1.245719</td>\n",
       "      <td>-0.309599</td>\n",
       "    </tr>\n",
       "    <tr>\n",
       "      <th>2</th>\n",
       "      <td>1</td>\n",
       "      <td>4.088628</td>\n",
       "      <td>-0.429357</td>\n",
       "      <td>-0.276187</td>\n",
       "      <td>2.306733</td>\n",
       "      <td>-0.184512</td>\n",
       "    </tr>\n",
       "    <tr>\n",
       "      <th>3</th>\n",
       "      <td>2</td>\n",
       "      <td>-1.244383</td>\n",
       "      <td>-0.029398</td>\n",
       "      <td>-0.153745</td>\n",
       "      <td>-0.485155</td>\n",
       "      <td>0.417549</td>\n",
       "    </tr>\n",
       "    <tr>\n",
       "      <th>4</th>\n",
       "      <td>2</td>\n",
       "      <td>-2.554165</td>\n",
       "      <td>-0.218131</td>\n",
       "      <td>-0.077832</td>\n",
       "      <td>0.467179</td>\n",
       "      <td>-0.444544</td>\n",
       "    </tr>\n",
       "  </tbody>\n",
       "</table>\n",
       "</div>"
      ],
      "text/plain": [
       "   ClusterID       PC1       PC2       PC3       PC4       PC5\n",
       "0          0  0.171659 -0.094139  0.016502 -0.377215  0.110075\n",
       "1          1  2.818278 -0.915918 -0.100910  1.245719 -0.309599\n",
       "2          1  4.088628 -0.429357 -0.276187  2.306733 -0.184512\n",
       "3          2 -1.244383 -0.029398 -0.153745 -0.485155  0.417549\n",
       "4          2 -2.554165 -0.218131 -0.077832  0.467179 -0.444544"
      ]
     },
     "execution_count": 321,
     "metadata": {},
     "output_type": "execute_result"
    }
   ],
   "source": [
    "outlier_country_temp.index = pd.RangeIndex(len(outlier_country_temp.index))\n",
    "outlier_country_km = pd.concat([pd.Series(model_clus3.labels_), outlier_country_temp], axis = 1)\n",
    "outlier_country_km.columns = ['ClusterID' , 'PC1' , 'PC2' , 'PC3' , 'PC4' , 'PC5']\n",
    "outlier_country_km.head()"
   ]
  },
  {
   "cell_type": "code",
   "execution_count": 322,
   "metadata": {},
   "outputs": [],
   "source": [
    "km_out_PC1 = pd.DataFrame(outlier_country_km.groupby(['ClusterID']).PC1.mean())\n",
    "km_out_PC2 = pd.DataFrame(outlier_country_km.groupby(['ClusterID']).PC2.mean())\n",
    "km_out_PC3 = pd.DataFrame(outlier_country_km.groupby(['ClusterID']).PC3.mean())\n",
    "km_out_PC4 = pd.DataFrame(outlier_country_km.groupby(['ClusterID']).PC4.mean())\n",
    "km_out_PC5 = pd.DataFrame(outlier_country_km.groupby(['ClusterID']).PC5.mean())"
   ]
  },
  {
   "cell_type": "code",
   "execution_count": 323,
   "metadata": {},
   "outputs": [
    {
     "data": {
      "text/html": [
       "<div>\n",
       "<style scoped>\n",
       "    .dataframe tbody tr th:only-of-type {\n",
       "        vertical-align: middle;\n",
       "    }\n",
       "\n",
       "    .dataframe tbody tr th {\n",
       "        vertical-align: top;\n",
       "    }\n",
       "\n",
       "    .dataframe thead th {\n",
       "        text-align: right;\n",
       "    }\n",
       "</style>\n",
       "<table border=\"1\" class=\"dataframe\">\n",
       "  <thead>\n",
       "    <tr style=\"text-align: right;\">\n",
       "      <th></th>\n",
       "      <th>ClusterID</th>\n",
       "      <th>PC1</th>\n",
       "      <th>PC2</th>\n",
       "      <th>PC3</th>\n",
       "      <th>PC4</th>\n",
       "      <th>PC5</th>\n",
       "    </tr>\n",
       "  </thead>\n",
       "  <tbody>\n",
       "    <tr>\n",
       "      <th>0</th>\n",
       "      <td>0</td>\n",
       "      <td>0.192567</td>\n",
       "      <td>0.037858</td>\n",
       "      <td>0.394053</td>\n",
       "      <td>-0.693338</td>\n",
       "      <td>0.206677</td>\n",
       "    </tr>\n",
       "    <tr>\n",
       "      <th>1</th>\n",
       "      <td>1</td>\n",
       "      <td>2.904152</td>\n",
       "      <td>-1.470308</td>\n",
       "      <td>-0.591381</td>\n",
       "      <td>1.788791</td>\n",
       "      <td>0.025009</td>\n",
       "    </tr>\n",
       "    <tr>\n",
       "      <th>2</th>\n",
       "      <td>2</td>\n",
       "      <td>-2.253498</td>\n",
       "      <td>-0.063619</td>\n",
       "      <td>-0.060829</td>\n",
       "      <td>0.553234</td>\n",
       "      <td>0.212153</td>\n",
       "    </tr>\n",
       "  </tbody>\n",
       "</table>\n",
       "</div>"
      ],
      "text/plain": [
       "   ClusterID       PC1       PC2       PC3       PC4       PC5\n",
       "0          0  0.192567  0.037858  0.394053 -0.693338  0.206677\n",
       "1          1  2.904152 -1.470308 -0.591381  1.788791  0.025009\n",
       "2          2 -2.253498 -0.063619 -0.060829  0.553234  0.212153"
      ]
     },
     "execution_count": 323,
     "metadata": {},
     "output_type": "execute_result"
    }
   ],
   "source": [
    "outlier_df = pd.concat([pd.Series([0,1,2]) , km_out_PC1  , km_out_PC2 , km_out_PC3 , km_out_PC4 , km_out_PC5], axis = 1)\n",
    "outlier_df.columns = ['ClusterID' , 'PC1' , 'PC2' , 'PC3' , 'PC4' , 'PC5']\n",
    "outlier_df"
   ]
  },
  {
   "cell_type": "code",
   "execution_count": 324,
   "metadata": {},
   "outputs": [
    {
     "data": {
      "text/html": [
       "<div>\n",
       "<style scoped>\n",
       "    .dataframe tbody tr th:only-of-type {\n",
       "        vertical-align: middle;\n",
       "    }\n",
       "\n",
       "    .dataframe tbody tr th {\n",
       "        vertical-align: top;\n",
       "    }\n",
       "\n",
       "    .dataframe thead th {\n",
       "        text-align: right;\n",
       "    }\n",
       "</style>\n",
       "<table border=\"1\" class=\"dataframe\">\n",
       "  <thead>\n",
       "    <tr style=\"text-align: right;\">\n",
       "      <th></th>\n",
       "      <th>ClusterID_x</th>\n",
       "      <th>PC1</th>\n",
       "      <th>PC2</th>\n",
       "      <th>PC3</th>\n",
       "      <th>PC4</th>\n",
       "      <th>PC5</th>\n",
       "      <th>country</th>\n",
       "      <th>ClusterID_y</th>\n",
       "    </tr>\n",
       "  </thead>\n",
       "  <tbody>\n",
       "    <tr>\n",
       "      <th>0</th>\n",
       "      <td>0</td>\n",
       "      <td>0.171659</td>\n",
       "      <td>-0.094139</td>\n",
       "      <td>0.016502</td>\n",
       "      <td>-0.377215</td>\n",
       "      <td>0.110075</td>\n",
       "      <td>Suriname</td>\n",
       "      <td>NaN</td>\n",
       "    </tr>\n",
       "    <tr>\n",
       "      <th>1</th>\n",
       "      <td>1</td>\n",
       "      <td>2.818278</td>\n",
       "      <td>-0.915918</td>\n",
       "      <td>-0.100910</td>\n",
       "      <td>1.245719</td>\n",
       "      <td>-0.309599</td>\n",
       "      <td>Sweden</td>\n",
       "      <td>NaN</td>\n",
       "    </tr>\n",
       "    <tr>\n",
       "      <th>2</th>\n",
       "      <td>1</td>\n",
       "      <td>4.088628</td>\n",
       "      <td>-0.429357</td>\n",
       "      <td>-0.276187</td>\n",
       "      <td>2.306733</td>\n",
       "      <td>-0.184512</td>\n",
       "      <td>Switzerland</td>\n",
       "      <td>NaN</td>\n",
       "    </tr>\n",
       "    <tr>\n",
       "      <th>3</th>\n",
       "      <td>2</td>\n",
       "      <td>-1.244383</td>\n",
       "      <td>-0.029398</td>\n",
       "      <td>-0.153745</td>\n",
       "      <td>-0.485155</td>\n",
       "      <td>0.417549</td>\n",
       "      <td>Tajikistan</td>\n",
       "      <td>NaN</td>\n",
       "    </tr>\n",
       "    <tr>\n",
       "      <th>4</th>\n",
       "      <td>2</td>\n",
       "      <td>-2.554165</td>\n",
       "      <td>-0.218131</td>\n",
       "      <td>-0.077832</td>\n",
       "      <td>0.467179</td>\n",
       "      <td>-0.444544</td>\n",
       "      <td>Tanzania</td>\n",
       "      <td>NaN</td>\n",
       "    </tr>\n",
       "  </tbody>\n",
       "</table>\n",
       "</div>"
      ],
      "text/plain": [
       "   ClusterID_x       PC1       PC2       PC3       PC4       PC5      country  \\\n",
       "0            0  0.171659 -0.094139  0.016502 -0.377215  0.110075     Suriname   \n",
       "1            1  2.818278 -0.915918 -0.100910  1.245719 -0.309599       Sweden   \n",
       "2            1  4.088628 -0.429357 -0.276187  2.306733 -0.184512  Switzerland   \n",
       "3            2 -1.244383 -0.029398 -0.153745 -0.485155  0.417549   Tajikistan   \n",
       "4            2 -2.554165 -0.218131 -0.077832  0.467179 -0.444544     Tanzania   \n",
       "\n",
       "   ClusterID_y  \n",
       "0          NaN  \n",
       "1          NaN  \n",
       "2          NaN  \n",
       "3          NaN  \n",
       "4          NaN  "
      ]
     },
     "execution_count": 324,
     "metadata": {},
     "output_type": "execute_result"
    }
   ],
   "source": [
    "outlier_new_df = outlier_country_km.merge(outlier_country , how = 'inner' , on = ['PC1' , 'PC2' , 'PC3', 'PC4' , 'PC5'])\n",
    "outlier_new_df.head()"
   ]
  },
  {
   "cell_type": "code",
   "execution_count": 325,
   "metadata": {},
   "outputs": [
    {
     "data": {
      "text/html": [
       "<div>\n",
       "<style scoped>\n",
       "    .dataframe tbody tr th:only-of-type {\n",
       "        vertical-align: middle;\n",
       "    }\n",
       "\n",
       "    .dataframe tbody tr th {\n",
       "        vertical-align: top;\n",
       "    }\n",
       "\n",
       "    .dataframe thead th {\n",
       "        text-align: right;\n",
       "    }\n",
       "</style>\n",
       "<table border=\"1\" class=\"dataframe\">\n",
       "  <thead>\n",
       "    <tr style=\"text-align: right;\">\n",
       "      <th></th>\n",
       "      <th>country</th>\n",
       "      <th>ClusterID</th>\n",
       "      <th>PC1</th>\n",
       "      <th>PC2</th>\n",
       "      <th>PC3</th>\n",
       "      <th>PC4</th>\n",
       "      <th>PC5</th>\n",
       "    </tr>\n",
       "  </thead>\n",
       "  <tbody>\n",
       "    <tr>\n",
       "      <th>0</th>\n",
       "      <td>Suriname</td>\n",
       "      <td>0</td>\n",
       "      <td>0.171659</td>\n",
       "      <td>-0.094139</td>\n",
       "      <td>0.016502</td>\n",
       "      <td>-0.377215</td>\n",
       "      <td>0.110075</td>\n",
       "    </tr>\n",
       "    <tr>\n",
       "      <th>1</th>\n",
       "      <td>Sweden</td>\n",
       "      <td>1</td>\n",
       "      <td>2.818278</td>\n",
       "      <td>-0.915918</td>\n",
       "      <td>-0.100910</td>\n",
       "      <td>1.245719</td>\n",
       "      <td>-0.309599</td>\n",
       "    </tr>\n",
       "    <tr>\n",
       "      <th>2</th>\n",
       "      <td>Switzerland</td>\n",
       "      <td>1</td>\n",
       "      <td>4.088628</td>\n",
       "      <td>-0.429357</td>\n",
       "      <td>-0.276187</td>\n",
       "      <td>2.306733</td>\n",
       "      <td>-0.184512</td>\n",
       "    </tr>\n",
       "    <tr>\n",
       "      <th>3</th>\n",
       "      <td>Tajikistan</td>\n",
       "      <td>2</td>\n",
       "      <td>-1.244383</td>\n",
       "      <td>-0.029398</td>\n",
       "      <td>-0.153745</td>\n",
       "      <td>-0.485155</td>\n",
       "      <td>0.417549</td>\n",
       "    </tr>\n",
       "    <tr>\n",
       "      <th>4</th>\n",
       "      <td>Tanzania</td>\n",
       "      <td>2</td>\n",
       "      <td>-2.554165</td>\n",
       "      <td>-0.218131</td>\n",
       "      <td>-0.077832</td>\n",
       "      <td>0.467179</td>\n",
       "      <td>-0.444544</td>\n",
       "    </tr>\n",
       "  </tbody>\n",
       "</table>\n",
       "</div>"
      ],
      "text/plain": [
       "       country  ClusterID       PC1       PC2       PC3       PC4       PC5\n",
       "0     Suriname          0  0.171659 -0.094139  0.016502 -0.377215  0.110075\n",
       "1       Sweden          1  2.818278 -0.915918 -0.100910  1.245719 -0.309599\n",
       "2  Switzerland          1  4.088628 -0.429357 -0.276187  2.306733 -0.184512\n",
       "3   Tajikistan          2 -1.244383 -0.029398 -0.153745 -0.485155  0.417549\n",
       "4     Tanzania          2 -2.554165 -0.218131 -0.077832  0.467179 -0.444544"
      ]
     },
     "execution_count": 325,
     "metadata": {},
     "output_type": "execute_result"
    }
   ],
   "source": [
    "outlier_new_df.drop(['ClusterID_y'], 1 , inplace = True)\n",
    "outlier_new_df.rename(columns = {'ClusterID_x' : 'ClusterID'} , inplace = True)\n",
    "colTitles = ['country' ,'ClusterID', 'PC1','PC2','PC3','PC4','PC5']\n",
    "outlier_new_df = outlier_new_df.reindex(columns = colTitles)\n",
    "outlier_new_df.head()"
   ]
  },
  {
   "cell_type": "code",
   "execution_count": 326,
   "metadata": {},
   "outputs": [
    {
     "data": {
      "text/html": [
       "<div>\n",
       "<style scoped>\n",
       "    .dataframe tbody tr th:only-of-type {\n",
       "        vertical-align: middle;\n",
       "    }\n",
       "\n",
       "    .dataframe tbody tr th {\n",
       "        vertical-align: top;\n",
       "    }\n",
       "\n",
       "    .dataframe thead th {\n",
       "        text-align: right;\n",
       "    }\n",
       "</style>\n",
       "<table border=\"1\" class=\"dataframe\">\n",
       "  <thead>\n",
       "    <tr style=\"text-align: right;\">\n",
       "      <th></th>\n",
       "      <th>country</th>\n",
       "      <th>ClusterID</th>\n",
       "      <th>PC1</th>\n",
       "      <th>PC2</th>\n",
       "      <th>PC3</th>\n",
       "      <th>PC4</th>\n",
       "      <th>PC5</th>\n",
       "    </tr>\n",
       "  </thead>\n",
       "  <tbody>\n",
       "    <tr>\n",
       "      <th>19</th>\n",
       "      <td>Vanuatu</td>\n",
       "      <td>0</td>\n",
       "      <td>-0.820764</td>\n",
       "      <td>0.636206</td>\n",
       "      <td>-0.379725</td>\n",
       "      <td>-0.706881</td>\n",
       "      <td>-0.400861</td>\n",
       "    </tr>\n",
       "    <tr>\n",
       "      <th>20</th>\n",
       "      <td>Venezuela</td>\n",
       "      <td>0</td>\n",
       "      <td>-0.549858</td>\n",
       "      <td>-1.213058</td>\n",
       "      <td>3.074840</td>\n",
       "      <td>-0.108672</td>\n",
       "      <td>2.114754</td>\n",
       "    </tr>\n",
       "    <tr>\n",
       "      <th>21</th>\n",
       "      <td>Vietnam</td>\n",
       "      <td>0</td>\n",
       "      <td>0.498544</td>\n",
       "      <td>1.393097</td>\n",
       "      <td>-0.253512</td>\n",
       "      <td>-1.085069</td>\n",
       "      <td>1.155943</td>\n",
       "    </tr>\n",
       "    <tr>\n",
       "      <th>22</th>\n",
       "      <td>Yemen</td>\n",
       "      <td>2</td>\n",
       "      <td>-1.887284</td>\n",
       "      <td>-0.104700</td>\n",
       "      <td>1.107615</td>\n",
       "      <td>0.062605</td>\n",
       "      <td>0.665552</td>\n",
       "    </tr>\n",
       "    <tr>\n",
       "      <th>23</th>\n",
       "      <td>Zambia</td>\n",
       "      <td>2</td>\n",
       "      <td>-2.863890</td>\n",
       "      <td>0.487409</td>\n",
       "      <td>0.221756</td>\n",
       "      <td>0.818985</td>\n",
       "      <td>-0.266265</td>\n",
       "    </tr>\n",
       "  </tbody>\n",
       "</table>\n",
       "</div>"
      ],
      "text/plain": [
       "      country  ClusterID       PC1       PC2       PC3       PC4       PC5\n",
       "19    Vanuatu          0 -0.820764  0.636206 -0.379725 -0.706881 -0.400861\n",
       "20  Venezuela          0 -0.549858 -1.213058  3.074840 -0.108672  2.114754\n",
       "21    Vietnam          0  0.498544  1.393097 -0.253512 -1.085069  1.155943\n",
       "22      Yemen          2 -1.887284 -0.104700  1.107615  0.062605  0.665552\n",
       "23     Zambia          2 -2.863890  0.487409  0.221756  0.818985 -0.266265"
      ]
     },
     "execution_count": 326,
     "metadata": {},
     "output_type": "execute_result"
    }
   ],
   "source": [
    "outlier_new_df.tail()"
   ]
  },
  {
   "cell_type": "code",
   "execution_count": 327,
   "metadata": {},
   "outputs": [
    {
     "name": "stdout",
     "output_type": "stream",
     "text": [
      "(5, 5)\n"
     ]
    }
   ],
   "source": [
    "nonoutliercountry_centers = np.array(model_clus5.cluster_centers_)\n",
    "\n",
    "print(pd.DataFrame(nonoutliercountry_centers).shape)\n",
    "\n",
    "# Finding the centroid of each cluster formed for  non_outlier dataset"
   ]
  },
  {
   "cell_type": "code",
   "execution_count": 328,
   "metadata": {},
   "outputs": [
    {
     "name": "stdout",
     "output_type": "stream",
     "text": [
      "(3, 5)\n"
     ]
    }
   ],
   "source": [
    "outliercountry_centers = np.array(model_clus3.cluster_centers_)\n",
    "\n",
    "print(pd.DataFrame(outliercountry_centers).shape)\n",
    "\n",
    "# Finding the centroid of each cluster formed for  non_outlier dataset"
   ]
  },
  {
   "cell_type": "code",
   "execution_count": 329,
   "metadata": {},
   "outputs": [
    {
     "data": {
      "text/html": [
       "<div>\n",
       "<style scoped>\n",
       "    .dataframe tbody tr th:only-of-type {\n",
       "        vertical-align: middle;\n",
       "    }\n",
       "\n",
       "    .dataframe tbody tr th {\n",
       "        vertical-align: top;\n",
       "    }\n",
       "\n",
       "    .dataframe thead th {\n",
       "        text-align: right;\n",
       "    }\n",
       "</style>\n",
       "<table border=\"1\" class=\"dataframe\">\n",
       "  <thead>\n",
       "    <tr style=\"text-align: right;\">\n",
       "      <th></th>\n",
       "      <th>0</th>\n",
       "      <th>1</th>\n",
       "      <th>2</th>\n",
       "      <th>3</th>\n",
       "      <th>4</th>\n",
       "    </tr>\n",
       "  </thead>\n",
       "  <tbody>\n",
       "    <tr>\n",
       "      <th>0</th>\n",
       "      <td>3.267124</td>\n",
       "      <td>2.072899</td>\n",
       "      <td>0.915895</td>\n",
       "      <td>1.084223</td>\n",
       "      <td>3.956001</td>\n",
       "    </tr>\n",
       "    <tr>\n",
       "      <th>1</th>\n",
       "      <td>0.934935</td>\n",
       "      <td>5.283806</td>\n",
       "      <td>4.227063</td>\n",
       "      <td>3.663651</td>\n",
       "      <td>6.351530</td>\n",
       "    </tr>\n",
       "    <tr>\n",
       "      <th>2</th>\n",
       "      <td>4.991646</td>\n",
       "      <td>1.032856</td>\n",
       "      <td>2.574557</td>\n",
       "      <td>3.497776</td>\n",
       "      <td>1.414692</td>\n",
       "    </tr>\n",
       "  </tbody>\n",
       "</table>\n",
       "</div>"
      ],
      "text/plain": [
       "          0         1         2         3         4\n",
       "0  3.267124  2.072899  0.915895  1.084223  3.956001\n",
       "1  0.934935  5.283806  4.227063  3.663651  6.351530\n",
       "2  4.991646  1.032856  2.574557  3.497776  1.414692"
      ]
     },
     "execution_count": 329,
     "metadata": {},
     "output_type": "execute_result"
    }
   ],
   "source": [
    "# distance between cluster of each centroid between outlier and no outlier dtaset\n",
    "\n",
    "import scipy as sp\n",
    "distance = pd.DataFrame(sp.spatial.distance.cdist(outliercountry_centers, nonoutliercountry_centers , metric = 'euclidean'))\n",
    "distance"
   ]
  },
  {
   "cell_type": "code",
   "execution_count": 330,
   "metadata": {},
   "outputs": [
    {
     "data": {
      "text/html": [
       "<div>\n",
       "<style scoped>\n",
       "    .dataframe tbody tr th:only-of-type {\n",
       "        vertical-align: middle;\n",
       "    }\n",
       "\n",
       "    .dataframe tbody tr th {\n",
       "        vertical-align: top;\n",
       "    }\n",
       "\n",
       "    .dataframe thead th {\n",
       "        text-align: right;\n",
       "    }\n",
       "</style>\n",
       "<table border=\"1\" class=\"dataframe\">\n",
       "  <thead>\n",
       "    <tr style=\"text-align: right;\">\n",
       "      <th></th>\n",
       "      <th>country</th>\n",
       "      <th>ClusterID</th>\n",
       "      <th>PC1</th>\n",
       "      <th>PC2</th>\n",
       "      <th>PC3</th>\n",
       "      <th>PC4</th>\n",
       "      <th>PC5</th>\n",
       "    </tr>\n",
       "  </thead>\n",
       "  <tbody>\n",
       "    <tr>\n",
       "      <th>3</th>\n",
       "      <td>Tajikistan</td>\n",
       "      <td>2</td>\n",
       "      <td>-1.244383</td>\n",
       "      <td>-0.029398</td>\n",
       "      <td>-0.153745</td>\n",
       "      <td>-0.485155</td>\n",
       "      <td>0.417549</td>\n",
       "    </tr>\n",
       "    <tr>\n",
       "      <th>4</th>\n",
       "      <td>Tanzania</td>\n",
       "      <td>2</td>\n",
       "      <td>-2.554165</td>\n",
       "      <td>-0.218131</td>\n",
       "      <td>-0.077832</td>\n",
       "      <td>0.467179</td>\n",
       "      <td>-0.444544</td>\n",
       "    </tr>\n",
       "    <tr>\n",
       "      <th>6</th>\n",
       "      <td>Timor-Leste</td>\n",
       "      <td>2</td>\n",
       "      <td>-2.371868</td>\n",
       "      <td>-1.176237</td>\n",
       "      <td>0.393151</td>\n",
       "      <td>1.159463</td>\n",
       "      <td>1.418802</td>\n",
       "    </tr>\n",
       "    <tr>\n",
       "      <th>7</th>\n",
       "      <td>Togo</td>\n",
       "      <td>2</td>\n",
       "      <td>-1.998016</td>\n",
       "      <td>0.951651</td>\n",
       "      <td>-1.217561</td>\n",
       "      <td>0.555499</td>\n",
       "      <td>-0.395492</td>\n",
       "    </tr>\n",
       "    <tr>\n",
       "      <th>12</th>\n",
       "      <td>Uganda</td>\n",
       "      <td>2</td>\n",
       "      <td>-2.854880</td>\n",
       "      <td>-0.355928</td>\n",
       "      <td>-0.699184</td>\n",
       "      <td>1.294065</td>\n",
       "      <td>0.089473</td>\n",
       "    </tr>\n",
       "    <tr>\n",
       "      <th>22</th>\n",
       "      <td>Yemen</td>\n",
       "      <td>2</td>\n",
       "      <td>-1.887284</td>\n",
       "      <td>-0.104700</td>\n",
       "      <td>1.107615</td>\n",
       "      <td>0.062605</td>\n",
       "      <td>0.665552</td>\n",
       "    </tr>\n",
       "    <tr>\n",
       "      <th>23</th>\n",
       "      <td>Zambia</td>\n",
       "      <td>2</td>\n",
       "      <td>-2.863890</td>\n",
       "      <td>0.487409</td>\n",
       "      <td>0.221756</td>\n",
       "      <td>0.818985</td>\n",
       "      <td>-0.266265</td>\n",
       "    </tr>\n",
       "  </tbody>\n",
       "</table>\n",
       "</div>"
      ],
      "text/plain": [
       "        country  ClusterID       PC1       PC2       PC3       PC4       PC5\n",
       "3    Tajikistan          2 -1.244383 -0.029398 -0.153745 -0.485155  0.417549\n",
       "4      Tanzania          2 -2.554165 -0.218131 -0.077832  0.467179 -0.444544\n",
       "6   Timor-Leste          2 -2.371868 -1.176237  0.393151  1.159463  1.418802\n",
       "7          Togo          2 -1.998016  0.951651 -1.217561  0.555499 -0.395492\n",
       "12       Uganda          2 -2.854880 -0.355928 -0.699184  1.294065  0.089473\n",
       "22        Yemen          2 -1.887284 -0.104700  1.107615  0.062605  0.665552\n",
       "23       Zambia          2 -2.863890  0.487409  0.221756  0.818985 -0.266265"
      ]
     },
     "execution_count": 330,
     "metadata": {},
     "output_type": "execute_result"
    }
   ],
   "source": [
    "# the idea behind above step is to categorize countired in outlier dataset into clusters defined for no outlier dataset\n",
    "\n",
    "# thereby calculating distance between each centroid between datasets, we can manually characterize point based on minimum distance\n",
    "\n",
    "cluster1 = outlier_new_df.loc[outlier_new_df['ClusterID'] == 0]\n",
    "cluster2 = outlier_new_df.loc[outlier_new_df['ClusterID'] == 1]\n",
    "cluster3 = outlier_new_df.loc[outlier_new_df['ClusterID'] == 2]\n",
    "\n",
    "cluster1.shape , cluster2.shape ,cluster3.shape\n",
    "cluster3"
   ]
  },
  {
   "cell_type": "code",
   "execution_count": 331,
   "metadata": {},
   "outputs": [
    {
     "name": "stderr",
     "output_type": "stream",
     "text": [
      "C:\\Users\\Dell\\Anaconda2\\lib\\site-packages\\ipykernel_launcher.py:2: SettingWithCopyWarning: \n",
      "A value is trying to be set on a copy of a slice from a DataFrame.\n",
      "Try using .loc[row_indexer,col_indexer] = value instead\n",
      "\n",
      "See the caveats in the documentation: http://pandas.pydata.org/pandas-docs/stable/indexing.html#indexing-view-versus-copy\n",
      "  \n",
      "C:\\Users\\Dell\\Anaconda2\\lib\\site-packages\\ipykernel_launcher.py:3: SettingWithCopyWarning: \n",
      "A value is trying to be set on a copy of a slice from a DataFrame.\n",
      "Try using .loc[row_indexer,col_indexer] = value instead\n",
      "\n",
      "See the caveats in the documentation: http://pandas.pydata.org/pandas-docs/stable/indexing.html#indexing-view-versus-copy\n",
      "  This is separate from the ipykernel package so we can avoid doing imports until\n",
      "C:\\Users\\Dell\\Anaconda2\\lib\\site-packages\\ipykernel_launcher.py:4: SettingWithCopyWarning: \n",
      "A value is trying to be set on a copy of a slice from a DataFrame.\n",
      "Try using .loc[row_indexer,col_indexer] = value instead\n",
      "\n",
      "See the caveats in the documentation: http://pandas.pydata.org/pandas-docs/stable/indexing.html#indexing-view-versus-copy\n",
      "  after removing the cwd from sys.path.\n"
     ]
    }
   ],
   "source": [
    "# reassigning points based on distance\n",
    "cluster1['ClusterID'] = cluster1['ClusterID'].replace(0,3)\n",
    "cluster2['ClusterID'] = cluster2['ClusterID'].replace(1,4)\n",
    "cluster3['ClusterID'] = cluster3['ClusterID'].replace(2,2)"
   ]
  },
  {
   "cell_type": "code",
   "execution_count": 332,
   "metadata": {},
   "outputs": [
    {
     "data": {
      "text/plain": [
       "((167, 7),\n",
       "         country  ClusterID       PC1       PC2       PC3       PC4       PC5\n",
       " 6   Timor-Leste        2.0 -2.371868 -1.176237  0.393151  1.159463  1.418802\n",
       " 7          Togo        2.0 -1.998016  0.951651 -1.217561  0.555499 -0.395492\n",
       " 12       Uganda        2.0 -2.854880 -0.355928 -0.699184  1.294065  0.089473\n",
       " 22        Yemen        2.0 -1.887284 -0.104700  1.107615  0.062605  0.665552\n",
       " 23       Zambia        2.0 -2.863890  0.487409  0.221756  0.818985 -0.266265,\n",
       "                country  ClusterID       PC1       PC2       PC3       PC4  \\\n",
       " 0          Afghanistan        4.0 -2.913010  0.091639 -0.721224  1.001846   \n",
       " 1              Albania        2.0  0.429876 -0.589506 -0.328396 -1.165006   \n",
       " 2              Algeria        2.0 -0.285269 -0.451602  1.232184 -0.857784   \n",
       " 3               Angola        1.0 -2.932723  1.699271  1.524439  0.855563   \n",
       " 4  Antigua and Barbuda        3.0  1.033368  0.133696 -0.216746 -0.846631   \n",
       " \n",
       "         PC5  \n",
       " 0 -0.146953  \n",
       " 1  0.153447  \n",
       " 2  0.191528  \n",
       " 3 -0.215234  \n",
       " 4 -0.193265  )"
      ]
     },
     "execution_count": 332,
     "metadata": {},
     "output_type": "execute_result"
    }
   ],
   "source": [
    "# creating a final dataset\n",
    "\n",
    "result_data = no_outlier_country\n",
    "result_data = result_data.append(cluster1)\n",
    "result_data = result_data.append(cluster2)\n",
    "result_data = result_data.append(cluster3)\n",
    "result_data.shape , result_data.tail(), result_data.head()"
   ]
  },
  {
   "cell_type": "code",
   "execution_count": 333,
   "metadata": {},
   "outputs": [
    {
     "data": {
      "text/html": [
       "<div>\n",
       "<style scoped>\n",
       "    .dataframe tbody tr th:only-of-type {\n",
       "        vertical-align: middle;\n",
       "    }\n",
       "\n",
       "    .dataframe tbody tr th {\n",
       "        vertical-align: top;\n",
       "    }\n",
       "\n",
       "    .dataframe thead th {\n",
       "        text-align: right;\n",
       "    }\n",
       "</style>\n",
       "<table border=\"1\" class=\"dataframe\">\n",
       "  <thead>\n",
       "    <tr style=\"text-align: right;\">\n",
       "      <th></th>\n",
       "      <th>ClusterID</th>\n",
       "      <th>PC1</th>\n",
       "      <th>PC2</th>\n",
       "      <th>PC3</th>\n",
       "      <th>PC4</th>\n",
       "      <th>PC5</th>\n",
       "    </tr>\n",
       "  </thead>\n",
       "  <tbody>\n",
       "    <tr>\n",
       "      <th>0</th>\n",
       "      <td>0</td>\n",
       "      <td>-0.431024</td>\n",
       "      <td>0.009335</td>\n",
       "      <td>0.019161</td>\n",
       "      <td>0.280714</td>\n",
       "      <td>-0.186756</td>\n",
       "    </tr>\n",
       "    <tr>\n",
       "      <th>1</th>\n",
       "      <td>1</td>\n",
       "      <td>-0.079687</td>\n",
       "      <td>0.119514</td>\n",
       "      <td>-0.024285</td>\n",
       "      <td>-0.185382</td>\n",
       "      <td>-0.072133</td>\n",
       "    </tr>\n",
       "    <tr>\n",
       "      <th>2</th>\n",
       "      <td>2</td>\n",
       "      <td>-0.117871</td>\n",
       "      <td>-0.148933</td>\n",
       "      <td>-0.085924</td>\n",
       "      <td>0.008843</td>\n",
       "      <td>0.014226</td>\n",
       "    </tr>\n",
       "    <tr>\n",
       "      <th>3</th>\n",
       "      <td>3</td>\n",
       "      <td>0.297965</td>\n",
       "      <td>0.092254</td>\n",
       "      <td>0.074355</td>\n",
       "      <td>-0.214666</td>\n",
       "      <td>0.016388</td>\n",
       "    </tr>\n",
       "    <tr>\n",
       "      <th>4</th>\n",
       "      <td>4</td>\n",
       "      <td>0.048965</td>\n",
       "      <td>-0.084222</td>\n",
       "      <td>0.003524</td>\n",
       "      <td>0.467514</td>\n",
       "      <td>0.217224</td>\n",
       "    </tr>\n",
       "  </tbody>\n",
       "</table>\n",
       "</div>"
      ],
      "text/plain": [
       "   ClusterID       PC1       PC2       PC3       PC4       PC5\n",
       "0          0 -0.431024  0.009335  0.019161  0.280714 -0.186756\n",
       "1          1 -0.079687  0.119514 -0.024285 -0.185382 -0.072133\n",
       "2          2 -0.117871 -0.148933 -0.085924  0.008843  0.014226\n",
       "3          3  0.297965  0.092254  0.074355 -0.214666  0.016388\n",
       "4          4  0.048965 -0.084222  0.003524  0.467514  0.217224"
      ]
     },
     "execution_count": 333,
     "metadata": {},
     "output_type": "execute_result"
    }
   ],
   "source": [
    "# Mean of principal components for the final dataset.\n",
    "km_result_data_PC1 = \tpd.DataFrame(result_data.groupby([\"ClusterID\"]).PC1.mean())\n",
    "km_result_data_PC2 = \tpd.DataFrame(result_data.groupby([\"ClusterID\"]).PC2.mean())\n",
    "km_result_data_PC3 = \tpd.DataFrame(result_data.groupby([\"ClusterID\"]).PC3.mean())\n",
    "km_result_data_PC4 = \tpd.DataFrame(result_data.groupby([\"ClusterID\"]).PC4.mean())\n",
    "km_result_data_PC5 = \tpd.DataFrame(result_data.groupby([\"ClusterID\"]).PC5.mean())\n",
    "\n",
    "df_finaldata = pd.concat([pd.Series([0,1,2,3,4]),km_result_data_PC1, km_result_data_PC2, km_result_data_PC3, km_result_data_PC4 , km_result_data_PC5], axis=1)\n",
    "df_finaldata.columns = ['ClusterID' , 'PC1', 'PC2', 'PC3', 'PC4', 'PC5']\n",
    "df_finaldata"
   ]
  },
  {
   "cell_type": "code",
   "execution_count": 334,
   "metadata": {},
   "outputs": [
    {
     "data": {
      "image/png": "[encoded data removed]",
      "text/plain": [
       "<Figure size 432x288 with 1 Axes>"
      ]
     },
     "metadata": {},
     "output_type": "display_data"
    }
   ],
   "source": [
    "#Clustering Visualization\n",
    "\n",
    "sns.countplot(result_data.ClusterID)\n",
    "plt.show()"
   ]
  },
  {
   "cell_type": "code",
   "execution_count": 335,
   "metadata": {},
   "outputs": [
    {
     "data": {
      "text/plain": [
       "<matplotlib.axes._subplots.AxesSubplot at 0x129b9a20>"
      ]
     },
     "execution_count": 335,
     "metadata": {},
     "output_type": "execute_result"
    },
    {
     "data": {
      "image/png": "[encoded data removed]",
      "text/plain": [
       "<Figure size 720x2160 with 5 Axes>"
      ]
     },
     "metadata": {},
     "output_type": "display_data"
    }
   ],
   "source": [
    "#plotting cluster based on PC1\n",
    "\n",
    "plt.figure(figsize = (10,30))\n",
    "\n",
    "plt.subplot(631)\n",
    "plt.title('income plot')\n",
    "sns.barplot(y = country.income , x = df_finaldata.ClusterID)\n",
    "\n",
    "plt.subplot(632)\n",
    "plt.title('Chid mortality plot')\n",
    "sns.barplot(y = country.child_mort , x = df_finaldata.ClusterID)\n",
    "\n",
    "plt.subplot(633)\n",
    "plt.title('gddp plot')\n",
    "sns.barplot(y = country.gdpp , x = df_finaldata.ClusterID)\n",
    "\n",
    "plt.subplot(634)\n",
    "plt.title('Frtility plot')\n",
    "sns.barplot(y = country.total_fer , x = df_finaldata.ClusterID)\n",
    "\n",
    "plt.subplot(635)\n",
    "plt.title('Life plot')\n",
    "sns.barplot(y = country.life_expec , x = df_finaldata.ClusterID)"
   ]
  },
  {
   "cell_type": "code",
   "execution_count": 336,
   "metadata": {},
   "outputs": [
    {
     "data": {
      "image/png": "[encoded data removed]",
      "text/plain": [
       "<Figure size 720x1080 with 3 Axes>"
      ]
     },
     "metadata": {},
     "output_type": "display_data"
    }
   ],
   "source": [
    "# Plotting the clusters against the original socio-economic factors and the principal component PC2.\n",
    "plt.figure(figsize=(10,15))\n",
    "\n",
    "plt.subplot(3,3,1)\n",
    "plt.title(\"exports plot\")\n",
    "sns.barplot(y=country.exports, x=df_finaldata.ClusterID)\n",
    "\n",
    "plt.subplot(3,3,2)\n",
    "plt.title(\"imports plot\")\n",
    "sns.barplot(y=country.imports, x=df_finaldata.ClusterID)\n",
    "\n",
    "plt.subplot(3,3,3)\n",
    "plt.title(\"PC2 plot\")\n",
    "sns.barplot(x=df_finaldata.ClusterID, y=df_finaldata.PC2)\n",
    "plt.show()"
   ]
  },
  {
   "cell_type": "code",
   "execution_count": 337,
   "metadata": {},
   "outputs": [
    {
     "data": {
      "image/png": "[encoded data removed]",
      "text/plain": [
       "<Figure size 720x1080 with 3 Axes>"
      ]
     },
     "metadata": {},
     "output_type": "display_data"
    }
   ],
   "source": [
    "# Plotting the clusters against the original socio-economic factors and the principal component PC3.\n",
    "plt.figure(figsize=(10,15))\n",
    "\n",
    "plt.subplot(3,3,1)\n",
    "plt.title(\"income plot\")\n",
    "sns.barplot(y=country.income, x=df_finaldata.ClusterID)\n",
    "\n",
    "plt.subplot(3,3,2)\n",
    "plt.title(\"inflaion plot\")\n",
    "sns.barplot(y=country.inflation, x=df_finaldata.ClusterID)\n",
    "\n",
    "plt.subplot(3,3,3)\n",
    "plt.title(\"PC3 plot\")\n",
    "sns.barplot(x=df_finaldata.ClusterID, y=df_finaldata.PC3)\n",
    "plt.show()"
   ]
  },
  {
   "cell_type": "code",
   "execution_count": 338,
   "metadata": {},
   "outputs": [
    {
     "data": {
      "image/png": "[encoded data removed]",
      "text/plain": [
       "<Figure size 720x2160 with 6 Axes>"
      ]
     },
     "metadata": {},
     "output_type": "display_data"
    }
   ],
   "source": [
    "# Plotting the clusters against the original socio-economic factors and the principal component PC4.\n",
    "plt.figure(figsize=(10,30))\n",
    "\n",
    "plt.subplot(6,3,1)\n",
    "plt.title(\"income plot\")\n",
    "sns.barplot(y=country.income, x=df_finaldata.ClusterID)\n",
    "\n",
    "plt.subplot(6,3,2)\n",
    "plt.title(\"child_mortality plot\")\n",
    "sns.barplot(y=country.child_mort, x=df_finaldata.ClusterID)\n",
    "\n",
    "plt.subplot(6,3,3)\n",
    "plt.title(\"gdpp plot\")\n",
    "sns.barplot(y=country.gdpp, x=df_finaldata.ClusterID)\n",
    "\n",
    "plt.subplot(6,3,4)\n",
    "plt.title(\"health plot\")\n",
    "sns.barplot(y=country.health, x=df_finaldata.ClusterID)\n",
    "\n",
    "plt.subplot(6,3,5)\n",
    "plt.title(\"total_fertility plot\")\n",
    "sns.barplot(y=country.total_fer, x=df_finaldata.ClusterID)\n",
    "\n",
    "plt.subplot(6,3,6)\n",
    "plt.title(\"PC4 plot\")\n",
    "sns.barplot(x=df_finaldata.ClusterID, y=df_finaldata.PC4)\n",
    "plt.show()"
   ]
  },
  {
   "cell_type": "code",
   "execution_count": 339,
   "metadata": {},
   "outputs": [
    {
     "data": {
      "image/png": "[encoded data removed]",
      "text/plain": [
       "<Figure size 720x720 with 3 Axes>"
      ]
     },
     "metadata": {},
     "output_type": "display_data"
    }
   ],
   "source": [
    "# Plotting the clusters against the original socio-economic factors and the principal component PC5.\n",
    "plt.figure(figsize=(10,10))\n",
    "\n",
    "plt.subplot(3,3,1)\n",
    "plt.title(\"health plot\")\n",
    "sns.barplot(y=country.health, x=df_finaldata.ClusterID)\n",
    "\n",
    "plt.subplot(3,3,2)\n",
    "plt.title(\"inflaion plot\")\n",
    "sns.barplot(y=country.inflation, x=df_finaldata.ClusterID)\n",
    "\n",
    "plt.subplot(3,3,3)\n",
    "plt.title(\"PC5 plot\")\n",
    "sns.barplot(x=df.ClusterID, y=df_finaldata.PC5)\n",
    "plt.show()"
   ]
  },
  {
   "cell_type": "code",
   "execution_count": 340,
   "metadata": {},
   "outputs": [
    {
     "data": {
      "text/plain": [
       "(        PC1       PC2       PC3       PC4       PC5\n",
       " 0 -2.913010  0.091639 -0.721224  1.001846 -0.146953\n",
       " 1  0.429876 -0.589506 -0.328396 -1.165006  0.153447\n",
       " 2 -0.285269 -0.451602  1.232184 -0.857784  0.191528\n",
       " 3 -2.932723  1.699271  1.524439  0.855563 -0.215234\n",
       " 4  1.033368  0.133696 -0.216746 -0.846631 -0.193265, (143, 5))"
      ]
     },
     "execution_count": 340,
     "metadata": {},
     "output_type": "execute_result"
    }
   ],
   "source": [
    "# converting to DF\n",
    "\n",
    "df_train_pca_2 = pd.DataFrame(df_train_pca)\n",
    "df_train_pca_2.columns = ['PC1','PC2', 'PC3', 'PC4', 'PC5']\n",
    "df_train_pca_2.head() , df_train_pca_1.shape"
   ]
  },
  {
   "cell_type": "markdown",
   "metadata": {},
   "source": [
    "# heirarchial clustering"
   ]
  },
  {
   "cell_type": "code",
   "execution_count": 350,
   "metadata": {},
   "outputs": [
    {
     "data": {
      "image/png": "[encoded data removed]",
      "text/plain": [
       "<Figure size 432x288 with 1 Axes>"
      ]
     },
     "metadata": {},
     "output_type": "display_data"
    }
   ],
   "source": [
    "from scipy.cluster.hierarchy import linkage\n",
    "from scipy.cluster.hierarchy import dendrogram\n",
    "from scipy.cluster.hierarchy import cut_tree\n",
    "\n",
    "merging = linkage(df_train_pca_1 , method = 'complete' , metric = 'euclidean')\n",
    "dendrogram(merging)\n",
    "plt.show()"
   ]
  },
  {
   "cell_type": "code",
   "execution_count": 351,
   "metadata": {},
   "outputs": [
    {
     "data": {
      "text/plain": [
       "((163, 6),\n",
       " Index([u'ClusterID', u'PC1', u'PC2', u'PC3', u'PC4', u'PC5'], dtype='object'),\n",
       " (143L,))"
      ]
     },
     "execution_count": 351,
     "metadata": {},
     "output_type": "execute_result"
    }
   ],
   "source": [
    "cluster_cut = pd.Series(cut_tree(merging , n_clusters = 5).reshape(-1,))\n",
    "clust_components = pd.concat([cluster_cut, df_train_pca_1] , axis = 1)\n",
    "clust_components.columns = ['ClusterID','PC1','PC2','PC3','PC4','PC5']\n",
    "clust_components.shape , clust_components.columns , cluster_cut.shape"
   ]
  },
  {
   "cell_type": "code",
   "execution_count": 352,
   "metadata": {},
   "outputs": [
    {
     "data": {
      "text/plain": [
       "(167, 7)"
      ]
     },
     "execution_count": 352,
     "metadata": {},
     "output_type": "execute_result"
    }
   ],
   "source": [
    "master_df = pd.concat([country['country'] , pd.DataFrame(df_train_pca)] , axis = 1)\n",
    "master_df.columns = ['country' , 'PC1' , 'PC2' , \"PC3\" , 'PC4' , 'PC5']\n",
    "master_df = pd.concat([master_df , clust_components['ClusterID']] , axis = 1)\n",
    "\n",
    "colTitles = ['country' , 'ClusterID' , 'PC1' , 'PC2' , 'PC3' , 'PC4' , \"PC5\"]\n",
    "master_df = master_df.reindex(columns = colTitles)\n",
    "\n",
    "master_df.shape"
   ]
  },
  {
   "cell_type": "code",
   "execution_count": 357,
   "metadata": {},
   "outputs": [
    {
     "data": {
      "text/plain": [
       "((24, 7), (143, 7))"
      ]
     },
     "execution_count": 357,
     "metadata": {},
     "output_type": "execute_result"
    }
   ],
   "source": [
    "# creatig subset of countries with  cluster. or  non outlier segregated countires\n",
    "no_clust_count = master_df[~np.isnan(master.ClusterID)]\n",
    "outlier_count = master_df[np.isnan(master.ClusterID)]\n",
    "outlier_count.shape  , no_clust_count.shape"
   ]
  },
  {
   "cell_type": "code",
   "execution_count": 358,
   "metadata": {},
   "outputs": [
    {
     "data": {
      "image/png": "[encoded data removed]",
      "text/plain": [
       "<Figure size 432x288 with 1 Axes>"
      ]
     },
     "metadata": {},
     "output_type": "display_data"
    }
   ],
   "source": [
    "outlier_temp = outlier_count[['PC1','PC2','PC3','PC4','PC5']]\n",
    "\n",
    "merging = linkage(outlier_temp , method = 'complete' , metric = 'euclidean')\n",
    "dendrogram(merging)\n",
    "plt.show()"
   ]
  },
  {
   "cell_type": "code",
   "execution_count": 359,
   "metadata": {},
   "outputs": [
    {
     "data": {
      "text/html": [
       "<div>\n",
       "<style scoped>\n",
       "    .dataframe tbody tr th:only-of-type {\n",
       "        vertical-align: middle;\n",
       "    }\n",
       "\n",
       "    .dataframe tbody tr th {\n",
       "        vertical-align: top;\n",
       "    }\n",
       "\n",
       "    .dataframe thead th {\n",
       "        text-align: right;\n",
       "    }\n",
       "</style>\n",
       "<table border=\"1\" class=\"dataframe\">\n",
       "  <thead>\n",
       "    <tr style=\"text-align: right;\">\n",
       "      <th></th>\n",
       "      <th>ClusterID</th>\n",
       "      <th>PC1</th>\n",
       "      <th>PC2</th>\n",
       "      <th>PC3</th>\n",
       "      <th>PC4</th>\n",
       "      <th>PC5</th>\n",
       "    </tr>\n",
       "  </thead>\n",
       "  <tbody>\n",
       "    <tr>\n",
       "      <th>0</th>\n",
       "      <td>0</td>\n",
       "      <td>0.171659</td>\n",
       "      <td>-0.094139</td>\n",
       "      <td>0.016502</td>\n",
       "      <td>-0.377215</td>\n",
       "      <td>0.110075</td>\n",
       "    </tr>\n",
       "    <tr>\n",
       "      <th>1</th>\n",
       "      <td>1</td>\n",
       "      <td>2.818278</td>\n",
       "      <td>-0.915918</td>\n",
       "      <td>-0.100910</td>\n",
       "      <td>1.245719</td>\n",
       "      <td>-0.309599</td>\n",
       "    </tr>\n",
       "    <tr>\n",
       "      <th>2</th>\n",
       "      <td>1</td>\n",
       "      <td>4.088628</td>\n",
       "      <td>-0.429357</td>\n",
       "      <td>-0.276187</td>\n",
       "      <td>2.306733</td>\n",
       "      <td>-0.184512</td>\n",
       "    </tr>\n",
       "    <tr>\n",
       "      <th>3</th>\n",
       "      <td>2</td>\n",
       "      <td>-1.244383</td>\n",
       "      <td>-0.029398</td>\n",
       "      <td>-0.153745</td>\n",
       "      <td>-0.485155</td>\n",
       "      <td>0.417549</td>\n",
       "    </tr>\n",
       "    <tr>\n",
       "      <th>4</th>\n",
       "      <td>2</td>\n",
       "      <td>-2.554165</td>\n",
       "      <td>-0.218131</td>\n",
       "      <td>-0.077832</td>\n",
       "      <td>0.467179</td>\n",
       "      <td>-0.444544</td>\n",
       "    </tr>\n",
       "    <tr>\n",
       "      <th>5</th>\n",
       "      <td>0</td>\n",
       "      <td>0.925802</td>\n",
       "      <td>0.828022</td>\n",
       "      <td>0.352393</td>\n",
       "      <td>-1.591565</td>\n",
       "      <td>-0.194163</td>\n",
       "    </tr>\n",
       "    <tr>\n",
       "      <th>6</th>\n",
       "      <td>2</td>\n",
       "      <td>-2.371868</td>\n",
       "      <td>-1.176237</td>\n",
       "      <td>0.393151</td>\n",
       "      <td>1.159463</td>\n",
       "      <td>1.418802</td>\n",
       "    </tr>\n",
       "    <tr>\n",
       "      <th>7</th>\n",
       "      <td>2</td>\n",
       "      <td>-1.998016</td>\n",
       "      <td>0.951651</td>\n",
       "      <td>-1.217561</td>\n",
       "      <td>0.555499</td>\n",
       "      <td>-0.395492</td>\n",
       "    </tr>\n",
       "    <tr>\n",
       "      <th>8</th>\n",
       "      <td>0</td>\n",
       "      <td>-0.755124</td>\n",
       "      <td>-0.093593</td>\n",
       "      <td>-0.410554</td>\n",
       "      <td>-0.854004</td>\n",
       "      <td>-0.266806</td>\n",
       "    </tr>\n",
       "    <tr>\n",
       "      <th>9</th>\n",
       "      <td>0</td>\n",
       "      <td>0.601939</td>\n",
       "      <td>0.171037</td>\n",
       "      <td>-0.234404</td>\n",
       "      <td>-1.118932</td>\n",
       "      <td>0.140056</td>\n",
       "    </tr>\n",
       "    <tr>\n",
       "      <th>10</th>\n",
       "      <td>0</td>\n",
       "      <td>0.401397</td>\n",
       "      <td>-1.412254</td>\n",
       "      <td>0.237789</td>\n",
       "      <td>-0.559331</td>\n",
       "      <td>-0.069767</td>\n",
       "    </tr>\n",
       "    <tr>\n",
       "      <th>11</th>\n",
       "      <td>0</td>\n",
       "      <td>-0.464517</td>\n",
       "      <td>1.290532</td>\n",
       "      <td>0.618016</td>\n",
       "      <td>-0.927492</td>\n",
       "      <td>-1.085700</td>\n",
       "    </tr>\n",
       "    <tr>\n",
       "      <th>12</th>\n",
       "      <td>2</td>\n",
       "      <td>-2.854880</td>\n",
       "      <td>-0.355928</td>\n",
       "      <td>-0.699184</td>\n",
       "      <td>1.294065</td>\n",
       "      <td>0.089473</td>\n",
       "    </tr>\n",
       "    <tr>\n",
       "      <th>13</th>\n",
       "      <td>0</td>\n",
       "      <td>0.302725</td>\n",
       "      <td>-0.092650</td>\n",
       "      <td>-0.103940</td>\n",
       "      <td>-0.890857</td>\n",
       "      <td>1.034357</td>\n",
       "    </tr>\n",
       "    <tr>\n",
       "      <th>14</th>\n",
       "      <td>0</td>\n",
       "      <td>2.427482</td>\n",
       "      <td>1.159625</td>\n",
       "      <td>1.822604</td>\n",
       "      <td>0.288794</td>\n",
       "      <td>-0.463020</td>\n",
       "    </tr>\n",
       "    <tr>\n",
       "      <th>15</th>\n",
       "      <td>1</td>\n",
       "      <td>2.068022</td>\n",
       "      <td>-1.536965</td>\n",
       "      <td>-0.248483</td>\n",
       "      <td>0.792852</td>\n",
       "      <td>-0.223317</td>\n",
       "    </tr>\n",
       "    <tr>\n",
       "      <th>16</th>\n",
       "      <td>1</td>\n",
       "      <td>2.641679</td>\n",
       "      <td>-2.998992</td>\n",
       "      <td>-1.739944</td>\n",
       "      <td>2.809859</td>\n",
       "      <td>0.817463</td>\n",
       "    </tr>\n",
       "    <tr>\n",
       "      <th>17</th>\n",
       "      <td>0</td>\n",
       "      <td>0.617310</td>\n",
       "      <td>-1.431547</td>\n",
       "      <td>-0.234790</td>\n",
       "      <td>-0.359591</td>\n",
       "      <td>0.119049</td>\n",
       "    </tr>\n",
       "    <tr>\n",
       "      <th>18</th>\n",
       "      <td>2</td>\n",
       "      <td>-0.853223</td>\n",
       "      <td>-0.649121</td>\n",
       "      <td>0.617476</td>\n",
       "      <td>-0.722578</td>\n",
       "      <td>0.492891</td>\n",
       "    </tr>\n",
       "    <tr>\n",
       "      <th>19</th>\n",
       "      <td>0</td>\n",
       "      <td>-0.820764</td>\n",
       "      <td>0.636206</td>\n",
       "      <td>-0.379725</td>\n",
       "      <td>-0.706881</td>\n",
       "      <td>-0.400861</td>\n",
       "    </tr>\n",
       "    <tr>\n",
       "      <th>20</th>\n",
       "      <td>0</td>\n",
       "      <td>-0.549858</td>\n",
       "      <td>-1.213058</td>\n",
       "      <td>3.074840</td>\n",
       "      <td>-0.108672</td>\n",
       "      <td>2.114754</td>\n",
       "    </tr>\n",
       "    <tr>\n",
       "      <th>21</th>\n",
       "      <td>0</td>\n",
       "      <td>0.498544</td>\n",
       "      <td>1.393097</td>\n",
       "      <td>-0.253512</td>\n",
       "      <td>-1.085069</td>\n",
       "      <td>1.155943</td>\n",
       "    </tr>\n",
       "    <tr>\n",
       "      <th>22</th>\n",
       "      <td>2</td>\n",
       "      <td>-1.887284</td>\n",
       "      <td>-0.104700</td>\n",
       "      <td>1.107615</td>\n",
       "      <td>0.062605</td>\n",
       "      <td>0.665552</td>\n",
       "    </tr>\n",
       "    <tr>\n",
       "      <th>23</th>\n",
       "      <td>2</td>\n",
       "      <td>-2.863890</td>\n",
       "      <td>0.487409</td>\n",
       "      <td>0.221756</td>\n",
       "      <td>0.818985</td>\n",
       "      <td>-0.266265</td>\n",
       "    </tr>\n",
       "  </tbody>\n",
       "</table>\n",
       "</div>"
      ],
      "text/plain": [
       "    ClusterID       PC1       PC2       PC3       PC4       PC5\n",
       "0           0  0.171659 -0.094139  0.016502 -0.377215  0.110075\n",
       "1           1  2.818278 -0.915918 -0.100910  1.245719 -0.309599\n",
       "2           1  4.088628 -0.429357 -0.276187  2.306733 -0.184512\n",
       "3           2 -1.244383 -0.029398 -0.153745 -0.485155  0.417549\n",
       "4           2 -2.554165 -0.218131 -0.077832  0.467179 -0.444544\n",
       "5           0  0.925802  0.828022  0.352393 -1.591565 -0.194163\n",
       "6           2 -2.371868 -1.176237  0.393151  1.159463  1.418802\n",
       "7           2 -1.998016  0.951651 -1.217561  0.555499 -0.395492\n",
       "8           0 -0.755124 -0.093593 -0.410554 -0.854004 -0.266806\n",
       "9           0  0.601939  0.171037 -0.234404 -1.118932  0.140056\n",
       "10          0  0.401397 -1.412254  0.237789 -0.559331 -0.069767\n",
       "11          0 -0.464517  1.290532  0.618016 -0.927492 -1.085700\n",
       "12          2 -2.854880 -0.355928 -0.699184  1.294065  0.089473\n",
       "13          0  0.302725 -0.092650 -0.103940 -0.890857  1.034357\n",
       "14          0  2.427482  1.159625  1.822604  0.288794 -0.463020\n",
       "15          1  2.068022 -1.536965 -0.248483  0.792852 -0.223317\n",
       "16          1  2.641679 -2.998992 -1.739944  2.809859  0.817463\n",
       "17          0  0.617310 -1.431547 -0.234790 -0.359591  0.119049\n",
       "18          2 -0.853223 -0.649121  0.617476 -0.722578  0.492891\n",
       "19          0 -0.820764  0.636206 -0.379725 -0.706881 -0.400861\n",
       "20          0 -0.549858 -1.213058  3.074840 -0.108672  2.114754\n",
       "21          0  0.498544  1.393097 -0.253512 -1.085069  1.155943\n",
       "22          2 -1.887284 -0.104700  1.107615  0.062605  0.665552\n",
       "23          2 -2.863890  0.487409  0.221756  0.818985 -0.266265"
      ]
     },
     "execution_count": 359,
     "metadata": {},
     "output_type": "execute_result"
    }
   ],
   "source": [
    "outlier_temp.index = pd.RangeIndex(len(outlier_temp.index))\n",
    "cluster_cut_1 = pd.Series(cut_tree(merging , n_clusters = 3).reshape(-1))\n",
    "clust_components_1 = pd.concat([cluster_cut_1, outlier_temp] , axis = 1)\n",
    "clust_components_1.columns = ['ClusterID','PC1','PC2','PC3','PC4','PC5']\n",
    "clust_components_1"
   ]
  },
  {
   "cell_type": "code",
   "execution_count": 363,
   "metadata": {},
   "outputs": [
    {
     "data": {
      "text/html": [
       "<div>\n",
       "<style scoped>\n",
       "    .dataframe tbody tr th:only-of-type {\n",
       "        vertical-align: middle;\n",
       "    }\n",
       "\n",
       "    .dataframe tbody tr th {\n",
       "        vertical-align: top;\n",
       "    }\n",
       "\n",
       "    .dataframe thead th {\n",
       "        text-align: right;\n",
       "    }\n",
       "</style>\n",
       "<table border=\"1\" class=\"dataframe\">\n",
       "  <thead>\n",
       "    <tr style=\"text-align: right;\">\n",
       "      <th></th>\n",
       "      <th>country</th>\n",
       "      <th>ClusterID</th>\n",
       "      <th>PC1</th>\n",
       "      <th>PC2</th>\n",
       "      <th>PC3</th>\n",
       "      <th>PC4</th>\n",
       "      <th>PC5</th>\n",
       "    </tr>\n",
       "  </thead>\n",
       "  <tbody>\n",
       "    <tr>\n",
       "      <th>0</th>\n",
       "      <td>Suriname</td>\n",
       "      <td>0</td>\n",
       "      <td>0.171659</td>\n",
       "      <td>-0.094139</td>\n",
       "      <td>0.016502</td>\n",
       "      <td>-0.377215</td>\n",
       "      <td>0.110075</td>\n",
       "    </tr>\n",
       "    <tr>\n",
       "      <th>1</th>\n",
       "      <td>Sweden</td>\n",
       "      <td>1</td>\n",
       "      <td>2.818278</td>\n",
       "      <td>-0.915918</td>\n",
       "      <td>-0.100910</td>\n",
       "      <td>1.245719</td>\n",
       "      <td>-0.309599</td>\n",
       "    </tr>\n",
       "    <tr>\n",
       "      <th>2</th>\n",
       "      <td>Switzerland</td>\n",
       "      <td>1</td>\n",
       "      <td>4.088628</td>\n",
       "      <td>-0.429357</td>\n",
       "      <td>-0.276187</td>\n",
       "      <td>2.306733</td>\n",
       "      <td>-0.184512</td>\n",
       "    </tr>\n",
       "    <tr>\n",
       "      <th>3</th>\n",
       "      <td>Tajikistan</td>\n",
       "      <td>2</td>\n",
       "      <td>-1.244383</td>\n",
       "      <td>-0.029398</td>\n",
       "      <td>-0.153745</td>\n",
       "      <td>-0.485155</td>\n",
       "      <td>0.417549</td>\n",
       "    </tr>\n",
       "    <tr>\n",
       "      <th>4</th>\n",
       "      <td>Tanzania</td>\n",
       "      <td>2</td>\n",
       "      <td>-2.554165</td>\n",
       "      <td>-0.218131</td>\n",
       "      <td>-0.077832</td>\n",
       "      <td>0.467179</td>\n",
       "      <td>-0.444544</td>\n",
       "    </tr>\n",
       "  </tbody>\n",
       "</table>\n",
       "</div>"
      ],
      "text/plain": [
       "       country  ClusterID       PC1       PC2       PC3       PC4       PC5\n",
       "0     Suriname          0  0.171659 -0.094139  0.016502 -0.377215  0.110075\n",
       "1       Sweden          1  2.818278 -0.915918 -0.100910  1.245719 -0.309599\n",
       "2  Switzerland          1  4.088628 -0.429357 -0.276187  2.306733 -0.184512\n",
       "3   Tajikistan          2 -1.244383 -0.029398 -0.153745 -0.485155  0.417549\n",
       "4     Tanzania          2 -2.554165 -0.218131 -0.077832  0.467179 -0.444544"
      ]
     },
     "execution_count": 363,
     "metadata": {},
     "output_type": "execute_result"
    }
   ],
   "source": [
    "# Merging outlier country names and ClusterIDs\n",
    "outlier_country_new = outlier_count.merge(clust_components_1, how='inner', on=['PC1','PC2','PC3','PC4','PC5'])\n",
    "outlier_country_new = outlier_country_new.drop(['ClusterID_x'],1)\n",
    "outlier_country_new.rename(columns={'ClusterID_y':'ClusterID'}, inplace=True)\n",
    "colTitles=['country','ClusterID','PC1','PC2','PC3','PC4','PC5']\n",
    "outlier_country_new=outlier_country_new.reindex(columns=colTitles)\n",
    "outlier_country_new.head()"
   ]
  },
  {
   "cell_type": "code",
   "execution_count": 364,
   "metadata": {},
   "outputs": [
    {
     "data": {
      "text/html": [
       "<div>\n",
       "<style scoped>\n",
       "    .dataframe tbody tr th:only-of-type {\n",
       "        vertical-align: middle;\n",
       "    }\n",
       "\n",
       "    .dataframe tbody tr th {\n",
       "        vertical-align: top;\n",
       "    }\n",
       "\n",
       "    .dataframe thead th {\n",
       "        text-align: right;\n",
       "    }\n",
       "</style>\n",
       "<table border=\"1\" class=\"dataframe\">\n",
       "  <thead>\n",
       "    <tr style=\"text-align: right;\">\n",
       "      <th></th>\n",
       "      <th>ClusterID</th>\n",
       "      <th>PC1</th>\n",
       "      <th>PC2</th>\n",
       "      <th>PC3</th>\n",
       "      <th>PC4</th>\n",
       "      <th>PC5</th>\n",
       "    </tr>\n",
       "  </thead>\n",
       "  <tbody>\n",
       "    <tr>\n",
       "      <th>0</th>\n",
       "      <td>0</td>\n",
       "      <td>-0.430775</td>\n",
       "      <td>-0.110107</td>\n",
       "      <td>-0.237543</td>\n",
       "      <td>-0.257777</td>\n",
       "      <td>0.014911</td>\n",
       "    </tr>\n",
       "    <tr>\n",
       "      <th>1</th>\n",
       "      <td>1</td>\n",
       "      <td>0.128818</td>\n",
       "      <td>-0.079037</td>\n",
       "      <td>-0.177136</td>\n",
       "      <td>-0.181736</td>\n",
       "      <td>-0.002983</td>\n",
       "    </tr>\n",
       "    <tr>\n",
       "      <th>2</th>\n",
       "      <td>2</td>\n",
       "      <td>-1.068065</td>\n",
       "      <td>-0.141275</td>\n",
       "      <td>0.279738</td>\n",
       "      <td>-0.231192</td>\n",
       "      <td>-0.237524</td>\n",
       "    </tr>\n",
       "    <tr>\n",
       "      <th>3</th>\n",
       "      <td>3</td>\n",
       "      <td>0.307317</td>\n",
       "      <td>-0.305653</td>\n",
       "      <td>-0.075247</td>\n",
       "      <td>-0.191129</td>\n",
       "      <td>-0.029600</td>\n",
       "    </tr>\n",
       "    <tr>\n",
       "      <th>4</th>\n",
       "      <td>4</td>\n",
       "      <td>-0.406095</td>\n",
       "      <td>0.044411</td>\n",
       "      <td>-0.045991</td>\n",
       "      <td>0.348018</td>\n",
       "      <td>-0.180408</td>\n",
       "    </tr>\n",
       "  </tbody>\n",
       "</table>\n",
       "</div>"
      ],
      "text/plain": [
       "   ClusterID       PC1       PC2       PC3       PC4       PC5\n",
       "0          0 -0.430775 -0.110107 -0.237543 -0.257777  0.014911\n",
       "1          1  0.128818 -0.079037 -0.177136 -0.181736 -0.002983\n",
       "2          2 -1.068065 -0.141275  0.279738 -0.231192 -0.237524\n",
       "3          3  0.307317 -0.305653 -0.075247 -0.191129 -0.029600\n",
       "4          4 -0.406095  0.044411 -0.045991  0.348018 -0.180408"
      ]
     },
     "execution_count": 364,
     "metadata": {},
     "output_type": "execute_result"
    }
   ],
   "source": [
    "clust_components_PC1 = \tpd.DataFrame(clust_components.groupby([\"ClusterID\"]).PC1.mean())\n",
    "clust_components_PC2 = \tpd.DataFrame(clust_components.groupby([\"ClusterID\"]).PC2.mean())\n",
    "clust_components_PC3 = \tpd.DataFrame(clust_components.groupby([\"ClusterID\"]).PC3.mean())\n",
    "clust_components_PC4 = \tpd.DataFrame(clust_components.groupby([\"ClusterID\"]).PC4.mean())\n",
    "clust_components_PC5 = \tpd.DataFrame(clust_components.groupby([\"ClusterID\"]).PC5.mean())\n",
    "\n",
    "df_clust_components = pd.concat([pd.Series([0,1,2,3,4]),clust_components_PC1, clust_components_PC2, clust_components_PC3, \n",
    "                                 clust_components_PC4 , clust_components_PC5], axis=1)\n",
    "df_clust_components.columns = ['ClusterID' , 'PC1', 'PC2', 'PC3', 'PC4', 'PC5']\n",
    "df_clust_components"
   ]
  },
  {
   "cell_type": "code",
   "execution_count": 366,
   "metadata": {},
   "outputs": [
    {
     "data": {
      "text/html": [
       "<div>\n",
       "<style scoped>\n",
       "    .dataframe tbody tr th:only-of-type {\n",
       "        vertical-align: middle;\n",
       "    }\n",
       "\n",
       "    .dataframe tbody tr th {\n",
       "        vertical-align: top;\n",
       "    }\n",
       "\n",
       "    .dataframe thead th {\n",
       "        text-align: right;\n",
       "    }\n",
       "</style>\n",
       "<table border=\"1\" class=\"dataframe\">\n",
       "  <thead>\n",
       "    <tr style=\"text-align: right;\">\n",
       "      <th></th>\n",
       "      <th>ClusterID</th>\n",
       "      <th>PC1</th>\n",
       "      <th>PC2</th>\n",
       "      <th>PC3</th>\n",
       "      <th>PC4</th>\n",
       "      <th>PC5</th>\n",
       "    </tr>\n",
       "  </thead>\n",
       "  <tbody>\n",
       "    <tr>\n",
       "      <th>0</th>\n",
       "      <td>0</td>\n",
       "      <td>0.279716</td>\n",
       "      <td>0.095107</td>\n",
       "      <td>0.375435</td>\n",
       "      <td>-0.690901</td>\n",
       "      <td>0.182826</td>\n",
       "    </tr>\n",
       "    <tr>\n",
       "      <th>1</th>\n",
       "      <td>1</td>\n",
       "      <td>2.904152</td>\n",
       "      <td>-1.470308</td>\n",
       "      <td>-0.591381</td>\n",
       "      <td>1.788791</td>\n",
       "      <td>0.025009</td>\n",
       "    </tr>\n",
       "    <tr>\n",
       "      <th>2</th>\n",
       "      <td>2</td>\n",
       "      <td>-2.078464</td>\n",
       "      <td>-0.136807</td>\n",
       "      <td>0.023959</td>\n",
       "      <td>0.393758</td>\n",
       "      <td>0.247246</td>\n",
       "    </tr>\n",
       "  </tbody>\n",
       "</table>\n",
       "</div>"
      ],
      "text/plain": [
       "   ClusterID       PC1       PC2       PC3       PC4       PC5\n",
       "0          0  0.279716  0.095107  0.375435 -0.690901  0.182826\n",
       "1          1  2.904152 -1.470308 -0.591381  1.788791  0.025009\n",
       "2          2 -2.078464 -0.136807  0.023959  0.393758  0.247246"
      ]
     },
     "execution_count": 366,
     "metadata": {},
     "output_type": "execute_result"
    }
   ],
   "source": [
    "outlier_components_PC1 = \tpd.DataFrame(clust_components_1.groupby([\"ClusterID\"]).PC1.mean())\n",
    "outlier_components_PC2 = \tpd.DataFrame(clust_components_1.groupby([\"ClusterID\"]).PC2.mean())\n",
    "outlier_components_PC3 = \tpd.DataFrame(clust_components_1.groupby([\"ClusterID\"]).PC3.mean())\n",
    "outlier_components_PC4 = \tpd.DataFrame(clust_components_1.groupby([\"ClusterID\"]).PC4.mean())\n",
    "outlier_components_PC5 = \tpd.DataFrame(clust_components_1.groupby([\"ClusterID\"]).PC5.mean())\n",
    "\n",
    "df_outlier_components = pd.concat([pd.Series([0,1,2]),outlier_components_PC1, outlier_components_PC2, outlier_components_PC3, \n",
    "                                 outlier_components_PC4 , outlier_components_PC5], axis=1)\n",
    "df_outlier_components.columns = ['ClusterID' , 'PC1', 'PC2', 'PC3', 'PC4', 'PC5']\n",
    "df_outlier_components"
   ]
  },
  {
   "cell_type": "code",
   "execution_count": 367,
   "metadata": {},
   "outputs": [
    {
     "name": "stdout",
     "output_type": "stream",
     "text": [
      "          0         1         2\n",
      "0  1.066980  4.276170  2.694893\n",
      "1  1.285381  3.700469  2.511907\n",
      "2  2.503912  4.842824  1.308400\n",
      "3  3.107955  4.036017  2.673768\n",
      "4  4.226322  4.966647  2.649440\n"
     ]
    }
   ],
   "source": [
    "# Finding the distance of centroid of each cluster between the outlied and non-outlied countries.\n",
    "import scipy\n",
    "\n",
    "print(pd.DataFrame(scipy.spatial.distance.cdist(df_clust_components,df_outlier_components, metric='euclidean')))"
   ]
  },
  {
   "cell_type": "code",
   "execution_count": 369,
   "metadata": {},
   "outputs": [
    {
     "name": "stdout",
     "output_type": "stream",
     "text": [
      "(167, 7)\n"
     ]
    },
    {
     "name": "stderr",
     "output_type": "stream",
     "text": [
      "C:\\Users\\Dell\\Anaconda2\\lib\\site-packages\\ipykernel_launcher.py:7: SettingWithCopyWarning: \n",
      "A value is trying to be set on a copy of a slice from a DataFrame.\n",
      "Try using .loc[row_indexer,col_indexer] = value instead\n",
      "\n",
      "See the caveats in the documentation: http://pandas.pydata.org/pandas-docs/stable/indexing.html#indexing-view-versus-copy\n",
      "  import sys\n"
     ]
    }
   ],
   "source": [
    "# Now that we know which outlier country cluster's centroid is nearest to the non-outlied country's cluster.\n",
    "# Assigning that non-outlied country's cluster id to the outlied country's cluster id.\n",
    "Cluster1= outlier_country_new.loc[outlier_country_new['ClusterID']==0]\n",
    "Cluster2= outlier_country_new.loc[outlier_country_new['ClusterID']==1]\n",
    "Cluster3= outlier_country_new.loc[outlier_country_new['ClusterID']==2]\n",
    "\n",
    "Cluster1['ClusterID'] = Cluster1['ClusterID'].map({0:1})\n",
    "#Cluster2['ClusterID'] = Cluster2['ClusterID'].map({1:4})\n",
    "#Cluster3['ClusterID'] = Cluster3['ClusterID'].map({2:1})\n",
    "\n",
    "# finally merging the datasets to get a final dataset.\n",
    "final_data_1 = no_clust_count\n",
    "final_data_1=final_data.append(Cluster1)\n",
    "final_data_1=final_data.append(Cluster2)\n",
    "final_data_1=final_data.append(Cluster3)\n",
    "\n",
    "\n",
    "print(final_data_1.shape)"
   ]
  },
  {
   "cell_type": "code",
   "execution_count": 371,
   "metadata": {},
   "outputs": [
    {
     "data": {
      "image/png": "[encoded data removed]",
      "text/plain": [
       "<Figure size 432x288 with 1 Axes>"
      ]
     },
     "metadata": {},
     "output_type": "display_data"
    }
   ],
   "source": [
    "#Clustering Visualization\n",
    "\n",
    "sns.countplot(final_data_1.ClusterID)\n",
    "plt.show()"
   ]
  },
  {
   "cell_type": "code",
   "execution_count": 373,
   "metadata": {},
   "outputs": [
    {
     "data": {
      "image/png": "[encoded data removed]",
      "text/plain": [
       "<Figure size 720x2160 with 6 Axes>"
      ]
     },
     "metadata": {},
     "output_type": "display_data"
    }
   ],
   "source": [
    "# Plotting the clusters against the original socio-economic factors and the principal component PC1.\n",
    "plt.figure(figsize=(10,30))\n",
    "\n",
    "plt.subplot(631)\n",
    "plt.title(\"income plot\")\n",
    "sns.barplot(y=country.income, x=final_data_1.ClusterID)\n",
    "\n",
    "plt.subplot(632)\n",
    "plt.title(\"child_mortality plot\")\n",
    "sns.barplot(y=country.child_mort, x=final_data_1.ClusterID)\n",
    "\n",
    "plt.subplot(633)\n",
    "plt.title(\"gdpp plot\")\n",
    "sns.barplot(y=country.gdpp, x=final_data_1.ClusterID)\n",
    "\n",
    "plt.subplot(634)\n",
    "plt.title(\"total_fertility plot\")\n",
    "sns.barplot(y=country.total_fer, x=final_data_1.ClusterID)\n",
    "\n",
    "plt.subplot(635)\n",
    "plt.title(\"life_expectancy plot\")\n",
    "sns.barplot(y=country.life_expec, x=final_data_1.ClusterID)\n",
    "\n",
    "plt.subplot(636)\n",
    "plt.title(\"PC1 plot\")\n",
    "sns.barplot(x=df_finaldata.ClusterID, y=final_data_1.PC1)\n",
    "\n",
    "plt.show()"
   ]
  },
  {
   "cell_type": "code",
   "execution_count": 372,
   "metadata": {},
   "outputs": [
    {
     "data": {
      "image/png": "[encoded data removed]",
      "text/plain": [
       "<Figure size 720x1080 with 3 Axes>"
      ]
     },
     "metadata": {},
     "output_type": "display_data"
    }
   ],
   "source": [
    "# Plotting the clusters against the original socio-economic factors and the principal component PC2.\n",
    "plt.figure(figsize=(10,15))\n",
    "\n",
    "plt.subplot(3,3,1)\n",
    "plt.title(\"exports plot\")\n",
    "sns.barplot(y=country.exports, x=final_data_1.ClusterID)\n",
    "\n",
    "plt.subplot(3,3,2)\n",
    "plt.title(\"imports plot\")\n",
    "sns.barplot(y=country.imports, x=final_data_1.ClusterID)\n",
    "\n",
    "plt.subplot(3,3,3)\n",
    "plt.title(\"PC2 plot\")\n",
    "sns.barplot(x=df_finaldata.ClusterID, y=final_data_1.PC2)\n",
    "plt.show()"
   ]
  },
  {
   "cell_type": "code",
   "execution_count": 374,
   "metadata": {},
   "outputs": [
    {
     "data": {
      "image/png": "[encoded data removed]",
      "text/plain": [
       "<Figure size 720x720 with 3 Axes>"
      ]
     },
     "metadata": {},
     "output_type": "display_data"
    }
   ],
   "source": [
    "# Plotting the clusters against the original socio-economic factors and the principal component PC3.\n",
    "plt.figure(figsize=(10,10))\n",
    "\n",
    "plt.subplot(3,3,1)\n",
    "plt.title(\"income plot\")\n",
    "sns.barplot(y=country.income, x=final_data_1.ClusterID)\n",
    "\n",
    "plt.subplot(3,3,2)\n",
    "plt.title(\"inflaion plot\")\n",
    "sns.barplot(y=country.inflation, x=final_data_1.ClusterID)\n",
    "\n",
    "plt.subplot(3,3,3)\n",
    "plt.title(\"PC3 plot\")\n",
    "sns.barplot(x=df_finaldata.ClusterID, y=final_data_1.PC3)\n",
    "plt.show()"
   ]
  },
  {
   "cell_type": "code",
   "execution_count": 375,
   "metadata": {},
   "outputs": [
    {
     "data": {
      "image/png": "[encoded data removed]",
      "text/plain": [
       "<Figure size 720x2160 with 6 Axes>"
      ]
     },
     "metadata": {},
     "output_type": "display_data"
    }
   ],
   "source": [
    "# Plotting the clusters against the original socio-economic factors and the principal component PC4.\n",
    "plt.figure(figsize=(10,30))\n",
    "\n",
    "plt.subplot(6,3,1)\n",
    "plt.title(\"income plot\")\n",
    "sns.barplot(y=country.income, x=final_data_1.ClusterID)\n",
    "\n",
    "plt.subplot(6,3,2)\n",
    "plt.title(\"child_mortality plot\")\n",
    "sns.barplot(y=country.child_mort, x=final_data_1.ClusterID)\n",
    "\n",
    "plt.subplot(6,3,3)\n",
    "plt.title(\"gdpp plot\")\n",
    "sns.barplot(y=country.gdpp, x=final_data_1.ClusterID)\n",
    "\n",
    "plt.subplot(6,3,4)\n",
    "plt.title(\"health plot\")\n",
    "sns.barplot(y=country.health, x=final_data_1.ClusterID)\n",
    "\n",
    "plt.subplot(6,3,5)\n",
    "plt.title(\"total_fertility plot\")\n",
    "sns.barplot(y=country.total_fer, x=final_data_1.ClusterID)\n",
    "\n",
    "plt.subplot(6,3,6)\n",
    "plt.title(\"PC4 plot\")\n",
    "sns.barplot(x=df_finaldata.ClusterID, y=final_data_1.PC4)\n",
    "plt.show()"
   ]
  },
  {
   "cell_type": "code",
   "execution_count": null,
   "metadata": {},
   "outputs": [],
   "source": []
  },
  {
   "cell_type": "code",
   "execution_count": null,
   "metadata": {},
   "outputs": [],
   "source": []
  }
 ],
 "metadata": {
  "kernelspec": {
   "display_name": "Python 2",
   "language": "python",
   "name": "python2"
  },
  "language_info": {
   "codemirror_mode": {
    "name": "ipython",
    "version": 2
   },
   "file_extension": ".py",
   "mimetype": "text/x-python",
   "name": "python",
   "nbconvert_exporter": "python",
   "pygments_lexer": "ipython2",
   "version": "2.7.15"
  }
 },
 "nbformat": 4,
 "nbformat_minor": 2
}
