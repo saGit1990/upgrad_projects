{
 "cells": [
  {
   "cell_type": "code",
   "execution_count": 936,
   "metadata": {},
   "outputs": [],
   "source": [
    "import numpy as np\n",
    "import pandas as pd\n",
    "import matplotlib.pyplot as plt\n",
    "import seaborn as sns"
   ]
  },
  {
   "cell_type": "code",
   "execution_count": 937,
   "metadata": {},
   "outputs": [],
   "source": [
    "#Import dataset\n",
    "carprice = pd.read_csv(\"CarPrice_Assignment.csv\", sep=\",\", encoding = \"ISO-8859-1\")"
   ]
  },
  {
   "cell_type": "code",
   "execution_count": 938,
   "metadata": {},
   "outputs": [
    {
     "data": {
      "text/html": [
       "<div>\n",
       "<style scoped>\n",
       "    .dataframe tbody tr th:only-of-type {\n",
       "        vertical-align: middle;\n",
       "    }\n",
       "\n",
       "    .dataframe tbody tr th {\n",
       "        vertical-align: top;\n",
       "    }\n",
       "\n",
       "    .dataframe thead th {\n",
       "        text-align: right;\n",
       "    }\n",
       "</style>\n",
       "<table border=\"1\" class=\"dataframe\">\n",
       "  <thead>\n",
       "    <tr style=\"text-align: right;\">\n",
       "      <th></th>\n",
       "      <th>car_ID</th>\n",
       "      <th>symboling</th>\n",
       "      <th>CarName</th>\n",
       "      <th>fueltype</th>\n",
       "      <th>aspiration</th>\n",
       "      <th>doornumber</th>\n",
       "      <th>carbody</th>\n",
       "      <th>drivewheel</th>\n",
       "      <th>enginelocation</th>\n",
       "      <th>wheelbase</th>\n",
       "      <th>...</th>\n",
       "      <th>enginesize</th>\n",
       "      <th>fuelsystem</th>\n",
       "      <th>boreratio</th>\n",
       "      <th>stroke</th>\n",
       "      <th>compressionratio</th>\n",
       "      <th>horsepower</th>\n",
       "      <th>peakrpm</th>\n",
       "      <th>citympg</th>\n",
       "      <th>highwaympg</th>\n",
       "      <th>price</th>\n",
       "    </tr>\n",
       "  </thead>\n",
       "  <tbody>\n",
       "    <tr>\n",
       "      <th>0</th>\n",
       "      <td>1</td>\n",
       "      <td>3</td>\n",
       "      <td>alfa-romero giulia</td>\n",
       "      <td>gas</td>\n",
       "      <td>std</td>\n",
       "      <td>two</td>\n",
       "      <td>convertible</td>\n",
       "      <td>rwd</td>\n",
       "      <td>front</td>\n",
       "      <td>88.6</td>\n",
       "      <td>...</td>\n",
       "      <td>130</td>\n",
       "      <td>mpfi</td>\n",
       "      <td>3.47</td>\n",
       "      <td>2.68</td>\n",
       "      <td>9.0</td>\n",
       "      <td>111</td>\n",
       "      <td>5000</td>\n",
       "      <td>21</td>\n",
       "      <td>27</td>\n",
       "      <td>13495.0</td>\n",
       "    </tr>\n",
       "    <tr>\n",
       "      <th>1</th>\n",
       "      <td>2</td>\n",
       "      <td>3</td>\n",
       "      <td>alfa-romero stelvio</td>\n",
       "      <td>gas</td>\n",
       "      <td>std</td>\n",
       "      <td>two</td>\n",
       "      <td>convertible</td>\n",
       "      <td>rwd</td>\n",
       "      <td>front</td>\n",
       "      <td>88.6</td>\n",
       "      <td>...</td>\n",
       "      <td>130</td>\n",
       "      <td>mpfi</td>\n",
       "      <td>3.47</td>\n",
       "      <td>2.68</td>\n",
       "      <td>9.0</td>\n",
       "      <td>111</td>\n",
       "      <td>5000</td>\n",
       "      <td>21</td>\n",
       "      <td>27</td>\n",
       "      <td>16500.0</td>\n",
       "    </tr>\n",
       "    <tr>\n",
       "      <th>2</th>\n",
       "      <td>3</td>\n",
       "      <td>1</td>\n",
       "      <td>alfa-romero Quadrifoglio</td>\n",
       "      <td>gas</td>\n",
       "      <td>std</td>\n",
       "      <td>two</td>\n",
       "      <td>hatchback</td>\n",
       "      <td>rwd</td>\n",
       "      <td>front</td>\n",
       "      <td>94.5</td>\n",
       "      <td>...</td>\n",
       "      <td>152</td>\n",
       "      <td>mpfi</td>\n",
       "      <td>2.68</td>\n",
       "      <td>3.47</td>\n",
       "      <td>9.0</td>\n",
       "      <td>154</td>\n",
       "      <td>5000</td>\n",
       "      <td>19</td>\n",
       "      <td>26</td>\n",
       "      <td>16500.0</td>\n",
       "    </tr>\n",
       "    <tr>\n",
       "      <th>3</th>\n",
       "      <td>4</td>\n",
       "      <td>2</td>\n",
       "      <td>audi 100 ls</td>\n",
       "      <td>gas</td>\n",
       "      <td>std</td>\n",
       "      <td>four</td>\n",
       "      <td>sedan</td>\n",
       "      <td>fwd</td>\n",
       "      <td>front</td>\n",
       "      <td>99.8</td>\n",
       "      <td>...</td>\n",
       "      <td>109</td>\n",
       "      <td>mpfi</td>\n",
       "      <td>3.19</td>\n",
       "      <td>3.40</td>\n",
       "      <td>10.0</td>\n",
       "      <td>102</td>\n",
       "      <td>5500</td>\n",
       "      <td>24</td>\n",
       "      <td>30</td>\n",
       "      <td>13950.0</td>\n",
       "    </tr>\n",
       "    <tr>\n",
       "      <th>4</th>\n",
       "      <td>5</td>\n",
       "      <td>2</td>\n",
       "      <td>audi 100ls</td>\n",
       "      <td>gas</td>\n",
       "      <td>std</td>\n",
       "      <td>four</td>\n",
       "      <td>sedan</td>\n",
       "      <td>4wd</td>\n",
       "      <td>front</td>\n",
       "      <td>99.4</td>\n",
       "      <td>...</td>\n",
       "      <td>136</td>\n",
       "      <td>mpfi</td>\n",
       "      <td>3.19</td>\n",
       "      <td>3.40</td>\n",
       "      <td>8.0</td>\n",
       "      <td>115</td>\n",
       "      <td>5500</td>\n",
       "      <td>18</td>\n",
       "      <td>22</td>\n",
       "      <td>17450.0</td>\n",
       "    </tr>\n",
       "  </tbody>\n",
       "</table>\n",
       "<p>5 rows × 26 columns</p>\n",
       "</div>"
      ],
      "text/plain": [
       "   car_ID  symboling                   CarName fueltype aspiration doornumber  \\\n",
       "0       1          3        alfa-romero giulia      gas        std        two   \n",
       "1       2          3       alfa-romero stelvio      gas        std        two   \n",
       "2       3          1  alfa-romero Quadrifoglio      gas        std        two   \n",
       "3       4          2               audi 100 ls      gas        std       four   \n",
       "4       5          2                audi 100ls      gas        std       four   \n",
       "\n",
       "       carbody drivewheel enginelocation  wheelbase   ...     enginesize  \\\n",
       "0  convertible        rwd          front       88.6   ...            130   \n",
       "1  convertible        rwd          front       88.6   ...            130   \n",
       "2    hatchback        rwd          front       94.5   ...            152   \n",
       "3        sedan        fwd          front       99.8   ...            109   \n",
       "4        sedan        4wd          front       99.4   ...            136   \n",
       "\n",
       "   fuelsystem  boreratio  stroke compressionratio horsepower  peakrpm citympg  \\\n",
       "0        mpfi       3.47    2.68              9.0        111     5000      21   \n",
       "1        mpfi       3.47    2.68              9.0        111     5000      21   \n",
       "2        mpfi       2.68    3.47              9.0        154     5000      19   \n",
       "3        mpfi       3.19    3.40             10.0        102     5500      24   \n",
       "4        mpfi       3.19    3.40              8.0        115     5500      18   \n",
       "\n",
       "   highwaympg    price  \n",
       "0          27  13495.0  \n",
       "1          27  16500.0  \n",
       "2          26  16500.0  \n",
       "3          30  13950.0  \n",
       "4          22  17450.0  \n",
       "\n",
       "[5 rows x 26 columns]"
      ]
     },
     "execution_count": 938,
     "metadata": {},
     "output_type": "execute_result"
    }
   ],
   "source": [
    "# Overview of Data\n",
    "carprice.head()"
   ]
  },
  {
   "cell_type": "code",
   "execution_count": 939,
   "metadata": {},
   "outputs": [
    {
     "name": "stdout",
     "output_type": "stream",
     "text": [
      "<class 'pandas.core.frame.DataFrame'>\n",
      "RangeIndex: 205 entries, 0 to 204\n",
      "Data columns (total 26 columns):\n",
      "car_ID              205 non-null int64\n",
      "symboling           205 non-null int64\n",
      "CarName             205 non-null object\n",
      "fueltype            205 non-null object\n",
      "aspiration          205 non-null object\n",
      "doornumber          205 non-null object\n",
      "carbody             205 non-null object\n",
      "drivewheel          205 non-null object\n",
      "enginelocation      205 non-null object\n",
      "wheelbase           205 non-null float64\n",
      "carlength           205 non-null float64\n",
      "carwidth            205 non-null float64\n",
      "carheight           205 non-null float64\n",
      "curbweight          205 non-null int64\n",
      "enginetype          205 non-null object\n",
      "cylindernumber      205 non-null object\n",
      "enginesize          205 non-null int64\n",
      "fuelsystem          205 non-null object\n",
      "boreratio           205 non-null float64\n",
      "stroke              205 non-null float64\n",
      "compressionratio    205 non-null float64\n",
      "horsepower          205 non-null int64\n",
      "peakrpm             205 non-null int64\n",
      "citympg             205 non-null int64\n",
      "highwaympg          205 non-null int64\n",
      "price               205 non-null float64\n",
      "dtypes: float64(8), int64(8), object(10)\n",
      "memory usage: 41.7+ KB\n"
     ]
    }
   ],
   "source": [
    "# Information about objects present in dataset\n",
    "carprice.info()"
   ]
  },
  {
   "cell_type": "code",
   "execution_count": 940,
   "metadata": {},
   "outputs": [
    {
     "data": {
      "text/plain": [
       "((205, 26),\n",
       " Index([u'car_ID', u'symboling', u'CarName', u'fueltype', u'aspiration',\n",
       "        u'doornumber', u'carbody', u'drivewheel', u'enginelocation',\n",
       "        u'wheelbase', u'carlength', u'carwidth', u'carheight', u'curbweight',\n",
       "        u'enginetype', u'cylindernumber', u'enginesize', u'fuelsystem',\n",
       "        u'boreratio', u'stroke', u'compressionratio', u'horsepower', u'peakrpm',\n",
       "        u'citympg', u'highwaympg', u'price'],\n",
       "       dtype='object'))"
      ]
     },
     "execution_count": 940,
     "metadata": {},
     "output_type": "execute_result"
    }
   ],
   "source": [
    "# more information\n",
    "carprice.shape , carprice.columns"
   ]
  },
  {
   "cell_type": "code",
   "execution_count": 941,
   "metadata": {},
   "outputs": [
    {
     "data": {
      "text/html": [
       "<div>\n",
       "<style scoped>\n",
       "    .dataframe tbody tr th:only-of-type {\n",
       "        vertical-align: middle;\n",
       "    }\n",
       "\n",
       "    .dataframe tbody tr th {\n",
       "        vertical-align: top;\n",
       "    }\n",
       "\n",
       "    .dataframe thead th {\n",
       "        text-align: right;\n",
       "    }\n",
       "</style>\n",
       "<table border=\"1\" class=\"dataframe\">\n",
       "  <thead>\n",
       "    <tr style=\"text-align: right;\">\n",
       "      <th></th>\n",
       "      <th>car_ID</th>\n",
       "      <th>symboling</th>\n",
       "      <th>wheelbase</th>\n",
       "      <th>carlength</th>\n",
       "      <th>carwidth</th>\n",
       "      <th>carheight</th>\n",
       "      <th>curbweight</th>\n",
       "      <th>enginesize</th>\n",
       "      <th>boreratio</th>\n",
       "      <th>stroke</th>\n",
       "      <th>compressionratio</th>\n",
       "      <th>horsepower</th>\n",
       "      <th>peakrpm</th>\n",
       "      <th>citympg</th>\n",
       "      <th>highwaympg</th>\n",
       "      <th>price</th>\n",
       "    </tr>\n",
       "  </thead>\n",
       "  <tbody>\n",
       "    <tr>\n",
       "      <th>count</th>\n",
       "      <td>205.000000</td>\n",
       "      <td>205.000000</td>\n",
       "      <td>205.000000</td>\n",
       "      <td>205.000000</td>\n",
       "      <td>205.000000</td>\n",
       "      <td>205.000000</td>\n",
       "      <td>205.000000</td>\n",
       "      <td>205.000000</td>\n",
       "      <td>205.000000</td>\n",
       "      <td>205.000000</td>\n",
       "      <td>205.000000</td>\n",
       "      <td>205.000000</td>\n",
       "      <td>205.000000</td>\n",
       "      <td>205.000000</td>\n",
       "      <td>205.000000</td>\n",
       "      <td>205.000000</td>\n",
       "    </tr>\n",
       "    <tr>\n",
       "      <th>mean</th>\n",
       "      <td>103.000000</td>\n",
       "      <td>0.834146</td>\n",
       "      <td>98.756585</td>\n",
       "      <td>174.049268</td>\n",
       "      <td>65.907805</td>\n",
       "      <td>53.724878</td>\n",
       "      <td>2555.565854</td>\n",
       "      <td>126.907317</td>\n",
       "      <td>3.329756</td>\n",
       "      <td>3.255415</td>\n",
       "      <td>10.142537</td>\n",
       "      <td>104.117073</td>\n",
       "      <td>5125.121951</td>\n",
       "      <td>25.219512</td>\n",
       "      <td>30.751220</td>\n",
       "      <td>13276.710571</td>\n",
       "    </tr>\n",
       "    <tr>\n",
       "      <th>std</th>\n",
       "      <td>59.322565</td>\n",
       "      <td>1.245307</td>\n",
       "      <td>6.021776</td>\n",
       "      <td>12.337289</td>\n",
       "      <td>2.145204</td>\n",
       "      <td>2.443522</td>\n",
       "      <td>520.680204</td>\n",
       "      <td>41.642693</td>\n",
       "      <td>0.270844</td>\n",
       "      <td>0.313597</td>\n",
       "      <td>3.972040</td>\n",
       "      <td>39.544167</td>\n",
       "      <td>476.985643</td>\n",
       "      <td>6.542142</td>\n",
       "      <td>6.886443</td>\n",
       "      <td>7988.852332</td>\n",
       "    </tr>\n",
       "    <tr>\n",
       "      <th>min</th>\n",
       "      <td>1.000000</td>\n",
       "      <td>-2.000000</td>\n",
       "      <td>86.600000</td>\n",
       "      <td>141.100000</td>\n",
       "      <td>60.300000</td>\n",
       "      <td>47.800000</td>\n",
       "      <td>1488.000000</td>\n",
       "      <td>61.000000</td>\n",
       "      <td>2.540000</td>\n",
       "      <td>2.070000</td>\n",
       "      <td>7.000000</td>\n",
       "      <td>48.000000</td>\n",
       "      <td>4150.000000</td>\n",
       "      <td>13.000000</td>\n",
       "      <td>16.000000</td>\n",
       "      <td>5118.000000</td>\n",
       "    </tr>\n",
       "    <tr>\n",
       "      <th>25%</th>\n",
       "      <td>52.000000</td>\n",
       "      <td>0.000000</td>\n",
       "      <td>94.500000</td>\n",
       "      <td>166.300000</td>\n",
       "      <td>64.100000</td>\n",
       "      <td>52.000000</td>\n",
       "      <td>2145.000000</td>\n",
       "      <td>97.000000</td>\n",
       "      <td>3.150000</td>\n",
       "      <td>3.110000</td>\n",
       "      <td>8.600000</td>\n",
       "      <td>70.000000</td>\n",
       "      <td>4800.000000</td>\n",
       "      <td>19.000000</td>\n",
       "      <td>25.000000</td>\n",
       "      <td>7788.000000</td>\n",
       "    </tr>\n",
       "    <tr>\n",
       "      <th>50%</th>\n",
       "      <td>103.000000</td>\n",
       "      <td>1.000000</td>\n",
       "      <td>97.000000</td>\n",
       "      <td>173.200000</td>\n",
       "      <td>65.500000</td>\n",
       "      <td>54.100000</td>\n",
       "      <td>2414.000000</td>\n",
       "      <td>120.000000</td>\n",
       "      <td>3.310000</td>\n",
       "      <td>3.290000</td>\n",
       "      <td>9.000000</td>\n",
       "      <td>95.000000</td>\n",
       "      <td>5200.000000</td>\n",
       "      <td>24.000000</td>\n",
       "      <td>30.000000</td>\n",
       "      <td>10295.000000</td>\n",
       "    </tr>\n",
       "    <tr>\n",
       "      <th>75%</th>\n",
       "      <td>154.000000</td>\n",
       "      <td>2.000000</td>\n",
       "      <td>102.400000</td>\n",
       "      <td>183.100000</td>\n",
       "      <td>66.900000</td>\n",
       "      <td>55.500000</td>\n",
       "      <td>2935.000000</td>\n",
       "      <td>141.000000</td>\n",
       "      <td>3.580000</td>\n",
       "      <td>3.410000</td>\n",
       "      <td>9.400000</td>\n",
       "      <td>116.000000</td>\n",
       "      <td>5500.000000</td>\n",
       "      <td>30.000000</td>\n",
       "      <td>34.000000</td>\n",
       "      <td>16503.000000</td>\n",
       "    </tr>\n",
       "    <tr>\n",
       "      <th>max</th>\n",
       "      <td>205.000000</td>\n",
       "      <td>3.000000</td>\n",
       "      <td>120.900000</td>\n",
       "      <td>208.100000</td>\n",
       "      <td>72.300000</td>\n",
       "      <td>59.800000</td>\n",
       "      <td>4066.000000</td>\n",
       "      <td>326.000000</td>\n",
       "      <td>3.940000</td>\n",
       "      <td>4.170000</td>\n",
       "      <td>23.000000</td>\n",
       "      <td>288.000000</td>\n",
       "      <td>6600.000000</td>\n",
       "      <td>49.000000</td>\n",
       "      <td>54.000000</td>\n",
       "      <td>45400.000000</td>\n",
       "    </tr>\n",
       "  </tbody>\n",
       "</table>\n",
       "</div>"
      ],
      "text/plain": [
       "           car_ID   symboling   wheelbase   carlength    carwidth   carheight  \\\n",
       "count  205.000000  205.000000  205.000000  205.000000  205.000000  205.000000   \n",
       "mean   103.000000    0.834146   98.756585  174.049268   65.907805   53.724878   \n",
       "std     59.322565    1.245307    6.021776   12.337289    2.145204    2.443522   \n",
       "min      1.000000   -2.000000   86.600000  141.100000   60.300000   47.800000   \n",
       "25%     52.000000    0.000000   94.500000  166.300000   64.100000   52.000000   \n",
       "50%    103.000000    1.000000   97.000000  173.200000   65.500000   54.100000   \n",
       "75%    154.000000    2.000000  102.400000  183.100000   66.900000   55.500000   \n",
       "max    205.000000    3.000000  120.900000  208.100000   72.300000   59.800000   \n",
       "\n",
       "        curbweight  enginesize   boreratio      stroke  compressionratio  \\\n",
       "count   205.000000  205.000000  205.000000  205.000000        205.000000   \n",
       "mean   2555.565854  126.907317    3.329756    3.255415         10.142537   \n",
       "std     520.680204   41.642693    0.270844    0.313597          3.972040   \n",
       "min    1488.000000   61.000000    2.540000    2.070000          7.000000   \n",
       "25%    2145.000000   97.000000    3.150000    3.110000          8.600000   \n",
       "50%    2414.000000  120.000000    3.310000    3.290000          9.000000   \n",
       "75%    2935.000000  141.000000    3.580000    3.410000          9.400000   \n",
       "max    4066.000000  326.000000    3.940000    4.170000         23.000000   \n",
       "\n",
       "       horsepower      peakrpm     citympg  highwaympg         price  \n",
       "count  205.000000   205.000000  205.000000  205.000000    205.000000  \n",
       "mean   104.117073  5125.121951   25.219512   30.751220  13276.710571  \n",
       "std     39.544167   476.985643    6.542142    6.886443   7988.852332  \n",
       "min     48.000000  4150.000000   13.000000   16.000000   5118.000000  \n",
       "25%     70.000000  4800.000000   19.000000   25.000000   7788.000000  \n",
       "50%     95.000000  5200.000000   24.000000   30.000000  10295.000000  \n",
       "75%    116.000000  5500.000000   30.000000   34.000000  16503.000000  \n",
       "max    288.000000  6600.000000   49.000000   54.000000  45400.000000  "
      ]
     },
     "execution_count": 941,
     "metadata": {},
     "output_type": "execute_result"
    }
   ],
   "source": [
    "# dataset Description\n",
    "\n",
    "carprice.describe()"
   ]
  },
  {
   "cell_type": "code",
   "execution_count": 942,
   "metadata": {},
   "outputs": [
    {
     "data": {
      "text/plain": [
       "car_ID              0\n",
       "symboling           0\n",
       "CarName             0\n",
       "fueltype            0\n",
       "aspiration          0\n",
       "doornumber          0\n",
       "carbody             0\n",
       "drivewheel          0\n",
       "enginelocation      0\n",
       "wheelbase           0\n",
       "carlength           0\n",
       "carwidth            0\n",
       "carheight           0\n",
       "curbweight          0\n",
       "enginetype          0\n",
       "cylindernumber      0\n",
       "enginesize          0\n",
       "fuelsystem          0\n",
       "boreratio           0\n",
       "stroke              0\n",
       "compressionratio    0\n",
       "horsepower          0\n",
       "peakrpm             0\n",
       "citympg             0\n",
       "highwaympg          0\n",
       "price               0\n",
       "dtype: int64"
      ]
     },
     "execution_count": 942,
     "metadata": {},
     "output_type": "execute_result"
    }
   ],
   "source": [
    "# checking for null\n",
    "carprice.isnull().sum()"
   ]
  },
  {
   "cell_type": "code",
   "execution_count": 943,
   "metadata": {},
   "outputs": [],
   "source": [
    "# splitting company name because it was mentioned in problem statement that we need to use first name\n",
    "new = carprice.CarName.str.split(\" \", expand = True)"
   ]
  },
  {
   "cell_type": "code",
   "execution_count": 944,
   "metadata": {},
   "outputs": [],
   "source": [
    "# rectifying some minor issue with company name\n",
    "carprice['CarName'] = new[0].str.lower()\n",
    "\n",
    "carprice['CarName'] = carprice.CarName.str.replace('maxda' , 'mazda')\n",
    "carprice['CarName'] = carprice.CarName.str.replace('toyouta' , 'toyota')\n",
    "carprice['CarName'] = carprice.CarName.str.replace('vokswagen' , 'volkswagen')\n",
    "carprice['CarName'] = carprice.CarName.str.replace('vw' , 'volkswagen')\n",
    "carprice['CarName'] = carprice.CarName.str.replace('porchsche' , 'porsche')"
   ]
  },
  {
   "cell_type": "markdown",
   "metadata": {},
   "source": [
    "--EDA to understand about categorical variables"
   ]
  },
  {
   "cell_type": "code",
   "execution_count": 945,
   "metadata": {},
   "outputs": [
    {
     "data": {
      "text/plain": [
       "<matplotlib.axes._subplots.AxesSubplot at 0x280314e0>"
      ]
     },
     "execution_count": 945,
     "metadata": {},
     "output_type": "execute_result"
    },
    {
     "data": {
      "image/png": "[encoded data removed]",
      "text/plain": [
       "<Figure size 432x288 with 1 Axes>"
      ]
     },
     "metadata": {},
     "output_type": "display_data"
    }
   ],
   "source": [
    "sns.boxplot(x = 'aspiration', y = 'price', data = carprice)\n",
    "\n",
    "# mean price of turbo starters is higher than standard started cars in USA"
   ]
  },
  {
   "cell_type": "code",
   "execution_count": 946,
   "metadata": {},
   "outputs": [
    {
     "data": {
      "text/plain": [
       "<matplotlib.axes._subplots.AxesSubplot at 0x24fb7ba8>"
      ]
     },
     "execution_count": 946,
     "metadata": {},
     "output_type": "execute_result"
    },
    {
     "data": {
      "image/png": "[encoded data removed]",
      "text/plain": [
       "<Figure size 432x288 with 1 Axes>"
      ]
     },
     "metadata": {},
     "output_type": "display_data"
    }
   ],
   "source": [
    "sns.boxplot(x = 'doornumber', y = 'price', data = carprice)\n",
    "\n",
    "# doornumber has little or no effect on car prices n USA based on graph below"
   ]
  },
  {
   "cell_type": "code",
   "execution_count": 947,
   "metadata": {},
   "outputs": [
    {
     "data": {
      "text/plain": [
       "<matplotlib.axes._subplots.AxesSubplot at 0x2381c240>"
      ]
     },
     "execution_count": 947,
     "metadata": {},
     "output_type": "execute_result"
    },
    {
     "data": {
      "image/png": "[encoded data removed]",
      "text/plain": [
       "<Figure size 432x288 with 1 Axes>"
      ]
     },
     "metadata": {},
     "output_type": "display_data"
    }
   ],
   "source": [
    "sns.boxplot(x = 'drivewheel', y = 'price', data = carprice)\n",
    "\n",
    "# rwd type of drive wheel has high mean price than fwd and 4wd wheel drive in USA"
   ]
  },
  {
   "cell_type": "code",
   "execution_count": 948,
   "metadata": {},
   "outputs": [
    {
     "data": {
      "text/plain": [
       "<matplotlib.axes._subplots.AxesSubplot at 0x2ab6efd0>"
      ]
     },
     "execution_count": 948,
     "metadata": {},
     "output_type": "execute_result"
    },
    {
     "data": {
      "image/png": "[encoded data removed]",
      "text/plain": [
       "<Figure size 1440x864 with 2 Axes>"
      ]
     },
     "metadata": {},
     "output_type": "display_data"
    }
   ],
   "source": [
    "plt.figure(figsize= (20,12))\n",
    "\n",
    "plt.subplot(1,2,1)\n",
    "sns.boxplot(x = 'enginelocation', y = 'price', data = carprice)\n",
    "\n",
    "plt.subplot(1,2,2)\n",
    "sns.boxplot(x = 'enginetype', y = 'price', data = carprice)\n",
    "\n",
    "# rear engine location cars bear higher price in USA that front engine ended cars"
   ]
  },
  {
   "cell_type": "code",
   "execution_count": 949,
   "metadata": {},
   "outputs": [
    {
     "data": {
      "text/plain": [
       "<matplotlib.axes._subplots.AxesSubplot at 0x1ff9a390>"
      ]
     },
     "execution_count": 949,
     "metadata": {},
     "output_type": "execute_result"
    },
    {
     "data": {
      "image/png": "[encoded data removed]",
      "text/plain": [
       "<Figure size 432x288 with 1 Axes>"
      ]
     },
     "metadata": {},
     "output_type": "display_data"
    }
   ],
   "source": [
    "sns.boxplot(x = 'cylindernumber', y = 'price', data = carprice)\n",
    "\n",
    "# tweleve and eight cylinder engine cars bear high cost and they are followd by six adn five cylinder cars, both are approximately same mdian price\n",
    "# rest (four, three, two) engines are on low price range"
   ]
  },
  {
   "cell_type": "code",
   "execution_count": 950,
   "metadata": {},
   "outputs": [
    {
     "data": {
      "text/plain": [
       "<matplotlib.axes._subplots.AxesSubplot at 0x2381c0b8>"
      ]
     },
     "execution_count": 950,
     "metadata": {},
     "output_type": "execute_result"
    },
    {
     "data": {
      "image/png": "[encoded data removed]",
      "text/plain": [
       "<Figure size 720x432 with 1 Axes>"
      ]
     },
     "metadata": {},
     "output_type": "display_data"
    }
   ],
   "source": [
    "plt.figure(figsize = (10,6))\n",
    "sns.boxplot(x = 'fuelsystem', y = 'price', data = carprice)\n",
    "\n",
    "# analysis based on fuel system"
   ]
  },
  {
   "cell_type": "code",
   "execution_count": 951,
   "metadata": {},
   "outputs": [
    {
     "data": {
      "text/plain": [
       "<matplotlib.axes._subplots.AxesSubplot at 0x27631710>"
      ]
     },
     "execution_count": 951,
     "metadata": {},
     "output_type": "execute_result"
    },
    {
     "data": {
      "image/png": "[encoded data removed]",
      "text/plain": [
       "<Figure size 1440x720 with 1 Axes>"
      ]
     },
     "metadata": {},
     "output_type": "display_data"
    }
   ],
   "source": [
    "plt.figure(figsize=(20,10))\n",
    "sns.boxplot(x = 'enginetype', y = 'price' , hue = 'cylindernumber', data = carprice)\n",
    "\n",
    "# analysis on enginer prices with cylinder number varies"
   ]
  },
  {
   "cell_type": "code",
   "execution_count": 952,
   "metadata": {},
   "outputs": [
    {
     "data": {
      "text/plain": [
       "<matplotlib.axes._subplots.AxesSubplot at 0x238b95c0>"
      ]
     },
     "execution_count": 952,
     "metadata": {},
     "output_type": "execute_result"
    },
    {
     "data": {
      "image/png": "[encoded data removed]",
      "text/plain": [
       "<Figure size 1440x720 with 1 Axes>"
      ]
     },
     "metadata": {},
     "output_type": "display_data"
    }
   ],
   "source": [
    "plt.figure(figsize=(20,10))\n",
    "\n",
    "# same analysis with fuel system\n",
    "sns.boxplot(x = 'enginetype', y = 'price' , hue = 'fuelsystem', data = carprice)"
   ]
  },
  {
   "cell_type": "code",
   "execution_count": 954,
   "metadata": {},
   "outputs": [
    {
     "data": {
      "text/plain": [
       "<matplotlib.axes._subplots.AxesSubplot at 0x27aa2ba8>"
      ]
     },
     "execution_count": 954,
     "metadata": {},
     "output_type": "execute_result"
    },
    {
     "data": {
      "image/png": "[encoded data removed]",
      "text/plain": [
       "<Figure size 432x288 with 1 Axes>"
      ]
     },
     "metadata": {},
     "output_type": "display_data"
    }
   ],
   "source": [
    "sns.boxplot(x = 'symboling' , y = 'price' , data = carprice)\n",
    "\n",
    "# Anaysis on how price is affected by safety rating"
   ]
  },
  {
   "cell_type": "code",
   "execution_count": 955,
   "metadata": {},
   "outputs": [],
   "source": [
    "# DATA PREPARATION\n",
    "\n",
    "#Creating Dummy Variables for Categorical Variables\n",
    "\n",
    "#symboling_dummy = pd.get_dummies(carprice.symboling , drop_first = True)\n",
    "CarName_dummy = pd.get_dummies(carprice.CarName , drop_first = True)\n",
    "aspiration_dummy = pd.get_dummies(carprice.aspiration , drop_first = True)\n",
    "doornumber_dummy = pd.get_dummies(carprice.doornumber , prefix = 'door' , drop_first = True)\n",
    "enginelocation_dummy = pd.get_dummies(carprice.enginelocation , prefix = 'loc', drop_first = True)\n",
    "fueltype_dummy = pd.get_dummies(carprice.fueltype , drop_first = True)\n",
    "carbody_dummy = pd.get_dummies(carprice.carbody , drop_first = True)\n",
    "drivewheel_dummy = pd.get_dummies(carprice.drivewheel, drop_first = True)\n",
    "enginetype_dummy = pd.get_dummies(carprice.enginetype , drop_first = True)\n",
    "cylindernumber_dummy = pd.get_dummies(carprice.cylindernumber , prefix = 'cylinder', drop_first = True)\n",
    "fuelsystem_dummy = pd.get_dummies(carprice.fuelsystem , drop_first = True)"
   ]
  },
  {
   "cell_type": "code",
   "execution_count": 956,
   "metadata": {},
   "outputs": [
    {
     "data": {
      "text/html": [
       "<div>\n",
       "<style scoped>\n",
       "    .dataframe tbody tr th:only-of-type {\n",
       "        vertical-align: middle;\n",
       "    }\n",
       "\n",
       "    .dataframe tbody tr th {\n",
       "        vertical-align: top;\n",
       "    }\n",
       "\n",
       "    .dataframe thead th {\n",
       "        text-align: right;\n",
       "    }\n",
       "</style>\n",
       "<table border=\"1\" class=\"dataframe\">\n",
       "  <thead>\n",
       "    <tr style=\"text-align: right;\">\n",
       "      <th></th>\n",
       "      <th>car_ID</th>\n",
       "      <th>symboling</th>\n",
       "      <th>CarName</th>\n",
       "      <th>fueltype</th>\n",
       "      <th>aspiration</th>\n",
       "      <th>doornumber</th>\n",
       "      <th>carbody</th>\n",
       "      <th>drivewheel</th>\n",
       "      <th>enginelocation</th>\n",
       "      <th>wheelbase</th>\n",
       "      <th>...</th>\n",
       "      <th>4bbl</th>\n",
       "      <th>idi</th>\n",
       "      <th>mfi</th>\n",
       "      <th>mpfi</th>\n",
       "      <th>spdi</th>\n",
       "      <th>spfi</th>\n",
       "      <th>hardtop</th>\n",
       "      <th>hatchback</th>\n",
       "      <th>sedan</th>\n",
       "      <th>wagon</th>\n",
       "    </tr>\n",
       "  </thead>\n",
       "  <tbody>\n",
       "    <tr>\n",
       "      <th>0</th>\n",
       "      <td>1</td>\n",
       "      <td>3</td>\n",
       "      <td>alfa-romero</td>\n",
       "      <td>gas</td>\n",
       "      <td>std</td>\n",
       "      <td>two</td>\n",
       "      <td>convertible</td>\n",
       "      <td>rwd</td>\n",
       "      <td>front</td>\n",
       "      <td>88.6</td>\n",
       "      <td>...</td>\n",
       "      <td>0</td>\n",
       "      <td>0</td>\n",
       "      <td>0</td>\n",
       "      <td>1</td>\n",
       "      <td>0</td>\n",
       "      <td>0</td>\n",
       "      <td>0</td>\n",
       "      <td>0</td>\n",
       "      <td>0</td>\n",
       "      <td>0</td>\n",
       "    </tr>\n",
       "    <tr>\n",
       "      <th>1</th>\n",
       "      <td>2</td>\n",
       "      <td>3</td>\n",
       "      <td>alfa-romero</td>\n",
       "      <td>gas</td>\n",
       "      <td>std</td>\n",
       "      <td>two</td>\n",
       "      <td>convertible</td>\n",
       "      <td>rwd</td>\n",
       "      <td>front</td>\n",
       "      <td>88.6</td>\n",
       "      <td>...</td>\n",
       "      <td>0</td>\n",
       "      <td>0</td>\n",
       "      <td>0</td>\n",
       "      <td>1</td>\n",
       "      <td>0</td>\n",
       "      <td>0</td>\n",
       "      <td>0</td>\n",
       "      <td>0</td>\n",
       "      <td>0</td>\n",
       "      <td>0</td>\n",
       "    </tr>\n",
       "    <tr>\n",
       "      <th>2</th>\n",
       "      <td>3</td>\n",
       "      <td>1</td>\n",
       "      <td>alfa-romero</td>\n",
       "      <td>gas</td>\n",
       "      <td>std</td>\n",
       "      <td>two</td>\n",
       "      <td>hatchback</td>\n",
       "      <td>rwd</td>\n",
       "      <td>front</td>\n",
       "      <td>94.5</td>\n",
       "      <td>...</td>\n",
       "      <td>0</td>\n",
       "      <td>0</td>\n",
       "      <td>0</td>\n",
       "      <td>1</td>\n",
       "      <td>0</td>\n",
       "      <td>0</td>\n",
       "      <td>0</td>\n",
       "      <td>1</td>\n",
       "      <td>0</td>\n",
       "      <td>0</td>\n",
       "    </tr>\n",
       "    <tr>\n",
       "      <th>3</th>\n",
       "      <td>4</td>\n",
       "      <td>2</td>\n",
       "      <td>audi</td>\n",
       "      <td>gas</td>\n",
       "      <td>std</td>\n",
       "      <td>four</td>\n",
       "      <td>sedan</td>\n",
       "      <td>fwd</td>\n",
       "      <td>front</td>\n",
       "      <td>99.8</td>\n",
       "      <td>...</td>\n",
       "      <td>0</td>\n",
       "      <td>0</td>\n",
       "      <td>0</td>\n",
       "      <td>1</td>\n",
       "      <td>0</td>\n",
       "      <td>0</td>\n",
       "      <td>0</td>\n",
       "      <td>0</td>\n",
       "      <td>1</td>\n",
       "      <td>0</td>\n",
       "    </tr>\n",
       "    <tr>\n",
       "      <th>4</th>\n",
       "      <td>5</td>\n",
       "      <td>2</td>\n",
       "      <td>audi</td>\n",
       "      <td>gas</td>\n",
       "      <td>std</td>\n",
       "      <td>four</td>\n",
       "      <td>sedan</td>\n",
       "      <td>4wd</td>\n",
       "      <td>front</td>\n",
       "      <td>99.4</td>\n",
       "      <td>...</td>\n",
       "      <td>0</td>\n",
       "      <td>0</td>\n",
       "      <td>0</td>\n",
       "      <td>1</td>\n",
       "      <td>0</td>\n",
       "      <td>0</td>\n",
       "      <td>0</td>\n",
       "      <td>0</td>\n",
       "      <td>1</td>\n",
       "      <td>0</td>\n",
       "    </tr>\n",
       "  </tbody>\n",
       "</table>\n",
       "<p>5 rows × 77 columns</p>\n",
       "</div>"
      ],
      "text/plain": [
       "   car_ID  symboling      CarName fueltype aspiration doornumber      carbody  \\\n",
       "0       1          3  alfa-romero      gas        std        two  convertible   \n",
       "1       2          3  alfa-romero      gas        std        two  convertible   \n",
       "2       3          1  alfa-romero      gas        std        two    hatchback   \n",
       "3       4          2         audi      gas        std       four        sedan   \n",
       "4       5          2         audi      gas        std       four        sedan   \n",
       "\n",
       "  drivewheel enginelocation  wheelbase  ...    4bbl  idi  mfi  mpfi spdi spfi  \\\n",
       "0        rwd          front       88.6  ...       0    0    0     1    0    0   \n",
       "1        rwd          front       88.6  ...       0    0    0     1    0    0   \n",
       "2        rwd          front       94.5  ...       0    0    0     1    0    0   \n",
       "3        fwd          front       99.8  ...       0    0    0     1    0    0   \n",
       "4        4wd          front       99.4  ...       0    0    0     1    0    0   \n",
       "\n",
       "   hardtop hatchback  sedan  wagon  \n",
       "0        0         0      0      0  \n",
       "1        0         0      0      0  \n",
       "2        0         1      0      0  \n",
       "3        0         0      1      0  \n",
       "4        0         0      1      0  \n",
       "\n",
       "[5 rows x 77 columns]"
      ]
     },
     "execution_count": 956,
     "metadata": {},
     "output_type": "execute_result"
    }
   ],
   "source": [
    "# Creation of dataset for further analysis\n",
    "\n",
    "carprice =  pd.concat([carprice,CarName_dummy,aspiration_dummy,doornumber_dummy,enginelocation_dummy,fueltype_dummy,drivewheel_dummy,enginetype_dummy,cylindernumber_dummy,fuelsystem_dummy,carbody_dummy], axis = 1)\n",
    "carprice.head()"
   ]
  },
  {
   "cell_type": "code",
   "execution_count": 957,
   "metadata": {},
   "outputs": [],
   "source": [
    "# Dropping variables that are not needed for further evaluation\n",
    "carprice.drop(['car_ID','CarName','aspiration','doornumber','enginelocation','fueltype','carbody','drivewheel','enginetype','cylindernumber','fuelsystem'] , axis = 1 , inplace = True)"
   ]
  },
  {
   "cell_type": "code",
   "execution_count": 958,
   "metadata": {},
   "outputs": [
    {
     "data": {
      "text/plain": [
       "(205, 66)"
      ]
     },
     "execution_count": 958,
     "metadata": {},
     "output_type": "execute_result"
    }
   ],
   "source": [
    "carprice.shape"
   ]
  },
  {
   "cell_type": "code",
   "execution_count": 959,
   "metadata": {},
   "outputs": [],
   "source": [
    "# MLR Model Starts\n",
    "\n",
    "# Test Train Split\n",
    "\n",
    "from sklearn.model_selection import train_test_split\n",
    "\n",
    "df_train, df_test = train_test_split(carprice, train_size = 0.7, test_size = 0.3, random_state = 100)"
   ]
  },
  {
   "cell_type": "code",
   "execution_count": 960,
   "metadata": {},
   "outputs": [
    {
     "name": "stderr",
     "output_type": "stream",
     "text": [
      "C:\\Users\\Dell\\Anaconda2\\lib\\site-packages\\ipykernel_launcher.py:6: SettingWithCopyWarning: \n",
      "A value is trying to be set on a copy of a slice from a DataFrame.\n",
      "Try using .loc[row_indexer,col_indexer] = value instead\n",
      "\n",
      "See the caveats in the documentation: http://pandas.pydata.org/pandas-docs/stable/indexing.html#indexing-view-versus-copy\n",
      "  \n"
     ]
    },
    {
     "data": {
      "text/html": [
       "<div>\n",
       "<style scoped>\n",
       "    .dataframe tbody tr th:only-of-type {\n",
       "        vertical-align: middle;\n",
       "    }\n",
       "\n",
       "    .dataframe tbody tr th {\n",
       "        vertical-align: top;\n",
       "    }\n",
       "\n",
       "    .dataframe thead th {\n",
       "        text-align: right;\n",
       "    }\n",
       "</style>\n",
       "<table border=\"1\" class=\"dataframe\">\n",
       "  <thead>\n",
       "    <tr style=\"text-align: right;\">\n",
       "      <th></th>\n",
       "      <th>symboling</th>\n",
       "      <th>wheelbase</th>\n",
       "      <th>carlength</th>\n",
       "      <th>carwidth</th>\n",
       "      <th>carheight</th>\n",
       "      <th>curbweight</th>\n",
       "      <th>enginesize</th>\n",
       "      <th>boreratio</th>\n",
       "      <th>stroke</th>\n",
       "      <th>compressionratio</th>\n",
       "      <th>...</th>\n",
       "      <th>4bbl</th>\n",
       "      <th>idi</th>\n",
       "      <th>mfi</th>\n",
       "      <th>mpfi</th>\n",
       "      <th>spdi</th>\n",
       "      <th>spfi</th>\n",
       "      <th>hardtop</th>\n",
       "      <th>hatchback</th>\n",
       "      <th>sedan</th>\n",
       "      <th>wagon</th>\n",
       "    </tr>\n",
       "  </thead>\n",
       "  <tbody>\n",
       "    <tr>\n",
       "      <th>122</th>\n",
       "      <td>1</td>\n",
       "      <td>0.244828</td>\n",
       "      <td>0.426016</td>\n",
       "      <td>0.291667</td>\n",
       "      <td>0.265487</td>\n",
       "      <td>0.272692</td>\n",
       "      <td>0.139623</td>\n",
       "      <td>0.230159</td>\n",
       "      <td>0.525253</td>\n",
       "      <td>0.15000</td>\n",
       "      <td>...</td>\n",
       "      <td>0</td>\n",
       "      <td>0</td>\n",
       "      <td>0</td>\n",
       "      <td>0</td>\n",
       "      <td>0</td>\n",
       "      <td>0</td>\n",
       "      <td>0</td>\n",
       "      <td>0</td>\n",
       "      <td>1</td>\n",
       "      <td>0</td>\n",
       "    </tr>\n",
       "    <tr>\n",
       "      <th>125</th>\n",
       "      <td>3</td>\n",
       "      <td>0.272414</td>\n",
       "      <td>0.452033</td>\n",
       "      <td>0.666667</td>\n",
       "      <td>0.212389</td>\n",
       "      <td>0.500388</td>\n",
       "      <td>0.339623</td>\n",
       "      <td>1.000000</td>\n",
       "      <td>0.464646</td>\n",
       "      <td>0.15625</td>\n",
       "      <td>...</td>\n",
       "      <td>0</td>\n",
       "      <td>0</td>\n",
       "      <td>0</td>\n",
       "      <td>1</td>\n",
       "      <td>0</td>\n",
       "      <td>0</td>\n",
       "      <td>0</td>\n",
       "      <td>1</td>\n",
       "      <td>0</td>\n",
       "      <td>0</td>\n",
       "    </tr>\n",
       "    <tr>\n",
       "      <th>166</th>\n",
       "      <td>1</td>\n",
       "      <td>0.272414</td>\n",
       "      <td>0.448780</td>\n",
       "      <td>0.308333</td>\n",
       "      <td>0.424779</td>\n",
       "      <td>0.314973</td>\n",
       "      <td>0.139623</td>\n",
       "      <td>0.444444</td>\n",
       "      <td>0.449495</td>\n",
       "      <td>0.15000</td>\n",
       "      <td>...</td>\n",
       "      <td>0</td>\n",
       "      <td>0</td>\n",
       "      <td>0</td>\n",
       "      <td>1</td>\n",
       "      <td>0</td>\n",
       "      <td>0</td>\n",
       "      <td>0</td>\n",
       "      <td>1</td>\n",
       "      <td>0</td>\n",
       "      <td>0</td>\n",
       "    </tr>\n",
       "    <tr>\n",
       "      <th>1</th>\n",
       "      <td>3</td>\n",
       "      <td>0.068966</td>\n",
       "      <td>0.450407</td>\n",
       "      <td>0.316667</td>\n",
       "      <td>0.088496</td>\n",
       "      <td>0.411171</td>\n",
       "      <td>0.260377</td>\n",
       "      <td>0.626984</td>\n",
       "      <td>0.247475</td>\n",
       "      <td>0.12500</td>\n",
       "      <td>...</td>\n",
       "      <td>0</td>\n",
       "      <td>0</td>\n",
       "      <td>0</td>\n",
       "      <td>1</td>\n",
       "      <td>0</td>\n",
       "      <td>0</td>\n",
       "      <td>0</td>\n",
       "      <td>0</td>\n",
       "      <td>0</td>\n",
       "      <td>0</td>\n",
       "    </tr>\n",
       "    <tr>\n",
       "      <th>199</th>\n",
       "      <td>-1</td>\n",
       "      <td>0.610345</td>\n",
       "      <td>0.775610</td>\n",
       "      <td>0.575000</td>\n",
       "      <td>0.858407</td>\n",
       "      <td>0.647401</td>\n",
       "      <td>0.260377</td>\n",
       "      <td>0.746032</td>\n",
       "      <td>0.484848</td>\n",
       "      <td>0.03125</td>\n",
       "      <td>...</td>\n",
       "      <td>0</td>\n",
       "      <td>0</td>\n",
       "      <td>0</td>\n",
       "      <td>1</td>\n",
       "      <td>0</td>\n",
       "      <td>0</td>\n",
       "      <td>0</td>\n",
       "      <td>0</td>\n",
       "      <td>0</td>\n",
       "      <td>1</td>\n",
       "    </tr>\n",
       "  </tbody>\n",
       "</table>\n",
       "<p>5 rows × 66 columns</p>\n",
       "</div>"
      ],
      "text/plain": [
       "     symboling  wheelbase  carlength  carwidth  carheight  curbweight  \\\n",
       "122          1   0.244828   0.426016  0.291667   0.265487    0.272692   \n",
       "125          3   0.272414   0.452033  0.666667   0.212389    0.500388   \n",
       "166          1   0.272414   0.448780  0.308333   0.424779    0.314973   \n",
       "1            3   0.068966   0.450407  0.316667   0.088496    0.411171   \n",
       "199         -1   0.610345   0.775610  0.575000   0.858407    0.647401   \n",
       "\n",
       "     enginesize  boreratio    stroke  compressionratio  ...    4bbl  idi  mfi  \\\n",
       "122    0.139623   0.230159  0.525253           0.15000  ...       0    0    0   \n",
       "125    0.339623   1.000000  0.464646           0.15625  ...       0    0    0   \n",
       "166    0.139623   0.444444  0.449495           0.15000  ...       0    0    0   \n",
       "1      0.260377   0.626984  0.247475           0.12500  ...       0    0    0   \n",
       "199    0.260377   0.746032  0.484848           0.03125  ...       0    0    0   \n",
       "\n",
       "     mpfi  spdi  spfi  hardtop  hatchback  sedan  wagon  \n",
       "122     0     0     0        0          0      1      0  \n",
       "125     1     0     0        0          1      0      0  \n",
       "166     1     0     0        0          1      0      0  \n",
       "1       1     0     0        0          0      0      0  \n",
       "199     1     0     0        0          0      0      1  \n",
       "\n",
       "[5 rows x 66 columns]"
      ]
     },
     "execution_count": 960,
     "metadata": {},
     "output_type": "execute_result"
    }
   ],
   "source": [
    "# Feature Scaling\n",
    "\n",
    "from sklearn.preprocessing import MinMaxScaler\n",
    "scaler = MinMaxScaler()\n",
    "variables = ['wheelbase','carlength','carwidth','carheight','curbweight','enginesize','boreratio','stroke','compressionratio','horsepower','peakrpm','citympg','highwaympg']\n",
    "df_train[variables] = scaler.fit_transform(df_train[variables])\n",
    "df_train.head()"
   ]
  },
  {
   "cell_type": "code",
   "execution_count": 961,
   "metadata": {},
   "outputs": [
    {
     "data": {
      "text/plain": [
       "(        symboling   wheelbase   carlength    carwidth   carheight  curbweight  \\\n",
       " count  143.000000  143.000000  143.000000  143.000000  143.000000  143.000000   \n",
       " mean     0.797203    0.411141    0.525476    0.461655    0.509004    0.407878   \n",
       " std      1.195999    0.205581    0.204848    0.184517    0.215378    0.211269   \n",
       " min     -2.000000    0.000000    0.000000    0.000000    0.000000    0.000000   \n",
       " 25%      0.000000    0.272414    0.399187    0.304167    0.353982    0.245539   \n",
       " 50%      1.000000    0.341379    0.502439    0.425000    0.522124    0.355702   \n",
       " 75%      1.000000    0.503448    0.669919    0.550000    0.668142    0.559542   \n",
       " max      3.000000    1.000000    1.000000    1.000000    1.000000    1.000000   \n",
       " \n",
       "        enginesize   boreratio      stroke  compressionratio     ...      \\\n",
       " count  143.000000  143.000000  143.000000        143.000000     ...       \n",
       " mean     0.241351    0.497946    0.535389          0.190787     ...       \n",
       " std      0.154619    0.207140    0.157843          0.237181     ...       \n",
       " min      0.000000    0.000000    0.000000          0.000000     ...       \n",
       " 25%      0.135849    0.305556    0.464646          0.100000     ...       \n",
       " 50%      0.184906    0.500000    0.545455          0.125000     ...       \n",
       " 75%      0.301887    0.682540    0.611111          0.150000     ...       \n",
       " max      1.000000    1.000000    1.000000          1.000000     ...       \n",
       " \n",
       "              4bbl         idi    mfi        mpfi        spdi   spfi  \\\n",
       " count  143.000000  143.000000  143.0  143.000000  143.000000  143.0   \n",
       " mean     0.020979    0.090909    0.0    0.440559    0.041958    0.0   \n",
       " std      0.143818    0.288490    0.0    0.498199    0.201198    0.0   \n",
       " min      0.000000    0.000000    0.0    0.000000    0.000000    0.0   \n",
       " 25%      0.000000    0.000000    0.0    0.000000    0.000000    0.0   \n",
       " 50%      0.000000    0.000000    0.0    0.000000    0.000000    0.0   \n",
       " 75%      0.000000    0.000000    0.0    1.000000    0.000000    0.0   \n",
       " max      1.000000    1.000000    0.0    1.000000    1.000000    0.0   \n",
       " \n",
       "           hardtop   hatchback       sedan       wagon  \n",
       " count  143.000000  143.000000  143.000000  143.000000  \n",
       " mean     0.020979    0.342657    0.475524    0.132867  \n",
       " std      0.143818    0.476266    0.501156    0.340624  \n",
       " min      0.000000    0.000000    0.000000    0.000000  \n",
       " 25%      0.000000    0.000000    0.000000    0.000000  \n",
       " 50%      0.000000    0.000000    0.000000    0.000000  \n",
       " 75%      0.000000    1.000000    1.000000    0.000000  \n",
       " max      1.000000    1.000000    1.000000    1.000000  \n",
       " \n",
       " [8 rows x 66 columns],\n",
       " Index([u'symboling', u'wheelbase', u'carlength', u'carwidth', u'carheight',\n",
       "        u'curbweight', u'enginesize', u'boreratio', u'stroke',\n",
       "        u'compressionratio', u'horsepower', u'peakrpm', u'citympg',\n",
       "        u'highwaympg', u'price', u'audi', u'bmw', u'buick', u'chevrolet',\n",
       "        u'dodge', u'honda', u'isuzu', u'jaguar', u'mazda', u'mercury',\n",
       "        u'mitsubishi', u'nissan', u'peugeot', u'plymouth', u'porcshce',\n",
       "        u'porsche', u'renault', u'saab', u'subaru', u'toyota', u'volkswagen',\n",
       "        u'volvo', u'turbo', u'door_two', u'loc_rear', u'gas', u'fwd', u'rwd',\n",
       "        u'dohcv', u'l', u'ohc', u'ohcf', u'ohcv', u'rotor', u'cylinder_five',\n",
       "        u'cylinder_four', u'cylinder_six', u'cylinder_three',\n",
       "        u'cylinder_twelve', u'cylinder_two', u'2bbl', u'4bbl', u'idi', u'mfi',\n",
       "        u'mpfi', u'spdi', u'spfi', u'hardtop', u'hatchback', u'sedan',\n",
       "        u'wagon'],\n",
       "       dtype='object'))"
      ]
     },
     "execution_count": 961,
     "metadata": {},
     "output_type": "execute_result"
    }
   ],
   "source": [
    "df_train.describe() , df_train.columns"
   ]
  },
  {
   "cell_type": "code",
   "execution_count": 962,
   "metadata": {},
   "outputs": [],
   "source": [
    "y_train = df_train.pop('price')\n",
    "X_train = df_train"
   ]
  },
  {
   "cell_type": "code",
   "execution_count": 963,
   "metadata": {},
   "outputs": [],
   "source": [
    "#Using RFE to build regression model\n",
    "X_train.drop(['cylinder_two'] , axis= 1 , inplace = True)\n",
    "from sklearn.feature_selection import RFE\n",
    "from sklearn.linear_model import LinearRegression"
   ]
  },
  {
   "cell_type": "code",
   "execution_count": 964,
   "metadata": {},
   "outputs": [],
   "source": [
    "lm = LinearRegression()\n",
    "lm.fit(X_train , y_train)\n",
    "\n",
    "rfe = RFE(lm , 20)\n",
    "rfe = rfe.fit(X_train, y_train)"
   ]
  },
  {
   "cell_type": "code",
   "execution_count": 965,
   "metadata": {},
   "outputs": [
    {
     "data": {
      "text/plain": [
       "[(u'symboling', False, 39),\n",
       " (u'wheelbase', False, 6),\n",
       " (u'carlength', False, 10),\n",
       " (u'carwidth', True, 1),\n",
       " (u'carheight', False, 7),\n",
       " (u'curbweight', True, 1),\n",
       " (u'enginesize', True, 1),\n",
       " (u'boreratio', True, 1),\n",
       " (u'stroke', True, 1),\n",
       " (u'compressionratio', False, 14),\n",
       " (u'horsepower', False, 4),\n",
       " (u'peakrpm', False, 5),\n",
       " (u'citympg', False, 28),\n",
       " (u'highwaympg', False, 15),\n",
       " (u'audi', False, 26),\n",
       " (u'bmw', True, 1),\n",
       " (u'buick', False, 27),\n",
       " (u'chevrolet', False, 12),\n",
       " (u'dodge', False, 9),\n",
       " (u'honda', False, 11),\n",
       " (u'isuzu', False, 40),\n",
       " (u'jaguar', False, 16),\n",
       " (u'mazda', False, 33),\n",
       " (u'mercury', False, 41),\n",
       " (u'mitsubishi', False, 2),\n",
       " (u'nissan', False, 32),\n",
       " (u'peugeot', True, 1),\n",
       " (u'plymouth', False, 8),\n",
       " (u'porcshce', False, 42),\n",
       " (u'porsche', True, 1),\n",
       " (u'renault', False, 29),\n",
       " (u'saab', True, 1),\n",
       " (u'subaru', True, 1),\n",
       " (u'toyota', False, 34),\n",
       " (u'volkswagen', False, 35),\n",
       " (u'volvo', True, 1),\n",
       " (u'turbo', False, 3),\n",
       " (u'door_two', False, 37),\n",
       " (u'loc_rear', True, 1),\n",
       " (u'gas', False, 18),\n",
       " (u'fwd', False, 38),\n",
       " (u'rwd', False, 31),\n",
       " (u'dohcv', True, 1),\n",
       " (u'l', True, 1),\n",
       " (u'ohc', False, 44),\n",
       " (u'ohcf', True, 1),\n",
       " (u'ohcv', False, 30),\n",
       " (u'rotor', True, 1),\n",
       " (u'cylinder_five', True, 1),\n",
       " (u'cylinder_four', True, 1),\n",
       " (u'cylinder_six', False, 17),\n",
       " (u'cylinder_three', True, 1),\n",
       " (u'cylinder_twelve', True, 1),\n",
       " (u'2bbl', False, 36),\n",
       " (u'4bbl', False, 23),\n",
       " (u'idi', False, 13),\n",
       " (u'mfi', False, 43),\n",
       " (u'mpfi', False, 25),\n",
       " (u'spdi', False, 24),\n",
       " (u'spfi', False, 45),\n",
       " (u'hardtop', False, 20),\n",
       " (u'hatchback', False, 19),\n",
       " (u'sedan', False, 21),\n",
       " (u'wagon', False, 22)]"
      ]
     },
     "execution_count": 965,
     "metadata": {},
     "output_type": "execute_result"
    }
   ],
   "source": [
    "list(zip(X_train.columns,rfe.support_,rfe.ranking_))"
   ]
  },
  {
   "cell_type": "code",
   "execution_count": 966,
   "metadata": {},
   "outputs": [
    {
     "data": {
      "text/plain": [
       "Index([u'carwidth', u'curbweight', u'enginesize', u'boreratio', u'stroke',\n",
       "       u'bmw', u'peugeot', u'porsche', u'saab', u'subaru', u'volvo',\n",
       "       u'loc_rear', u'dohcv', u'l', u'ohcf', u'rotor', u'cylinder_five',\n",
       "       u'cylinder_four', u'cylinder_three', u'cylinder_twelve'],\n",
       "      dtype='object')"
      ]
     },
     "execution_count": 966,
     "metadata": {},
     "output_type": "execute_result"
    }
   ],
   "source": [
    "# columns supported by RFE\n",
    "col = X_train.columns[rfe.support_]\n",
    "col"
   ]
  },
  {
   "cell_type": "code",
   "execution_count": 967,
   "metadata": {},
   "outputs": [
    {
     "data": {
      "text/plain": [
       "<matplotlib.axes._subplots.AxesSubplot at 0x29850860>"
      ]
     },
     "execution_count": 967,
     "metadata": {},
     "output_type": "execute_result"
    },
    {
     "data": {
      "image/png": "[encoded data removed]",
      "text/plain": [
       "<Figure size 1440x1440 with 2 Axes>"
      ]
     },
     "metadata": {},
     "output_type": "display_data"
    }
   ],
   "source": [
    "#Checking for correlation between columns selected by RFE\n",
    "\n",
    "X_train_rfe = X_train[col]\n",
    "plt.figure(figsize = (20, 20))\n",
    "sns.heatmap(X_train_rfe.corr() , annot = True , cmap = 'YlGnBu')"
   ]
  },
  {
   "cell_type": "code",
   "execution_count": 968,
   "metadata": {},
   "outputs": [],
   "source": [
    "# Continuing with RFE methodology\n",
    "import statsmodels.api as sm  \n",
    "X_train_rfe = sm.add_constant(X_train_rfe)"
   ]
  },
  {
   "cell_type": "code",
   "execution_count": 969,
   "metadata": {},
   "outputs": [],
   "source": [
    "# Model 1\n",
    "lm = sm.OLS(y_train,X_train_rfe).fit()"
   ]
  },
  {
   "cell_type": "code",
   "execution_count": 970,
   "metadata": {},
   "outputs": [
    {
     "name": "stdout",
     "output_type": "stream",
     "text": [
      "                            OLS Regression Results                            \n",
      "==============================================================================\n",
      "Dep. Variable:                  price   R-squared:                       0.947\n",
      "Model:                            OLS   Adj. R-squared:                  0.939\n",
      "Method:                 Least Squares   F-statistic:                     123.1\n",
      "Date:                Mon, 28 Jan 2019   Prob (F-statistic):           4.94e-70\n",
      "Time:                        04:12:40   Log-Likelihood:                -1274.1\n",
      "No. Observations:                 143   AIC:                             2586.\n",
      "Df Residuals:                     124   BIC:                             2642.\n",
      "Df Model:                          18                                         \n",
      "Covariance Type:            nonrobust                                         \n",
      "===================================================================================\n",
      "                      coef    std err          t      P>|t|      [0.025      0.975]\n",
      "-----------------------------------------------------------------------------------\n",
      "const           -5981.3021   1449.758     -4.126      0.000   -8850.779   -3111.825\n",
      "carwidth         9799.0091   2265.753      4.325      0.000    5314.448    1.43e+04\n",
      "curbweight       1.103e+04   2704.800      4.078      0.000    5676.497    1.64e+04\n",
      "enginesize       5.791e+04   6411.310      9.032      0.000    4.52e+04    7.06e+04\n",
      "boreratio       -1.784e+04   2480.109     -7.193      0.000   -2.27e+04   -1.29e+04\n",
      "stroke          -9032.8455   1708.648     -5.287      0.000   -1.24e+04   -5650.953\n",
      "bmw              1.126e+04    978.926     11.505      0.000    9325.398    1.32e+04\n",
      "peugeot         -7258.5286   1160.599     -6.254      0.000   -9555.679   -4961.378\n",
      "porsche          8090.6066   2161.789      3.743      0.000    3811.820    1.24e+04\n",
      "saab             3680.0843   1290.880      2.851      0.005    1125.070    6235.098\n",
      "subaru          -2533.5661   1250.876     -2.025      0.045   -5009.401     -57.731\n",
      "volvo            4103.6873   1080.044      3.800      0.000    1965.978    6241.396\n",
      "loc_rear         7186.3956   2004.671      3.585      0.000    3218.590    1.12e+04\n",
      "dohcv            2463.8481   2827.624      0.871      0.385   -3132.812    8060.508\n",
      "l                5481.2247    943.851      5.807      0.000    3613.078    7349.371\n",
      "ohcf             4652.8295   1028.733      4.523      0.000    2616.678    6688.981\n",
      "rotor            2.219e+04   2667.987      8.317      0.000    1.69e+04    2.75e+04\n",
      "cylinder_five    8174.7255   1292.608      6.324      0.000    5616.292    1.07e+04\n",
      "cylinder_four    1.023e+04   1488.475      6.871      0.000    7280.678    1.32e+04\n",
      "cylinder_three   1.274e+04   1827.731      6.970      0.000    9122.161    1.64e+04\n",
      "cylinder_twelve  -2.01e+04   3515.089     -5.717      0.000   -2.71e+04   -1.31e+04\n",
      "==============================================================================\n",
      "Omnibus:                       25.780   Durbin-Watson:                   1.821\n",
      "Prob(Omnibus):                  0.000   Jarque-Bera (JB):               50.751\n",
      "Skew:                           0.796   Prob(JB):                     9.54e-12\n",
      "Kurtosis:                       5.446   Cond. No.                     5.07e+16\n",
      "==============================================================================\n",
      "\n",
      "Warnings:\n",
      "[1] Standard Errors assume that the covariance matrix of the errors is correctly specified.\n",
      "[2] The smallest eigenvalue is 1.44e-31. This might indicate that there are\n",
      "strong multicollinearity problems or that the design matrix is singular.\n"
     ]
    }
   ],
   "source": [
    "print(lm.summary())\n",
    "\n",
    "# P value for all objects is under 0.05, except for dochv"
   ]
  },
  {
   "cell_type": "code",
   "execution_count": 971,
   "metadata": {},
   "outputs": [
    {
     "data": {
      "text/plain": [
       "(           Features         VIF\n",
       " 18   cylinder_three         inf\n",
       " 6           peugeot         inf\n",
       " 9            subaru         inf\n",
       " 11         loc_rear         inf\n",
       " 13                l         inf\n",
       " 14             ohcf         inf\n",
       " 2        enginesize  103.240084\n",
       " 1        curbweight   59.307823\n",
       " 3         boreratio   53.087519\n",
       " 0          carwidth   47.856569\n",
       " 4            stroke   34.722340\n",
       " 17    cylinder_four   27.103803\n",
       " 15            rotor    4.871631\n",
       " 7           porsche    3.779304\n",
       " 16    cylinder_five    3.295890\n",
       " 19  cylinder_twelve    2.961415\n",
       " 12            dohcv    2.118952\n",
       " 10            volvo    1.821101\n",
       " 8              saab    1.338956\n",
       " 5               bmw    1.289125,\n",
       " Index([u'carwidth', u'curbweight', u'enginesize', u'boreratio', u'stroke',\n",
       "        u'bmw', u'peugeot', u'porsche', u'saab', u'subaru', u'volvo',\n",
       "        u'loc_rear', u'dohcv', u'l', u'ohcf', u'rotor', u'cylinder_five',\n",
       "        u'cylinder_four', u'cylinder_three', u'cylinder_twelve'],\n",
       "       dtype='object'))"
      ]
     },
     "execution_count": 971,
     "metadata": {},
     "output_type": "execute_result"
    }
   ],
   "source": [
    "# Calculation of VIF\n",
    "\n",
    "from statsmodels.stats.outliers_influence import variance_inflation_factor\n",
    "\n",
    "X_train_new = X_train_rfe.drop(['const'] , axis = 1)\n",
    "vif =pd.DataFrame()\n",
    "X = X_train_new\n",
    "vif['Features'] = X.columns\n",
    "vif['VIF'] = [variance_inflation_factor(X.values, i) for i in range(X.shape[1])]\n",
    "vif['VIF'] = vif['VIF']\n",
    "vif = vif.sort_values(by = \"VIF\", ascending = False)\n",
    "vif , X_train_new.columns\n",
    "\n",
    "# we have some variables with infinity and high values for VIF, we need to remove these values"
   ]
  },
  {
   "cell_type": "code",
   "execution_count": 972,
   "metadata": {},
   "outputs": [],
   "source": [
    "#dropping 'cylinder_three' because of high VIF\n",
    "X_train_rfe.drop(['cylinder_three'], axis = 1 , inplace = True)"
   ]
  },
  {
   "cell_type": "code",
   "execution_count": 973,
   "metadata": {},
   "outputs": [
    {
     "name": "stdout",
     "output_type": "stream",
     "text": [
      "                            OLS Regression Results                            \n",
      "==============================================================================\n",
      "Dep. Variable:                  price   R-squared:                       0.947\n",
      "Model:                            OLS   Adj. R-squared:                  0.939\n",
      "Method:                 Least Squares   F-statistic:                     123.1\n",
      "Date:                Mon, 28 Jan 2019   Prob (F-statistic):           4.94e-70\n",
      "Time:                        04:12:40   Log-Likelihood:                -1274.1\n",
      "No. Observations:                 143   AIC:                             2586.\n",
      "Df Residuals:                     124   BIC:                             2642.\n",
      "Df Model:                          18                                         \n",
      "Covariance Type:            nonrobust                                         \n",
      "===================================================================================\n",
      "                      coef    std err          t      P>|t|      [0.025      0.975]\n",
      "-----------------------------------------------------------------------------------\n",
      "const           -5981.3021   1449.758     -4.126      0.000   -8850.779   -3111.825\n",
      "carwidth         9799.0091   2265.753      4.325      0.000    5314.448    1.43e+04\n",
      "curbweight       1.103e+04   2704.800      4.078      0.000    5676.497    1.64e+04\n",
      "enginesize       5.791e+04   6411.310      9.032      0.000    4.52e+04    7.06e+04\n",
      "boreratio       -1.784e+04   2480.109     -7.193      0.000   -2.27e+04   -1.29e+04\n",
      "stroke          -9032.8455   1708.648     -5.287      0.000   -1.24e+04   -5650.953\n",
      "bmw              1.126e+04    978.926     11.505      0.000    9325.398    1.32e+04\n",
      "peugeot             -2e+04   2912.787     -6.866      0.000   -2.58e+04   -1.42e+04\n",
      "porsche          8090.6066   2161.789      3.743      0.000    3811.820    1.24e+04\n",
      "saab             3680.0843   1290.880      2.851      0.005    1125.070    6235.098\n",
      "subaru          -2533.5661   1250.876     -2.025      0.045   -5009.401     -57.731\n",
      "volvo            4103.6873   1080.044      3.800      0.000    1965.978    6241.396\n",
      "loc_rear         7186.3956   2004.671      3.585      0.000    3218.590    1.12e+04\n",
      "dohcv            2463.8481   2827.624      0.871      0.385   -3132.812    8060.508\n",
      "l                1.822e+04   2667.569      6.831      0.000    1.29e+04    2.35e+04\n",
      "ohcf             4652.8295   1028.733      4.523      0.000    2616.678    6688.981\n",
      "rotor            2.219e+04   2667.987      8.317      0.000    1.69e+04    2.75e+04\n",
      "cylinder_five    8174.7255   1292.608      6.324      0.000    5616.292    1.07e+04\n",
      "cylinder_four    1.023e+04   1488.475      6.871      0.000    7280.678    1.32e+04\n",
      "cylinder_twelve  -2.01e+04   3515.089     -5.717      0.000   -2.71e+04   -1.31e+04\n",
      "==============================================================================\n",
      "Omnibus:                       25.780   Durbin-Watson:                   1.821\n",
      "Prob(Omnibus):                  0.000   Jarque-Bera (JB):               50.751\n",
      "Skew:                           0.796   Prob(JB):                     9.54e-12\n",
      "Kurtosis:                       5.446   Cond. No.                     3.86e+16\n",
      "==============================================================================\n",
      "\n",
      "Warnings:\n",
      "[1] Standard Errors assume that the covariance matrix of the errors is correctly specified.\n",
      "[2] The smallest eigenvalue is 2.48e-31. This might indicate that there are\n",
      "strong multicollinearity problems or that the design matrix is singular.\n"
     ]
    }
   ],
   "source": [
    "# Train model 2\n",
    "\n",
    "X_train_rfe = sm.add_constant(X_train_rfe)\n",
    "lm = sm.OLS(y_train,X_train_rfe).fit()\n",
    "print(lm.summary())\n",
    "\n",
    "# no improvement in model stats afterremoving cylinder_three"
   ]
  },
  {
   "cell_type": "code",
   "execution_count": 974,
   "metadata": {},
   "outputs": [
    {
     "data": {
      "text/plain": [
       "(           Features         VIF\n",
       " 9            subaru         inf\n",
       " 14             ohcf         inf\n",
       " 11         loc_rear         inf\n",
       " 2        enginesize  103.240084\n",
       " 1        curbweight   59.307823\n",
       " 3         boreratio   53.087519\n",
       " 0          carwidth   47.856569\n",
       " 4            stroke   34.722340\n",
       " 17    cylinder_four   27.103803\n",
       " 6           peugeot   12.116256\n",
       " 13                l   11.173704\n",
       " 15            rotor    4.871631\n",
       " 7           porsche    3.779304\n",
       " 16    cylinder_five    3.295890\n",
       " 18  cylinder_twelve    2.961415\n",
       " 12            dohcv    2.118952\n",
       " 10            volvo    1.821101\n",
       " 8              saab    1.338956\n",
       " 5               bmw    1.289125,\n",
       " Index([u'carwidth', u'curbweight', u'enginesize', u'boreratio', u'stroke',\n",
       "        u'bmw', u'peugeot', u'porsche', u'saab', u'subaru', u'volvo',\n",
       "        u'loc_rear', u'dohcv', u'l', u'ohcf', u'rotor', u'cylinder_five',\n",
       "        u'cylinder_four', u'cylinder_twelve'],\n",
       "       dtype='object'))"
      ]
     },
     "execution_count": 974,
     "metadata": {},
     "output_type": "execute_result"
    }
   ],
   "source": [
    "# Calculation of VIF\n",
    "from statsmodels.stats.outliers_influence import variance_inflation_factor\n",
    "\n",
    "X_train_new = X_train_rfe.drop(['const'] , axis = 1)\n",
    "vif =pd.DataFrame()\n",
    "X = X_train_new\n",
    "vif['Features'] = X.columns\n",
    "vif['VIF'] = [variance_inflation_factor(X.values, i) for i in range(X.shape[1])]\n",
    "vif['VIF'] = vif['VIF']\n",
    "vif = vif.sort_values(by = \"VIF\", ascending = False)\n",
    "vif , X_train_new.columns\n",
    "\n",
    "# we can see some changes in VIF for subaru, engine size etc."
   ]
  },
  {
   "cell_type": "code",
   "execution_count": 975,
   "metadata": {},
   "outputs": [
    {
     "name": "stdout",
     "output_type": "stream",
     "text": [
      "                            OLS Regression Results                            \n",
      "==============================================================================\n",
      "Dep. Variable:                  price   R-squared:                       0.947\n",
      "Model:                            OLS   Adj. R-squared:                  0.939\n",
      "Method:                 Least Squares   F-statistic:                     123.1\n",
      "Date:                Mon, 28 Jan 2019   Prob (F-statistic):           4.94e-70\n",
      "Time:                        04:12:40   Log-Likelihood:                -1274.1\n",
      "No. Observations:                 143   AIC:                             2586.\n",
      "Df Residuals:                     124   BIC:                             2642.\n",
      "Df Model:                          18                                         \n",
      "Covariance Type:            nonrobust                                         \n",
      "===================================================================================\n",
      "                      coef    std err          t      P>|t|      [0.025      0.975]\n",
      "-----------------------------------------------------------------------------------\n",
      "const           -5981.3021   1449.758     -4.126      0.000   -8850.779   -3111.825\n",
      "carwidth         9799.0091   2265.753      4.325      0.000    5314.448    1.43e+04\n",
      "curbweight       1.103e+04   2704.800      4.078      0.000    5676.497    1.64e+04\n",
      "enginesize       5.791e+04   6411.310      9.032      0.000    4.52e+04    7.06e+04\n",
      "boreratio       -1.784e+04   2480.109     -7.193      0.000   -2.27e+04   -1.29e+04\n",
      "stroke          -9032.8455   1708.648     -5.287      0.000   -1.24e+04   -5650.953\n",
      "bmw              1.126e+04    978.926     11.505      0.000    9325.398    1.32e+04\n",
      "peugeot             -2e+04   2912.787     -6.866      0.000   -2.58e+04   -1.42e+04\n",
      "porsche          8090.6066   2161.789      3.743      0.000    3811.820    1.24e+04\n",
      "saab             3680.0843   1290.880      2.851      0.005    1125.070    6235.098\n",
      "subaru           2119.2634   1107.818      1.913      0.058     -73.419    4311.946\n",
      "volvo            4103.6873   1080.044      3.800      0.000    1965.978    6241.396\n",
      "loc_rear         1.184e+04   2930.752      4.040      0.000    6038.447    1.76e+04\n",
      "dohcv            2463.8481   2827.624      0.871      0.385   -3132.812    8060.508\n",
      "l                1.822e+04   2667.569      6.831      0.000    1.29e+04    2.35e+04\n",
      "rotor            2.219e+04   2667.987      8.317      0.000    1.69e+04    2.75e+04\n",
      "cylinder_five    8174.7255   1292.608      6.324      0.000    5616.292    1.07e+04\n",
      "cylinder_four    1.023e+04   1488.475      6.871      0.000    7280.678    1.32e+04\n",
      "cylinder_twelve  -2.01e+04   3515.089     -5.717      0.000   -2.71e+04   -1.31e+04\n",
      "==============================================================================\n",
      "Omnibus:                       25.780   Durbin-Watson:                   1.821\n",
      "Prob(Omnibus):                  0.000   Jarque-Bera (JB):               50.751\n",
      "Skew:                           0.796   Prob(JB):                     9.54e-12\n",
      "Kurtosis:                       5.446   Cond. No.                         82.4\n",
      "==============================================================================\n",
      "\n",
      "Warnings:\n",
      "[1] Standard Errors assume that the covariance matrix of the errors is correctly specified.\n"
     ]
    }
   ],
   "source": [
    "# dropping oncf because of high VIF value, Model 3 \n",
    "\n",
    "X_train_rfe.drop(['ohcf'], axis = 1 , inplace = True)\n",
    "X_train_rfe = sm.add_constant(X_train_rfe)\n",
    "lm = sm.OLS(y_train,X_train_rfe).fit()\n",
    "print(lm.summary())\n",
    "\n",
    "# no significant change in model stats"
   ]
  },
  {
   "cell_type": "code",
   "execution_count": 976,
   "metadata": {},
   "outputs": [
    {
     "data": {
      "text/plain": [
       "(           Features         VIF\n",
       " 2        enginesize  103.240084\n",
       " 1        curbweight   59.307823\n",
       " 3         boreratio   53.087519\n",
       " 0          carwidth   47.856569\n",
       " 4            stroke   34.722340\n",
       " 16    cylinder_four   27.103803\n",
       " 6           peugeot   12.116256\n",
       " 13                l   11.173704\n",
       " 14            rotor    4.871631\n",
       " 7           porsche    3.779304\n",
       " 15    cylinder_five    3.295890\n",
       " 9            subaru    2.994324\n",
       " 17  cylinder_twelve    2.961415\n",
       " 11         loc_rear    2.230934\n",
       " 12            dohcv    2.118952\n",
       " 10            volvo    1.821101\n",
       " 8              saab    1.338956\n",
       " 5               bmw    1.289125,\n",
       " Index([u'carwidth', u'curbweight', u'enginesize', u'boreratio', u'stroke',\n",
       "        u'bmw', u'peugeot', u'porsche', u'saab', u'subaru', u'volvo',\n",
       "        u'loc_rear', u'dohcv', u'l', u'rotor', u'cylinder_five',\n",
       "        u'cylinder_four', u'cylinder_twelve'],\n",
       "       dtype='object'))"
      ]
     },
     "execution_count": 976,
     "metadata": {},
     "output_type": "execute_result"
    }
   ],
   "source": [
    "# calculation of VIF, after removing some variables\n",
    "\n",
    "X_train_new = X_train_rfe.drop(['const'] , axis = 1)\n",
    "vif =pd.DataFrame()\n",
    "X = X_train_new\n",
    "vif['Features'] = X.columns\n",
    "vif['VIF'] = [variance_inflation_factor(X.values, i) for i in range(X.shape[1])]\n",
    "vif['VIF'] = vif['VIF']\n",
    "vif = vif.sort_values(by = \"VIF\", ascending = False)\n",
    "vif , X_train_new.columns\n",
    "\n",
    "#we can see some changes (significant) in WIF stats"
   ]
  },
  {
   "cell_type": "code",
   "execution_count": 977,
   "metadata": {},
   "outputs": [
    {
     "name": "stdout",
     "output_type": "stream",
     "text": [
      "                            OLS Regression Results                            \n",
      "==============================================================================\n",
      "Dep. Variable:                  price   R-squared:                       0.939\n",
      "Model:                            OLS   Adj. R-squared:                  0.931\n",
      "Method:                 Least Squares   F-statistic:                     113.2\n",
      "Date:                Mon, 28 Jan 2019   Prob (F-statistic):           2.59e-67\n",
      "Time:                        04:12:41   Log-Likelihood:                -1284.1\n",
      "No. Observations:                 143   AIC:                             2604.\n",
      "Df Residuals:                     125   BIC:                             2658.\n",
      "Df Model:                          17                                         \n",
      "Covariance Type:            nonrobust                                         \n",
      "===================================================================================\n",
      "                      coef    std err          t      P>|t|      [0.025      0.975]\n",
      "-----------------------------------------------------------------------------------\n",
      "const           -5022.0848   1530.792     -3.281      0.001   -8051.712   -1992.458\n",
      "curbweight       1.453e+04   2757.450      5.270      0.000    9074.821       2e+04\n",
      "enginesize       6.342e+04   6713.722      9.446      0.000    5.01e+04    7.67e+04\n",
      "boreratio        -1.85e+04   2644.856     -6.996      0.000   -2.37e+04   -1.33e+04\n",
      "stroke          -8299.1972   1816.624     -4.568      0.000   -1.19e+04   -4703.874\n",
      "bmw               1.12e+04   1045.834     10.708      0.000    9128.657    1.33e+04\n",
      "peugeot         -1.755e+04   3052.684     -5.748      0.000   -2.36e+04   -1.15e+04\n",
      "porsche          9887.7207   2266.740      4.362      0.000    5401.561    1.44e+04\n",
      "saab             4467.4394   1365.485      3.272      0.001    1764.976    7169.903\n",
      "subaru           2813.9229   1171.166      2.403      0.018     496.040    5131.806\n",
      "volvo            5411.6336   1107.833      4.885      0.000    3219.095    7604.172\n",
      "loc_rear         8728.1940   3035.638      2.875      0.005    2720.289    1.47e+04\n",
      "dohcv            4325.5908   2986.022      1.449      0.150   -1584.117    1.02e+04\n",
      "l                1.707e+04   2836.044      6.020      0.000    1.15e+04    2.27e+04\n",
      "rotor             2.41e+04   2811.567      8.570      0.000    1.85e+04    2.97e+04\n",
      "cylinder_five    1.025e+04   1282.565      7.991      0.000    7710.225    1.28e+04\n",
      "cylinder_four     1.07e+04   1586.054      6.748      0.000    7563.057    1.38e+04\n",
      "cylinder_twelve -2.126e+04   3744.811     -5.676      0.000   -2.87e+04   -1.38e+04\n",
      "==============================================================================\n",
      "Omnibus:                       14.131   Durbin-Watson:                   1.834\n",
      "Prob(Omnibus):                  0.001   Jarque-Bera (JB):               23.390\n",
      "Skew:                           0.481   Prob(JB):                     8.34e-06\n",
      "Kurtosis:                       4.732   Cond. No.                         78.1\n",
      "==============================================================================\n",
      "\n",
      "Warnings:\n",
      "[1] Standard Errors assume that the covariance matrix of the errors is correctly specified.\n"
     ]
    }
   ],
   "source": [
    "# Removing car width due to high collinearity with enginesize, curbweight, boreratio\n",
    "# Model 4\n",
    "X_train_rfe.drop(['carwidth'], axis = 1 , inplace = True)\n",
    "X_train_rfe = sm.add_constant(X_train_rfe)\n",
    "lm = sm.OLS(y_train,X_train_rfe).fit()\n",
    "print(lm.summary())\n",
    "\n",
    "# some reducntion in R sqaure anad F stats"
   ]
  },
  {
   "cell_type": "code",
   "execution_count": 978,
   "metadata": {},
   "outputs": [
    {
     "data": {
      "text/plain": [
       "(           Features        VIF\n",
       " 1        enginesize  93.630556\n",
       " 0        curbweight  53.452305\n",
       " 2         boreratio  51.789334\n",
       " 3            stroke  34.238252\n",
       " 15    cylinder_four  24.765895\n",
       " 5           peugeot  11.907050\n",
       " 12                l  11.172414\n",
       " 13            rotor   4.348019\n",
       " 6           porsche   3.623569\n",
       " 16  cylinder_twelve   2.905496\n",
       " 8            subaru   2.829839\n",
       " 14    cylinder_five   2.499110\n",
       " 10         loc_rear   2.120863\n",
       " 11            dohcv   2.052199\n",
       " 9             volvo   1.635372\n",
       " 7              saab   1.305410\n",
       " 4               bmw   1.285463,\n",
       " Index([u'curbweight', u'enginesize', u'boreratio', u'stroke', u'bmw',\n",
       "        u'peugeot', u'porsche', u'saab', u'subaru', u'volvo', u'loc_rear',\n",
       "        u'dohcv', u'l', u'rotor', u'cylinder_five', u'cylinder_four',\n",
       "        u'cylinder_twelve'],\n",
       "       dtype='object'))"
      ]
     },
     "execution_count": 978,
     "metadata": {},
     "output_type": "execute_result"
    }
   ],
   "source": [
    "# redunction ing VIF stats\n",
    "\n",
    "X_train_new = X_train_rfe.drop(['const'] , axis = 1)\n",
    "vif =pd.DataFrame()\n",
    "X = X_train_new\n",
    "vif['Features'] = X.columns\n",
    "vif['VIF'] = [variance_inflation_factor(X.values, i) for i in range(X.shape[1])]\n",
    "vif['VIF'] = vif['VIF']\n",
    "vif = vif.sort_values(by = \"VIF\", ascending = False)\n",
    "vif , X_train_new.columns"
   ]
  },
  {
   "cell_type": "code",
   "execution_count": 979,
   "metadata": {},
   "outputs": [
    {
     "name": "stdout",
     "output_type": "stream",
     "text": [
      "                            OLS Regression Results                            \n",
      "==============================================================================\n",
      "Dep. Variable:                  price   R-squared:                       0.921\n",
      "Model:                            OLS   Adj. R-squared:                  0.911\n",
      "Method:                 Least Squares   F-statistic:                     92.22\n",
      "Date:                Mon, 28 Jan 2019   Prob (F-statistic):           1.87e-61\n",
      "Time:                        04:12:41   Log-Likelihood:                -1302.3\n",
      "No. Observations:                 143   AIC:                             2639.\n",
      "Df Residuals:                     126   BIC:                             2689.\n",
      "Df Model:                          16                                         \n",
      "Covariance Type:            nonrobust                                         \n",
      "===================================================================================\n",
      "                      coef    std err          t      P>|t|      [0.025      0.975]\n",
      "-----------------------------------------------------------------------------------\n",
      "const             415.2539   1398.041      0.297      0.767   -2351.428    3181.936\n",
      "curbweight       1.381e+04   3116.288      4.431      0.000    7640.907       2e+04\n",
      "enginesize       4.245e+04   6492.287      6.538      0.000    2.96e+04    5.53e+04\n",
      "boreratio       -1.028e+04   2562.036     -4.013      0.000   -1.54e+04   -5211.410\n",
      "stroke          -5542.1276   1988.596     -2.787      0.006   -9477.501   -1606.754\n",
      "bmw              9457.3711   1136.913      8.318      0.000    7207.454    1.17e+04\n",
      "peugeot          -385.5627   1235.039     -0.312      0.755   -2829.669    2058.543\n",
      "porsche          8841.2499   2556.610      3.458      0.001    3781.794    1.39e+04\n",
      "saab             3706.2897   1538.015      2.410      0.017     662.604    6749.976\n",
      "subaru            936.0070   1276.968      0.733      0.465   -1591.076    3463.090\n",
      "volvo            4067.4022   1227.468      3.314      0.001    1638.278    6496.526\n",
      "loc_rear         7312.2091   3423.623      2.136      0.035     536.960    1.41e+04\n",
      "dohcv            2195.6352   3354.022      0.655      0.514   -4441.875    8833.146\n",
      "rotor             1.41e+04   2566.943      5.494      0.000    9022.708    1.92e+04\n",
      "cylinder_five    6468.4960   1265.048      5.113      0.000    3965.003    8971.989\n",
      "cylinder_four    4292.1704   1329.671      3.228      0.002    1660.791    6923.550\n",
      "cylinder_twelve -1.144e+04   3813.255     -3.000      0.003    -1.9e+04   -3891.775\n",
      "==============================================================================\n",
      "Omnibus:                       29.229   Durbin-Watson:                   1.962\n",
      "Prob(Omnibus):                  0.000   Jarque-Bera (JB):               71.754\n",
      "Skew:                           0.810   Prob(JB):                     2.62e-16\n",
      "Kurtosis:                       6.069   Cond. No.                         64.2\n",
      "==============================================================================\n",
      "\n",
      "Warnings:\n",
      "[1] Standard Errors assume that the covariance matrix of the errors is correctly specified.\n"
     ]
    }
   ],
   "source": [
    "#Model 6\n",
    "\n",
    "X_train_rfe.drop(['l'], axis = 1 , inplace = True)\n",
    "X_train_rfe = sm.add_constant(X_train_rfe)\n",
    "lm = sm.OLS(y_train,X_train_rfe).fit()\n",
    "print(lm.summary())\n",
    "\n",
    "# not so significaftn reduction in R-sqaured"
   ]
  },
  {
   "cell_type": "code",
   "execution_count": 980,
   "metadata": {},
   "outputs": [
    {
     "data": {
      "text/plain": [
       "(           Features        VIF\n",
       " 1        enginesize  84.101303\n",
       " 0        curbweight  53.388756\n",
       " 2         boreratio  46.544356\n",
       " 3            stroke  28.538138\n",
       " 14    cylinder_four  20.438245\n",
       " 12            rotor   3.849418\n",
       " 6           porsche   3.619619\n",
       " 8            subaru   2.829800\n",
       " 15  cylinder_twelve   2.643180\n",
       " 13    cylinder_five   2.337314\n",
       " 5           peugeot   2.247731\n",
       " 10         loc_rear   2.119345\n",
       " 11            dohcv   2.050930\n",
       " 9             volvo   1.627416\n",
       " 7              saab   1.304448\n",
       " 4               bmw   1.283128,\n",
       " Index([u'curbweight', u'enginesize', u'boreratio', u'stroke', u'bmw',\n",
       "        u'peugeot', u'porsche', u'saab', u'subaru', u'volvo', u'loc_rear',\n",
       "        u'dohcv', u'rotor', u'cylinder_five', u'cylinder_four',\n",
       "        u'cylinder_twelve'],\n",
       "       dtype='object'))"
      ]
     },
     "execution_count": 980,
     "metadata": {},
     "output_type": "execute_result"
    }
   ],
   "source": [
    "# VIF fr model 5\n",
    "X_train_new = X_train_rfe.drop(['const'] , axis = 1)\n",
    "vif =pd.DataFrame()\n",
    "X = X_train_new\n",
    "vif['Features'] = X.columns\n",
    "vif['VIF'] = [variance_inflation_factor(X.values, i) for i in range(X.shape[1])]\n",
    "vif['VIF'] = vif['VIF']\n",
    "vif = vif.sort_values(by = \"VIF\", ascending = False)\n",
    "vif , X_train_new.columns"
   ]
  },
  {
   "cell_type": "code",
   "execution_count": 981,
   "metadata": {},
   "outputs": [
    {
     "name": "stdout",
     "output_type": "stream",
     "text": [
      "                            OLS Regression Results                            \n",
      "==============================================================================\n",
      "Dep. Variable:                  price   R-squared:                       0.921\n",
      "Model:                            OLS   Adj. R-squared:                  0.912\n",
      "Method:                 Least Squares   F-statistic:                     99.07\n",
      "Date:                Mon, 28 Jan 2019   Prob (F-statistic):           1.93e-62\n",
      "Time:                        04:12:41   Log-Likelihood:                -1302.4\n",
      "No. Observations:                 143   AIC:                             2637.\n",
      "Df Residuals:                     127   BIC:                             2684.\n",
      "Df Model:                          15                                         \n",
      "Covariance Type:            nonrobust                                         \n",
      "===================================================================================\n",
      "                      coef    std err          t      P>|t|      [0.025      0.975]\n",
      "-----------------------------------------------------------------------------------\n",
      "const             444.6756   1389.896      0.320      0.750   -2305.677    3195.028\n",
      "curbweight       1.325e+04   2542.489      5.211      0.000    8218.303    1.83e+04\n",
      "enginesize       4.334e+04   5810.288      7.459      0.000    3.18e+04    5.48e+04\n",
      "boreratio       -1.053e+04   2431.206     -4.329      0.000   -1.53e+04   -5714.705\n",
      "stroke          -5489.7657   1974.457     -2.780      0.006   -9396.860   -1582.672\n",
      "bmw              9500.6038   1124.431      8.449      0.000    7275.559    1.17e+04\n",
      "porsche          8982.6042   2507.238      3.583      0.000    4021.232    1.39e+04\n",
      "saab             3866.9952   1444.150      2.678      0.008    1009.283    6724.708\n",
      "subaru           1077.9224   1189.067      0.907      0.366   -1275.027    3430.872\n",
      "volvo            4227.3120   1111.513      3.803      0.000    2027.828    6426.796\n",
      "loc_rear         7155.3878   3374.515      2.120      0.036     477.832    1.38e+04\n",
      "dohcv            2173.8832   3341.361      0.651      0.516   -4438.068    8785.834\n",
      "rotor            1.433e+04   2450.532      5.849      0.000    9483.094    1.92e+04\n",
      "cylinder_five    6577.0433   1211.998      5.427      0.000    4178.719    8975.368\n",
      "cylinder_four    4317.8992   1322.390      3.265      0.001    1701.127    6934.671\n",
      "cylinder_twelve -1.167e+04   3724.447     -3.134      0.002    -1.9e+04   -4303.806\n",
      "==============================================================================\n",
      "Omnibus:                       29.533   Durbin-Watson:                   1.963\n",
      "Prob(Omnibus):                  0.000   Jarque-Bera (JB):               71.529\n",
      "Skew:                           0.824   Prob(JB):                     2.94e-16\n",
      "Kurtosis:                       6.047   Cond. No.                         58.0\n",
      "==============================================================================\n",
      "\n",
      "Warnings:\n",
      "[1] Standard Errors assume that the covariance matrix of the errors is correctly specified.\n"
     ]
    }
   ],
   "source": [
    "# removing peugot because of high correlation, Modle 6\n",
    "X_train_rfe.drop(['peugeot'], axis = 1 , inplace = True)\n",
    "X_train_rfe = sm.add_constant(X_train_rfe)\n",
    "lm = sm.OLS(y_train,X_train_rfe).fit()\n",
    "print(lm.summary())\n",
    "\n",
    "# not so significant changes in model stats."
   ]
  },
  {
   "cell_type": "code",
   "execution_count": 982,
   "metadata": {},
   "outputs": [
    {
     "data": {
      "text/plain": [
       "(           Features        VIF\n",
       " 1        enginesize  64.764756\n",
       " 2         boreratio  41.226248\n",
       " 0        curbweight  35.955723\n",
       " 3            stroke  28.155675\n",
       " 13    cylinder_four  20.052850\n",
       " 5           porsche   3.500955\n",
       " 11            rotor   3.355497\n",
       " 14  cylinder_twelve   2.527398\n",
       " 7            subaru   2.343577\n",
       " 12    cylinder_five   2.098763\n",
       " 9          loc_rear   2.078728\n",
       " 10            dohcv   2.050599\n",
       " 8             volvo   1.319005\n",
       " 4               bmw   1.253341\n",
       " 6              saab   1.151788,\n",
       " Index([u'curbweight', u'enginesize', u'boreratio', u'stroke', u'bmw',\n",
       "        u'porsche', u'saab', u'subaru', u'volvo', u'loc_rear', u'dohcv',\n",
       "        u'rotor', u'cylinder_five', u'cylinder_four', u'cylinder_twelve'],\n",
       "       dtype='object'))"
      ]
     },
     "execution_count": 982,
     "metadata": {},
     "output_type": "execute_result"
    }
   ],
   "source": [
    "# VIF for Model 6\n",
    "\n",
    "X_train_new = X_train_rfe.drop(['const'] , axis = 1)\n",
    "vif =pd.DataFrame()\n",
    "X = X_train_new\n",
    "vif['Features'] = X.columns\n",
    "vif['VIF'] = [variance_inflation_factor(X.values, i) for i in range(X.shape[1])]\n",
    "vif['VIF'] = vif['VIF']\n",
    "vif = vif.sort_values(by = \"VIF\", ascending = False)\n",
    "vif , X_train_new.columns"
   ]
  },
  {
   "cell_type": "code",
   "execution_count": 983,
   "metadata": {},
   "outputs": [
    {
     "name": "stdout",
     "output_type": "stream",
     "text": [
      "                            OLS Regression Results                            \n",
      "==============================================================================\n",
      "Dep. Variable:                  price   R-squared:                       0.921\n",
      "Model:                            OLS   Adj. R-squared:                  0.912\n",
      "Method:                 Least Squares   F-statistic:                     106.6\n",
      "Date:                Mon, 28 Jan 2019   Prob (F-statistic):           2.26e-63\n",
      "Time:                        04:12:41   Log-Likelihood:                -1302.6\n",
      "No. Observations:                 143   AIC:                             2635.\n",
      "Df Residuals:                     128   BIC:                             2680.\n",
      "Df Model:                          14                                         \n",
      "Covariance Type:            nonrobust                                         \n",
      "===================================================================================\n",
      "                      coef    std err          t      P>|t|      [0.025      0.975]\n",
      "-----------------------------------------------------------------------------------\n",
      "const             553.4883   1376.684      0.402      0.688   -2170.517    3277.493\n",
      "curbweight       1.326e+04   2536.678      5.228      0.000    8243.035    1.83e+04\n",
      "enginesize       4.312e+04   5787.281      7.451      0.000    3.17e+04    5.46e+04\n",
      "boreratio       -1.045e+04   2423.025     -4.313      0.000   -1.52e+04   -5656.679\n",
      "stroke          -5471.8036   1969.811     -2.778      0.006   -9369.412   -1574.196\n",
      "bmw              9441.3977   1118.214      8.443      0.000    7228.820    1.17e+04\n",
      "porsche          1.003e+04   1919.102      5.226      0.000    6231.690    1.38e+04\n",
      "saab             3867.7339   1440.893      2.684      0.008    1016.682    6718.786\n",
      "subaru           1068.5404   1186.298      0.901      0.369   -1278.753    3415.834\n",
      "volvo            4201.4004   1108.294      3.791      0.000    2008.451    6394.350\n",
      "loc_rear         6035.5591   2895.990      2.084      0.039     305.347    1.18e+04\n",
      "rotor            1.418e+04   2433.873      5.826      0.000    9364.456     1.9e+04\n",
      "cylinder_five    6485.9734   1201.172      5.400      0.000    4109.250    8862.697\n",
      "cylinder_four    4193.1532   1305.465      3.212      0.002    1610.068    6776.238\n",
      "cylinder_twelve -1.163e+04   3715.443     -3.130      0.002    -1.9e+04   -4278.487\n",
      "==============================================================================\n",
      "Omnibus:                       28.023   Durbin-Watson:                   1.974\n",
      "Prob(Omnibus):                  0.000   Jarque-Bera (JB):               66.052\n",
      "Skew:                           0.790   Prob(JB):                     4.54e-15\n",
      "Kurtosis:                       5.930   Cond. No.                         57.9\n",
      "==============================================================================\n",
      "\n",
      "Warnings:\n",
      "[1] Standard Errors assume that the covariance matrix of the errors is correctly specified.\n"
     ]
    }
   ],
   "source": [
    "#remving dohcv  as p value > 0.5, model 7\n",
    "X_train_rfe.drop(['dohcv'], axis = 1 , inplace = True)\n",
    "X_train_rfe = sm.add_constant(X_train_rfe)\n",
    "lm = sm.OLS(y_train,X_train_rfe).fit()\n",
    "print(lm.summary())"
   ]
  },
  {
   "cell_type": "code",
   "execution_count": 984,
   "metadata": {},
   "outputs": [
    {
     "data": {
      "text/plain": [
       "(           Features        VIF\n",
       " 1        enginesize  64.744656\n",
       " 2         boreratio  41.222288\n",
       " 0        curbweight  35.941826\n",
       " 3            stroke  28.047828\n",
       " 12    cylinder_four  19.895239\n",
       " 10            rotor   3.349901\n",
       " 13  cylinder_twelve   2.527398\n",
       " 7            subaru   2.338747\n",
       " 11    cylinder_five   2.086801\n",
       " 5           porsche   1.998972\n",
       " 9          loc_rear   1.555684\n",
       " 8             volvo   1.318858\n",
       " 4               bmw   1.251001\n",
       " 6              saab   1.151553,\n",
       " Index([u'curbweight', u'enginesize', u'boreratio', u'stroke', u'bmw',\n",
       "        u'porsche', u'saab', u'subaru', u'volvo', u'loc_rear', u'rotor',\n",
       "        u'cylinder_five', u'cylinder_four', u'cylinder_twelve'],\n",
       "       dtype='object'))"
      ]
     },
     "execution_count": 984,
     "metadata": {},
     "output_type": "execute_result"
    }
   ],
   "source": [
    "# Calculating of VIF for model 7\n",
    "\n",
    "from statsmodels.stats.outliers_influence import variance_inflation_factor\n",
    "\n",
    "X_train_new = X_train_rfe.drop(['const'] , axis = 1)\n",
    "vif =pd.DataFrame()\n",
    "X = X_train_new\n",
    "vif['Features'] = X.columns\n",
    "vif['VIF'] = [variance_inflation_factor(X.values, i) for i in range(X.shape[1])]\n",
    "vif['VIF'] = vif['VIF']\n",
    "vif = vif.sort_values(by = \"VIF\", ascending = False)\n",
    "vif , X_train_new.columns\n"
   ]
  },
  {
   "cell_type": "code",
   "execution_count": 985,
   "metadata": {},
   "outputs": [
    {
     "name": "stdout",
     "output_type": "stream",
     "text": [
      "                            OLS Regression Results                            \n",
      "==============================================================================\n",
      "Dep. Variable:                  price   R-squared:                       0.915\n",
      "Model:                            OLS   Adj. R-squared:                  0.906\n",
      "Method:                 Least Squares   F-statistic:                     106.3\n",
      "Date:                Mon, 28 Jan 2019   Prob (F-statistic):           2.94e-62\n",
      "Time:                        04:12:42   Log-Likelihood:                -1308.1\n",
      "No. Observations:                 143   AIC:                             2644.\n",
      "Df Residuals:                     129   BIC:                             2686.\n",
      "Df Model:                          13                                         \n",
      "Covariance Type:            nonrobust                                         \n",
      "===================================================================================\n",
      "                      coef    std err          t      P>|t|      [0.025      0.975]\n",
      "-----------------------------------------------------------------------------------\n",
      "const            3390.8278   1093.374      3.101      0.002    1227.560    5554.096\n",
      "curbweight       1.375e+04   2621.909      5.246      0.000    8565.938    1.89e+04\n",
      "enginesize       2.887e+04   3846.882      7.504      0.000    2.13e+04    3.65e+04\n",
      "boreratio       -4930.8770   1768.656     -2.788      0.006   -8430.207   -1431.547\n",
      "stroke          -3113.8466   1892.765     -1.645      0.102   -6858.729     631.036\n",
      "bmw              8321.1386   1100.129      7.564      0.000    6144.506    1.05e+04\n",
      "porsche          8609.7103   1933.807      4.452      0.000    4783.626    1.24e+04\n",
      "saab             3393.6811   1484.172      2.287      0.024     457.211    6330.152\n",
      "subaru            115.5462   1189.352      0.097      0.923   -2237.615    2468.708\n",
      "volvo            3257.5947   1106.550      2.944      0.004    1068.257    5446.932\n",
      "loc_rear         6039.8399   2998.748      2.014      0.046     106.744     1.2e+04\n",
      "rotor            7669.5798   1395.033      5.498      0.000    4909.473    1.04e+04\n",
      "cylinder_five    3874.2241    915.478      4.232      0.000    2062.929    5685.519\n",
      "cylinder_twelve -5129.9862   3226.511     -1.590      0.114   -1.15e+04    1253.745\n",
      "==============================================================================\n",
      "Omnibus:                       12.119   Durbin-Watson:                   2.111\n",
      "Prob(Omnibus):                  0.002   Jarque-Bera (JB):               26.599\n",
      "Skew:                           0.267   Prob(JB):                     1.68e-06\n",
      "Kurtosis:                       5.044   Cond. No.                         34.3\n",
      "==============================================================================\n",
      "\n",
      "Warnings:\n",
      "[1] Standard Errors assume that the covariance matrix of the errors is correctly specified.\n"
     ]
    }
   ],
   "source": [
    "#dropping highVIF values and  correlation, model 8\n",
    "\n",
    "X_train_rfe.drop(['cylinder_four'], axis = 1 , inplace = True)\n",
    "X_train_rfe = sm.add_constant(X_train_rfe)\n",
    "lm = sm.OLS(y_train,X_train_rfe).fit()\n",
    "print(lm.summary())"
   ]
  },
  {
   "cell_type": "code",
   "execution_count": 986,
   "metadata": {},
   "outputs": [
    {
     "data": {
      "text/plain": [
       "(           Features        VIF\n",
       " 0        curbweight  35.001101\n",
       " 1        enginesize  27.608710\n",
       " 2         boreratio  21.103676\n",
       " 3            stroke   7.819084\n",
       " 7            subaru   2.333769\n",
       " 5           porsche   1.954362\n",
       " 12  cylinder_twelve   1.640082\n",
       " 9          loc_rear   1.545453\n",
       " 10            rotor   1.347349\n",
       " 11    cylinder_five   1.303045\n",
       " 8             volvo   1.279001\n",
       " 4               bmw   1.227241\n",
       " 6              saab   1.149660,\n",
       " Index([u'curbweight', u'enginesize', u'boreratio', u'stroke', u'bmw',\n",
       "        u'porsche', u'saab', u'subaru', u'volvo', u'loc_rear', u'rotor',\n",
       "        u'cylinder_five', u'cylinder_twelve'],\n",
       "       dtype='object'))"
      ]
     },
     "execution_count": 986,
     "metadata": {},
     "output_type": "execute_result"
    }
   ],
   "source": [
    "#VIF for model 8\n",
    "\n",
    "X_train_new = X_train_rfe.drop(['const'] , axis = 1)\n",
    "vif =pd.DataFrame()\n",
    "X = X_train_new\n",
    "vif['Features'] = X.columns\n",
    "vif['VIF'] = [variance_inflation_factor(X.values, i) for i in range(X.shape[1])]\n",
    "vif['VIF'] = vif['VIF']\n",
    "vif = vif.sort_values(by = \"VIF\", ascending = False)\n",
    "vif , X_train_new.columns"
   ]
  },
  {
   "cell_type": "code",
   "execution_count": 987,
   "metadata": {},
   "outputs": [
    {
     "name": "stdout",
     "output_type": "stream",
     "text": [
      "                            OLS Regression Results                            \n",
      "==============================================================================\n",
      "Dep. Variable:                  price   R-squared:                       0.912\n",
      "Model:                            OLS   Adj. R-squared:                  0.904\n",
      "Method:                 Least Squares   F-statistic:                     112.2\n",
      "Date:                Mon, 28 Jan 2019   Prob (F-statistic):           1.97e-62\n",
      "Time:                        04:12:42   Log-Likelihood:                -1310.4\n",
      "No. Observations:                 143   AIC:                             2647.\n",
      "Df Residuals:                     130   BIC:                             2685.\n",
      "Df Model:                          12                                         \n",
      "Covariance Type:            nonrobust                                         \n",
      "===================================================================================\n",
      "                      coef    std err          t      P>|t|      [0.025      0.975]\n",
      "-----------------------------------------------------------------------------------\n",
      "const            3666.6696   1097.442      3.341      0.001    1495.512    5837.828\n",
      "curbweight       1.296e+04   2622.415      4.942      0.000    7771.512    1.81e+04\n",
      "enginesize       3.038e+04   3816.408      7.962      0.000    2.28e+04    3.79e+04\n",
      "boreratio       -5128.8993   1786.562     -2.871      0.005   -8663.398   -1594.400\n",
      "stroke          -3523.8892   1903.779     -1.851      0.066   -7290.289     242.510\n",
      "bmw              8206.2516   1111.491      7.383      0.000    6007.300    1.04e+04\n",
      "porsche          1.047e+04   1719.103      6.090      0.000    7067.984    1.39e+04\n",
      "saab             3481.4344   1500.872      2.320      0.022     512.138    6450.730\n",
      "subaru             68.9964   1203.026      0.057      0.954   -2311.046    2449.039\n",
      "volvo            3321.3381   1119.026      2.968      0.004    1107.479    5535.197\n",
      "rotor            7934.8464   1405.034      5.647      0.000    5155.154    1.07e+04\n",
      "cylinder_five    3951.0966    925.373      4.270      0.000    2120.357    5781.836\n",
      "cylinder_twelve -5912.6658   3240.462     -1.825      0.070   -1.23e+04     498.201\n",
      "==============================================================================\n",
      "Omnibus:                       10.738   Durbin-Watson:                   2.151\n",
      "Prob(Omnibus):                  0.005   Jarque-Bera (JB):               21.497\n",
      "Skew:                           0.249   Prob(JB):                     2.15e-05\n",
      "Kurtosis:                       4.833   Cond. No.                         33.5\n",
      "==============================================================================\n",
      "\n",
      "Warnings:\n",
      "[1] Standard Errors assume that the covariance matrix of the errors is correctly specified.\n"
     ]
    }
   ],
   "source": [
    "# model 9, removing enginer location rear on the basis of correlation plot\n",
    "X_train_rfe.drop(['loc_rear'], axis = 1 , inplace = True)\n",
    "X_train_rfe = sm.add_constant(X_train_rfe)\n",
    "lm = sm.OLS(y_train,X_train_rfe).fit()\n",
    "print(lm.summary())"
   ]
  },
  {
   "cell_type": "code",
   "execution_count": 988,
   "metadata": {},
   "outputs": [
    {
     "data": {
      "text/plain": [
       "(           Features        VIF\n",
       " 0        curbweight  34.400361\n",
       " 1        enginesize  26.834141\n",
       " 2         boreratio  21.092070\n",
       " 3            stroke   7.819034\n",
       " 7            subaru   2.331667\n",
       " 11  cylinder_twelve   1.627880\n",
       " 5           porsche   1.489467\n",
       " 9             rotor   1.337898\n",
       " 10    cylinder_five   1.301935\n",
       " 8             volvo   1.277372\n",
       " 4               bmw   1.226126\n",
       " 6              saab   1.148067,\n",
       " Index([u'curbweight', u'enginesize', u'boreratio', u'stroke', u'bmw',\n",
       "        u'porsche', u'saab', u'subaru', u'volvo', u'rotor', u'cylinder_five',\n",
       "        u'cylinder_twelve'],\n",
       "       dtype='object'))"
      ]
     },
     "execution_count": 988,
     "metadata": {},
     "output_type": "execute_result"
    }
   ],
   "source": [
    "# VIF for model 9\n",
    "X_train_new = X_train_rfe.drop(['const'] , axis = 1)\n",
    "vif =pd.DataFrame()\n",
    "X = X_train_new\n",
    "vif['Features'] = X.columns\n",
    "vif['VIF'] = [variance_inflation_factor(X.values, i) for i in range(X.shape[1])]\n",
    "vif['VIF'] = vif['VIF']\n",
    "vif = vif.sort_values(by = \"VIF\", ascending = False)\n",
    "vif , X_train_new.columns"
   ]
  },
  {
   "cell_type": "code",
   "execution_count": 989,
   "metadata": {},
   "outputs": [
    {
     "name": "stdout",
     "output_type": "stream",
     "text": [
      "                            OLS Regression Results                            \n",
      "==============================================================================\n",
      "Dep. Variable:                  price   R-squared:                       0.906\n",
      "Model:                            OLS   Adj. R-squared:                  0.899\n",
      "Method:                 Least Squares   F-statistic:                     115.3\n",
      "Date:                Mon, 28 Jan 2019   Prob (F-statistic):           9.41e-62\n",
      "Time:                        04:12:42   Log-Likelihood:                -1314.7\n",
      "No. Observations:                 143   AIC:                             2653.\n",
      "Df Residuals:                     131   BIC:                             2689.\n",
      "Df Model:                          11                                         \n",
      "Covariance Type:            nonrobust                                         \n",
      "===================================================================================\n",
      "                      coef    std err          t      P>|t|      [0.025      0.975]\n",
      "-----------------------------------------------------------------------------------\n",
      "const            2847.0276   1088.548      2.615      0.010     693.621    5000.434\n",
      "curbweight        1.01e+04   2492.682      4.054      0.000    5173.422     1.5e+04\n",
      "enginesize       2.979e+04   3914.729      7.610      0.000     2.2e+04    3.75e+04\n",
      "stroke          -3890.9212   1951.277     -1.994      0.048   -7751.012     -30.831\n",
      "bmw              7980.1775   1138.930      7.007      0.000    5727.103    1.02e+04\n",
      "porsche          8498.5214   1619.107      5.249      0.000    5295.541    1.17e+04\n",
      "saab             2500.2163   1501.287      1.665      0.098    -469.687    5470.120\n",
      "subaru          -1831.1121   1031.983     -1.774      0.078   -3872.620     210.396\n",
      "volvo            2524.3050   1113.598      2.267      0.025     321.342    4727.268\n",
      "rotor            7354.2648   1428.317      5.149      0.000    4528.712    1.02e+04\n",
      "cylinder_five    4458.1608    933.129      4.778      0.000    2612.209    6304.113\n",
      "cylinder_twelve -5168.5000   3318.155     -1.558      0.122   -1.17e+04    1395.602\n",
      "==============================================================================\n",
      "Omnibus:                        8.234   Durbin-Watson:                   2.076\n",
      "Prob(Omnibus):                  0.016   Jarque-Bera (JB):               12.876\n",
      "Skew:                           0.251   Prob(JB):                      0.00160\n",
      "Kurtosis:                       4.382   Cond. No.                         31.0\n",
      "==============================================================================\n",
      "\n",
      "Warnings:\n",
      "[1] Standard Errors assume that the covariance matrix of the errors is correctly specified.\n"
     ]
    }
   ],
   "source": [
    "# model 10 , removed bore ratio because oh high correlation with engine size \n",
    "\n",
    "X_train_rfe.drop(['boreratio'], axis = 1 , inplace = True)\n",
    "X_train_rfe = sm.add_constant(X_train_rfe)\n",
    "lm = sm.OLS(y_train,X_train_rfe).fit()\n",
    "print(lm.summary())"
   ]
  },
  {
   "cell_type": "code",
   "execution_count": 990,
   "metadata": {},
   "outputs": [
    {
     "data": {
      "text/plain": [
       "(           Features        VIF\n",
       " 0        curbweight  27.656397\n",
       " 1        enginesize  26.822934\n",
       " 2            stroke   5.381842\n",
       " 10  cylinder_twelve   1.627876\n",
       " 8             rotor   1.316220\n",
       " 9     cylinder_five   1.235835\n",
       " 3               bmw   1.207825\n",
       " 4           porsche   1.187661\n",
       " 7             volvo   1.182140\n",
       " 6            subaru   1.108481\n",
       " 5              saab   1.074196,\n",
       " Index([u'curbweight', u'enginesize', u'stroke', u'bmw', u'porsche', u'saab',\n",
       "        u'subaru', u'volvo', u'rotor', u'cylinder_five', u'cylinder_twelve'],\n",
       "       dtype='object'))"
      ]
     },
     "execution_count": 990,
     "metadata": {},
     "output_type": "execute_result"
    }
   ],
   "source": [
    "# VIF for model 10 , we can see the stats (VID) is imroving\n",
    "X_train_new = X_train_rfe.drop(['const'] , axis = 1)\n",
    "vif =pd.DataFrame()\n",
    "X = X_train_new\n",
    "vif['Features'] = X.columns\n",
    "vif['VIF'] = [variance_inflation_factor(X.values, i) for i in range(X.shape[1])]\n",
    "vif['VIF'] = vif['VIF']\n",
    "vif = vif.sort_values(by = \"VIF\", ascending = False)\n",
    "vif , X_train_new.columns"
   ]
  },
  {
   "cell_type": "code",
   "execution_count": 991,
   "metadata": {},
   "outputs": [
    {
     "name": "stdout",
     "output_type": "stream",
     "text": [
      "                            OLS Regression Results                            \n",
      "==============================================================================\n",
      "Dep. Variable:                  price   R-squared:                       0.895\n",
      "Model:                            OLS   Adj. R-squared:                  0.887\n",
      "Method:                 Least Squares   F-statistic:                     112.1\n",
      "Date:                Mon, 28 Jan 2019   Prob (F-statistic):           1.88e-59\n",
      "Time:                        04:12:42   Log-Likelihood:                -1323.2\n",
      "No. Observations:                 143   AIC:                             2668.\n",
      "Df Residuals:                     132   BIC:                             2701.\n",
      "Df Model:                          10                                         \n",
      "Covariance Type:            nonrobust                                         \n",
      "===================================================================================\n",
      "                      coef    std err          t      P>|t|      [0.025      0.975]\n",
      "-----------------------------------------------------------------------------------\n",
      "const            4141.7198   1099.789      3.766      0.000    1966.229    6317.210\n",
      "enginesize       4.374e+04   1972.854     22.171      0.000    3.98e+04    4.76e+04\n",
      "stroke          -5072.0493   2039.067     -2.487      0.014   -9105.526   -1038.572\n",
      "bmw              7365.3928   1192.947      6.174      0.000    5005.625    9725.161\n",
      "porsche          7102.4571   1671.981      4.248      0.000    3795.114    1.04e+04\n",
      "saab             3535.7136   1563.484      2.261      0.025     442.987    6628.440\n",
      "subaru          -2020.3072   1089.525     -1.854      0.066   -4175.495     134.881\n",
      "volvo            3488.1028   1149.759      3.034      0.003    1213.767    5762.439\n",
      "rotor            9708.2614   1379.114      7.039      0.000    6980.237    1.24e+04\n",
      "cylinder_five    5585.2921    941.370      5.933      0.000    3723.169    7447.415\n",
      "cylinder_twelve -1.042e+04   3228.231     -3.228      0.002   -1.68e+04   -4036.182\n",
      "==============================================================================\n",
      "Omnibus:                        5.888   Durbin-Watson:                   2.084\n",
      "Prob(Omnibus):                  0.053   Jarque-Bera (JB):                8.334\n",
      "Skew:                           0.155   Prob(JB):                       0.0155\n",
      "Kurtosis:                       4.141   Cond. No.                         19.8\n",
      "==============================================================================\n",
      "\n",
      "Warnings:\n",
      "[1] Standard Errors assume that the covariance matrix of the errors is correctly specified.\n"
     ]
    }
   ],
   "source": [
    "# model 11 , removed bore ratio because oh high correlation with engine size\n",
    "X_train_rfe.drop(['curbweight'], axis = 1 , inplace = True)\n",
    "X_train_rfe = sm.add_constant(X_train_rfe)\n",
    "lm = sm.OLS(y_train,X_train_rfe).fit()\n",
    "print(lm.summary())"
   ]
  },
  {
   "cell_type": "code",
   "execution_count": 992,
   "metadata": {},
   "outputs": [
    {
     "data": {
      "text/plain": [
       "(          Features       VIF\n",
       " 0       enginesize  6.593516\n",
       " 1           stroke  4.994160\n",
       " 9  cylinder_twelve  1.446901\n",
       " 2              bmw  1.200187\n",
       " 3          porsche  1.161384\n",
       " 8    cylinder_five  1.147738\n",
       " 6            volvo  1.098594\n",
       " 7            rotor  1.093569\n",
       " 5           subaru  1.065686\n",
       " 4             saab  1.022121,\n",
       " Index([u'enginesize', u'stroke', u'bmw', u'porsche', u'saab', u'subaru',\n",
       "        u'volvo', u'rotor', u'cylinder_five', u'cylinder_twelve'],\n",
       "       dtype='object'))"
      ]
     },
     "execution_count": 992,
     "metadata": {},
     "output_type": "execute_result"
    }
   ],
   "source": [
    "X_train_new = X_train_rfe.drop(['const'] , axis = 1)\n",
    "vif =pd.DataFrame()\n",
    "X = X_train_new\n",
    "vif['Features'] = X.columns\n",
    "vif['VIF'] = [variance_inflation_factor(X.values, i) for i in range(X.shape[1])]\n",
    "vif['VIF'] = vif['VIF']\n",
    "vif = vif.sort_values(by = \"VIF\", ascending = False)\n",
    "vif , X_train_new.columns"
   ]
  },
  {
   "cell_type": "code",
   "execution_count": 993,
   "metadata": {},
   "outputs": [
    {
     "name": "stdout",
     "output_type": "stream",
     "text": [
      "                            OLS Regression Results                            \n",
      "==============================================================================\n",
      "Dep. Variable:                  price   R-squared:                       0.890\n",
      "Model:                            OLS   Adj. R-squared:                  0.882\n",
      "Method:                 Least Squares   F-statistic:                     119.2\n",
      "Date:                Mon, 28 Jan 2019   Prob (F-statistic):           3.35e-59\n",
      "Time:                        04:12:42   Log-Likelihood:                -1326.5\n",
      "No. Observations:                 143   AIC:                             2673.\n",
      "Df Residuals:                     133   BIC:                             2703.\n",
      "Df Model:                           9                                         \n",
      "Covariance Type:            nonrobust                                         \n",
      "===================================================================================\n",
      "                      coef    std err          t      P>|t|      [0.025      0.975]\n",
      "-----------------------------------------------------------------------------------\n",
      "const            1674.1408    483.972      3.459      0.001     716.862    2631.420\n",
      "enginesize       4.173e+04   1834.833     22.744      0.000    3.81e+04    4.54e+04\n",
      "bmw              8090.6289   1179.113      6.862      0.000    5758.390    1.04e+04\n",
      "porsche          8314.7337   1630.266      5.100      0.000    5090.130    1.15e+04\n",
      "saab             4203.7791   1569.993      2.678      0.008    1098.394    7309.165\n",
      "subaru           -291.6346    855.309     -0.341      0.734   -1983.404    1400.134\n",
      "volvo            4147.2005   1140.419      3.637      0.000    1891.495    6402.906\n",
      "rotor            9534.8494   1403.954      6.791      0.000    6757.882    1.23e+04\n",
      "cylinder_five    5427.0816    957.359      5.669      0.000    3533.462    7320.701\n",
      "cylinder_twelve -7406.1059   3049.693     -2.428      0.016   -1.34e+04   -1373.931\n",
      "==============================================================================\n",
      "Omnibus:                        5.096   Durbin-Watson:                   2.046\n",
      "Prob(Omnibus):                  0.078   Jarque-Bera (JB):                5.288\n",
      "Skew:                           0.277   Prob(JB):                       0.0711\n",
      "Kurtosis:                       3.762   Cond. No.                         15.1\n",
      "==============================================================================\n",
      "\n",
      "Warnings:\n",
      "[1] Standard Errors assume that the covariance matrix of the errors is correctly specified.\n"
     ]
    }
   ],
   "source": [
    "X_train_rfe.drop(['stroke'], axis = 1 , inplace = True)\n",
    "X_train_rfe = sm.add_constant(X_train_rfe)\n",
    "lm = sm.OLS(y_train,X_train_rfe).fit()\n",
    "print(lm.summary())"
   ]
  },
  {
   "cell_type": "code",
   "execution_count": 994,
   "metadata": {},
   "outputs": [
    {
     "data": {
      "text/plain": [
       "(          Features       VIF\n",
       " 0       enginesize  1.685193\n",
       " 7    cylinder_five  1.147736\n",
       " 1              bmw  1.145012\n",
       " 8  cylinder_twelve  1.143731\n",
       " 2          porsche  1.090892\n",
       " 5            volvo  1.086994\n",
       " 4           subaru  1.047640\n",
       " 3             saab  1.022105\n",
       " 6            rotor  1.001083,\n",
       " Index([u'enginesize', u'bmw', u'porsche', u'saab', u'subaru', u'volvo',\n",
       "        u'rotor', u'cylinder_five', u'cylinder_twelve'],\n",
       "       dtype='object'))"
      ]
     },
     "execution_count": 994,
     "metadata": {},
     "output_type": "execute_result"
    }
   ],
   "source": [
    "# VIF for model 11.\n",
    "X_train_new = X_train_rfe.drop(['const'] , axis = 1)\n",
    "vif =pd.DataFrame()\n",
    "X = X_train_new\n",
    "vif['Features'] = X.columns\n",
    "vif['VIF'] = [variance_inflation_factor(X.values, i) for i in range(X.shape[1])]\n",
    "vif['VIF'] = vif['VIF']\n",
    "vif = vif.sort_values(by = \"VIF\", ascending = False)\n",
    "vif , X_train_new.columns"
   ]
  },
  {
   "cell_type": "markdown",
   "metadata": {},
   "source": [
    "-- The best model till now, with VIF well below the limit of 5 and also the Pvalues stats also satisfy the 5% criteria."
   ]
  },
  {
   "cell_type": "code",
   "execution_count": 995,
   "metadata": {},
   "outputs": [
    {
     "data": {
      "text/plain": [
       "(     enginesize  bmw  porsche  saab  subaru  volvo  rotor  cylinder_five  \\\n",
       " 122    0.139623    0        0     0       0      0      0              0   \n",
       " 125    0.339623    0        1     0       0      0      0              0   \n",
       " 166    0.139623    0        0     0       0      0      0              0   \n",
       " 1      0.260377    0        0     0       0      0      0              0   \n",
       " 199    0.260377    0        0     0       0      1      0              0   \n",
       " \n",
       "      cylinder_twelve  \n",
       " 122                0  \n",
       " 125                0  \n",
       " 166                0  \n",
       " 1                  0  \n",
       " 199                0  ,)"
      ]
     },
     "execution_count": 995,
     "metadata": {},
     "output_type": "execute_result"
    }
   ],
   "source": [
    "X_train_new.head() , "
   ]
  },
  {
   "cell_type": "code",
   "execution_count": 996,
   "metadata": {},
   "outputs": [],
   "source": [
    "y_train_price = lm.predict(X_train_rfe)"
   ]
  },
  {
   "cell_type": "code",
   "execution_count": 997,
   "metadata": {},
   "outputs": [
    {
     "name": "stderr",
     "output_type": "stream",
     "text": [
      "C:\\Users\\Dell\\Anaconda2\\lib\\site-packages\\matplotlib\\axes\\_axes.py:6462: UserWarning: The 'normed' kwarg is deprecated, and has been replaced by the 'density' kwarg.\n",
      "  warnings.warn(\"The 'normed' kwarg is deprecated, and has been \"\n"
     ]
    },
    {
     "data": {
      "text/plain": [
       "Text(0.5,0,'Errors')"
      ]
     },
     "execution_count": 997,
     "metadata": {},
     "output_type": "execute_result"
    },
    {
     "data": {
      "image/png": "[encoded data removed]",
      "text/plain": [
       "<Figure size 432x288 with 1 Axes>"
      ]
     },
     "metadata": {},
     "output_type": "display_data"
    }
   ],
   "source": [
    "sns.distplot((y_train - y_train_price))\n",
    "plt.title('Error Histrogram')\n",
    "plt.xlabel('Errors') "
   ]
  },
  {
   "cell_type": "code",
   "execution_count": 998,
   "metadata": {},
   "outputs": [
    {
     "name": "stderr",
     "output_type": "stream",
     "text": [
      "C:\\Users\\Dell\\Anaconda2\\lib\\site-packages\\ipykernel_launcher.py:6: SettingWithCopyWarning: \n",
      "A value is trying to be set on a copy of a slice from a DataFrame.\n",
      "Try using .loc[row_indexer,col_indexer] = value instead\n",
      "\n",
      "See the caveats in the documentation: http://pandas.pydata.org/pandas-docs/stable/indexing.html#indexing-view-versus-copy\n",
      "  \n"
     ]
    },
    {
     "data": {
      "text/html": [
       "<div>\n",
       "<style scoped>\n",
       "    .dataframe tbody tr th:only-of-type {\n",
       "        vertical-align: middle;\n",
       "    }\n",
       "\n",
       "    .dataframe tbody tr th {\n",
       "        vertical-align: top;\n",
       "    }\n",
       "\n",
       "    .dataframe thead th {\n",
       "        text-align: right;\n",
       "    }\n",
       "</style>\n",
       "<table border=\"1\" class=\"dataframe\">\n",
       "  <thead>\n",
       "    <tr style=\"text-align: right;\">\n",
       "      <th></th>\n",
       "      <th>symboling</th>\n",
       "      <th>wheelbase</th>\n",
       "      <th>carlength</th>\n",
       "      <th>carwidth</th>\n",
       "      <th>carheight</th>\n",
       "      <th>curbweight</th>\n",
       "      <th>enginesize</th>\n",
       "      <th>boreratio</th>\n",
       "      <th>stroke</th>\n",
       "      <th>compressionratio</th>\n",
       "      <th>...</th>\n",
       "      <th>4bbl</th>\n",
       "      <th>idi</th>\n",
       "      <th>mfi</th>\n",
       "      <th>mpfi</th>\n",
       "      <th>spdi</th>\n",
       "      <th>spfi</th>\n",
       "      <th>hardtop</th>\n",
       "      <th>hatchback</th>\n",
       "      <th>sedan</th>\n",
       "      <th>wagon</th>\n",
       "    </tr>\n",
       "  </thead>\n",
       "  <tbody>\n",
       "    <tr>\n",
       "      <th>160</th>\n",
       "      <td>0</td>\n",
       "      <td>0.313793</td>\n",
       "      <td>0.409756</td>\n",
       "      <td>0.341667</td>\n",
       "      <td>0.460177</td>\n",
       "      <td>0.235066</td>\n",
       "      <td>0.139623</td>\n",
       "      <td>0.404762</td>\n",
       "      <td>0.424242</td>\n",
       "      <td>0.12500</td>\n",
       "      <td>...</td>\n",
       "      <td>0</td>\n",
       "      <td>0</td>\n",
       "      <td>0</td>\n",
       "      <td>0</td>\n",
       "      <td>0</td>\n",
       "      <td>0</td>\n",
       "      <td>0</td>\n",
       "      <td>0</td>\n",
       "      <td>1</td>\n",
       "      <td>0</td>\n",
       "    </tr>\n",
       "    <tr>\n",
       "      <th>186</th>\n",
       "      <td>2</td>\n",
       "      <td>0.368966</td>\n",
       "      <td>0.497561</td>\n",
       "      <td>0.433333</td>\n",
       "      <td>0.699115</td>\n",
       "      <td>0.305275</td>\n",
       "      <td>0.181132</td>\n",
       "      <td>0.404762</td>\n",
       "      <td>0.611111</td>\n",
       "      <td>0.12500</td>\n",
       "      <td>...</td>\n",
       "      <td>0</td>\n",
       "      <td>0</td>\n",
       "      <td>0</td>\n",
       "      <td>1</td>\n",
       "      <td>0</td>\n",
       "      <td>0</td>\n",
       "      <td>0</td>\n",
       "      <td>0</td>\n",
       "      <td>1</td>\n",
       "      <td>0</td>\n",
       "    </tr>\n",
       "    <tr>\n",
       "      <th>59</th>\n",
       "      <td>1</td>\n",
       "      <td>0.420690</td>\n",
       "      <td>0.596748</td>\n",
       "      <td>0.516667</td>\n",
       "      <td>0.522124</td>\n",
       "      <td>0.347944</td>\n",
       "      <td>0.230189</td>\n",
       "      <td>0.563492</td>\n",
       "      <td>0.606061</td>\n",
       "      <td>0.10000</td>\n",
       "      <td>...</td>\n",
       "      <td>0</td>\n",
       "      <td>0</td>\n",
       "      <td>0</td>\n",
       "      <td>0</td>\n",
       "      <td>0</td>\n",
       "      <td>0</td>\n",
       "      <td>0</td>\n",
       "      <td>1</td>\n",
       "      <td>0</td>\n",
       "      <td>0</td>\n",
       "    </tr>\n",
       "    <tr>\n",
       "      <th>165</th>\n",
       "      <td>1</td>\n",
       "      <td>0.272414</td>\n",
       "      <td>0.448780</td>\n",
       "      <td>0.308333</td>\n",
       "      <td>0.424779</td>\n",
       "      <td>0.301396</td>\n",
       "      <td>0.139623</td>\n",
       "      <td>0.444444</td>\n",
       "      <td>0.449495</td>\n",
       "      <td>0.15000</td>\n",
       "      <td>...</td>\n",
       "      <td>0</td>\n",
       "      <td>0</td>\n",
       "      <td>0</td>\n",
       "      <td>1</td>\n",
       "      <td>0</td>\n",
       "      <td>0</td>\n",
       "      <td>0</td>\n",
       "      <td>0</td>\n",
       "      <td>1</td>\n",
       "      <td>0</td>\n",
       "    </tr>\n",
       "    <tr>\n",
       "      <th>140</th>\n",
       "      <td>2</td>\n",
       "      <td>0.231034</td>\n",
       "      <td>0.263415</td>\n",
       "      <td>0.291667</td>\n",
       "      <td>0.699115</td>\n",
       "      <td>0.291699</td>\n",
       "      <td>0.177358</td>\n",
       "      <td>0.746032</td>\n",
       "      <td>0.227273</td>\n",
       "      <td>0.10625</td>\n",
       "      <td>...</td>\n",
       "      <td>0</td>\n",
       "      <td>0</td>\n",
       "      <td>0</td>\n",
       "      <td>0</td>\n",
       "      <td>0</td>\n",
       "      <td>0</td>\n",
       "      <td>0</td>\n",
       "      <td>1</td>\n",
       "      <td>0</td>\n",
       "      <td>0</td>\n",
       "    </tr>\n",
       "  </tbody>\n",
       "</table>\n",
       "<p>5 rows × 66 columns</p>\n",
       "</div>"
      ],
      "text/plain": [
       "     symboling  wheelbase  carlength  carwidth  carheight  curbweight  \\\n",
       "160          0   0.313793   0.409756  0.341667   0.460177    0.235066   \n",
       "186          2   0.368966   0.497561  0.433333   0.699115    0.305275   \n",
       "59           1   0.420690   0.596748  0.516667   0.522124    0.347944   \n",
       "165          1   0.272414   0.448780  0.308333   0.424779    0.301396   \n",
       "140          2   0.231034   0.263415  0.291667   0.699115    0.291699   \n",
       "\n",
       "     enginesize  boreratio    stroke  compressionratio  ...    4bbl  idi  mfi  \\\n",
       "160    0.139623   0.404762  0.424242           0.12500  ...       0    0    0   \n",
       "186    0.181132   0.404762  0.611111           0.12500  ...       0    0    0   \n",
       "59     0.230189   0.563492  0.606061           0.10000  ...       0    0    0   \n",
       "165    0.139623   0.444444  0.449495           0.15000  ...       0    0    0   \n",
       "140    0.177358   0.746032  0.227273           0.10625  ...       0    0    0   \n",
       "\n",
       "     mpfi  spdi  spfi  hardtop  hatchback  sedan  wagon  \n",
       "160     0     0     0        0          0      1      0  \n",
       "186     1     0     0        0          0      1      0  \n",
       "59      0     0     0        0          1      0      0  \n",
       "165     1     0     0        0          0      1      0  \n",
       "140     0     0     0        0          1      0      0  \n",
       "\n",
       "[5 rows x 66 columns]"
      ]
     },
     "execution_count": 998,
     "metadata": {},
     "output_type": "execute_result"
    }
   ],
   "source": [
    "# Tsting the model on TEST DATA\n",
    "\n",
    "\n",
    "# feature scaling on Test Data\n",
    "variables = ['wheelbase','carlength','carwidth','carheight','curbweight','enginesize','boreratio','stroke','compressionratio','horsepower','peakrpm','citympg','highwaympg']\n",
    "df_test[variables] = scaler.transform(df_test[variables])\n",
    "df_test.head()"
   ]
  },
  {
   "cell_type": "code",
   "execution_count": 999,
   "metadata": {},
   "outputs": [],
   "source": [
    "# Prepping the data\n",
    "\n",
    "y_test = df_test.pop('price')\n",
    "X_test = df_test"
   ]
  },
  {
   "cell_type": "code",
   "execution_count": 1000,
   "metadata": {},
   "outputs": [
    {
     "data": {
      "text/html": [
       "<div>\n",
       "<style scoped>\n",
       "    .dataframe tbody tr th:only-of-type {\n",
       "        vertical-align: middle;\n",
       "    }\n",
       "\n",
       "    .dataframe tbody tr th {\n",
       "        vertical-align: top;\n",
       "    }\n",
       "\n",
       "    .dataframe thead th {\n",
       "        text-align: right;\n",
       "    }\n",
       "</style>\n",
       "<table border=\"1\" class=\"dataframe\">\n",
       "  <thead>\n",
       "    <tr style=\"text-align: right;\">\n",
       "      <th></th>\n",
       "      <th>enginesize</th>\n",
       "      <th>bmw</th>\n",
       "      <th>porsche</th>\n",
       "      <th>saab</th>\n",
       "      <th>subaru</th>\n",
       "      <th>volvo</th>\n",
       "      <th>rotor</th>\n",
       "      <th>cylinder_five</th>\n",
       "      <th>cylinder_twelve</th>\n",
       "    </tr>\n",
       "  </thead>\n",
       "  <tbody>\n",
       "    <tr>\n",
       "      <th>160</th>\n",
       "      <td>0.139623</td>\n",
       "      <td>0</td>\n",
       "      <td>0</td>\n",
       "      <td>0</td>\n",
       "      <td>0</td>\n",
       "      <td>0</td>\n",
       "      <td>0</td>\n",
       "      <td>0</td>\n",
       "      <td>0</td>\n",
       "    </tr>\n",
       "    <tr>\n",
       "      <th>186</th>\n",
       "      <td>0.181132</td>\n",
       "      <td>0</td>\n",
       "      <td>0</td>\n",
       "      <td>0</td>\n",
       "      <td>0</td>\n",
       "      <td>0</td>\n",
       "      <td>0</td>\n",
       "      <td>0</td>\n",
       "      <td>0</td>\n",
       "    </tr>\n",
       "    <tr>\n",
       "      <th>59</th>\n",
       "      <td>0.230189</td>\n",
       "      <td>0</td>\n",
       "      <td>0</td>\n",
       "      <td>0</td>\n",
       "      <td>0</td>\n",
       "      <td>0</td>\n",
       "      <td>0</td>\n",
       "      <td>0</td>\n",
       "      <td>0</td>\n",
       "    </tr>\n",
       "    <tr>\n",
       "      <th>165</th>\n",
       "      <td>0.139623</td>\n",
       "      <td>0</td>\n",
       "      <td>0</td>\n",
       "      <td>0</td>\n",
       "      <td>0</td>\n",
       "      <td>0</td>\n",
       "      <td>0</td>\n",
       "      <td>0</td>\n",
       "      <td>0</td>\n",
       "    </tr>\n",
       "    <tr>\n",
       "      <th>140</th>\n",
       "      <td>0.177358</td>\n",
       "      <td>0</td>\n",
       "      <td>0</td>\n",
       "      <td>0</td>\n",
       "      <td>1</td>\n",
       "      <td>0</td>\n",
       "      <td>0</td>\n",
       "      <td>0</td>\n",
       "      <td>0</td>\n",
       "    </tr>\n",
       "  </tbody>\n",
       "</table>\n",
       "</div>"
      ],
      "text/plain": [
       "     enginesize  bmw  porsche  saab  subaru  volvo  rotor  cylinder_five  \\\n",
       "160    0.139623    0        0     0       0      0      0              0   \n",
       "186    0.181132    0        0     0       0      0      0              0   \n",
       "59     0.230189    0        0     0       0      0      0              0   \n",
       "165    0.139623    0        0     0       0      0      0              0   \n",
       "140    0.177358    0        0     0       1      0      0              0   \n",
       "\n",
       "     cylinder_twelve  \n",
       "160                0  \n",
       "186                0  \n",
       "59                 0  \n",
       "165                0  \n",
       "140                0  "
      ]
     },
     "execution_count": 1000,
     "metadata": {},
     "output_type": "execute_result"
    }
   ],
   "source": [
    "\n",
    "X_test_new = X_test[X_train_new.columns]\n",
    "X_test_new.head()"
   ]
  },
  {
   "cell_type": "code",
   "execution_count": 1001,
   "metadata": {},
   "outputs": [],
   "source": [
    "# Creating the model\n",
    "X_test_new = sm.add_constant(X_test_new)\n",
    "\n",
    "y_pred = lm.predict(X_test_new)"
   ]
  },
  {
   "cell_type": "code",
   "execution_count": 1002,
   "metadata": {},
   "outputs": [
    {
     "data": {
      "text/plain": [
       "Text(0,0.5,'y_pred')"
      ]
     },
     "execution_count": 1002,
     "metadata": {},
     "output_type": "execute_result"
    },
    {
     "data": {
      "image/png": "[encoded data removed]",
      "text/plain": [
       "<Figure size 432x288 with 1 Axes>"
      ]
     },
     "metadata": {},
     "output_type": "display_data"
    }
   ],
   "source": [
    "plt.scatter(y_test , y_pred)\n",
    "plt.title('y_test vs y_pred')\n",
    "plt.xlabel('y_test')\n",
    "plt.ylabel('y_pred')"
   ]
  },
  {
   "cell_type": "code",
   "execution_count": 1003,
   "metadata": {},
   "outputs": [
    {
     "data": {
      "text/plain": [
       "0.8627122806527359"
      ]
     },
     "execution_count": 1003,
     "metadata": {},
     "output_type": "execute_result"
    }
   ],
   "source": [
    "from sklearn.metrics import r2_score\n",
    "r2_score(y_test, y_pred)\n",
    "\n",
    "# Predicted R-squared values, it quite close to the value for train dataset, the adjusted R sqaure was 88 % for test dataset."
   ]
  },
  {
   "cell_type": "markdown",
   "metadata": {},
   "source": [
    "As we can see our test case R-square values is close to our predicted value on train dataset. Hence, the model is valid.\n",
    "\n",
    "The major factors affecting the model are:\n",
    "\n",
    "1. enginesize \n",
    "2. cylinder_five  \n",
    "3. bmw \n",
    "4. cylinder_twelve  \n",
    "5. peugeot  \n",
    "6. porsche  \n",
    "7. volvo \n",
    "8. subaru  \n",
    "9. saab  \n",
    "10.roto\n",
    "\n",
    "\n",
    "\n",
    "Some Observations:\n",
    "\n",
    "- I tried to remove enginesize. But while removing this variable, the whole model was affeted. Therefore decided to keep enginesize in model and becase of its high corrletaion with other variables ( carwidth etc) it can easily express other variables effect on models.\n",
    "\n",
    "- Based on the R sqaured stats for test data, the model can explain 89 % of the dataset variance.\n"
   ]
  },
  {
   "cell_type": "code",
   "execution_count": null,
   "metadata": {},
   "outputs": [],
   "source": []
  },
  {
   "cell_type": "code",
   "execution_count": null,
   "metadata": {},
   "outputs": [],
   "source": []
  },
  {
   "cell_type": "code",
   "execution_count": null,
   "metadata": {},
   "outputs": [],
   "source": []
  }
 ],
 "metadata": {
  "kernelspec": {
   "display_name": "Python 2",
   "language": "python",
   "name": "python2"
  },
  "language_info": {
   "codemirror_mode": {
    "name": "ipython",
    "version": 2
   },
   "file_extension": ".py",
   "mimetype": "text/x-python",
   "name": "python",
   "nbconvert_exporter": "python",
   "pygments_lexer": "ipython2",
   "version": "2.7.15"
  }
 },
 "nbformat": 4,
 "nbformat_minor": 2
}
